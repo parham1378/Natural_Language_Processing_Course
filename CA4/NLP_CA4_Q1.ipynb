{
  "cells": [
    {
      "cell_type": "markdown",
      "source": [
        "<div style=\"display:block;width:100%;margin:auto;\" direction=rtl align=center><br><br>\n",
        "    <div  style=\"width:100%;margin:100;display:block;background-color:#fff0;\"  display=block align=center>\n",
        "        <table style=\"border-style:hidden;border-collapse:collapse;\">\n",
        "            <tr>\n",
        "                <td  style=\"border: none!important;\">\n",
        "        <img width=130 align=right src=\"https://i.ibb.co/yXKQmtZ/logo1.png\" style=\"margin:0;\" />\n",
        "                </td>\n",
        "                <td style=\"text-align:center;border: none!important;\">\n",
        "                <h1 align=center><font size=5 color=\"#045F5F\"> <b>Natural Language Processing (Spring 2023)</b><br><br>CA4-Q1</i></font></h1>\n",
        "                </td>\n",
        "                <td style=\"border: none!important;\">\n",
        "        <img width=170 align=left  src=\"https://i.ibb.co/wLjqFkw/logo2.png\" style=\"margin:0;\" />\n",
        "                </td>\n",
        "            </tr>\n",
        "        </table>\n",
        "    \n",
        "</div>\n",
        "<br>\n",
        "<font size=3 color=\"#045F5F\">Parham Bicharanlu<br></font><br>\n",
        "<font size=3 color=\"#045F5F\">810100303<br></font><br>"
      ],
      "metadata": {
        "id": "mkHBBgs25dQ3"
      }
    },
    {
      "cell_type": "code",
      "execution_count": 1,
      "metadata": {
        "id": "BWsOK8wYmyBq"
      },
      "outputs": [],
      "source": [
        "\n",
        "import numpy as np # linear algebra\n",
        "import pandas as pd # data processing, CSV file I/O (e.g. pd.read_csv)\n",
        "import matplotlib.pyplot as plt\n",
        "from sklearn.metrics import accuracy_score, precision_score, recall_score, f1_score, confusion_matrix\n",
        "import seaborn as sns"
      ]
    },
    {
      "cell_type": "markdown",
      "metadata": {
        "id": "9XiPeX-_ZaHP"
      },
      "source": [
        "# Read and Preprocessing Data"
      ]
    },
    {
      "cell_type": "code",
      "execution_count": 2,
      "metadata": {
        "colab": {
          "base_uri": "https://localhost:8080/"
        },
        "id": "RLYhu0TB_nVy",
        "outputId": "e43b79bb-9e5d-4f71-98a7-1e080ead676b"
      },
      "outputs": [
        {
          "output_type": "stream",
          "name": "stdout",
          "text": [
            "Mounted at /content/drive\n"
          ]
        }
      ],
      "source": [
        "from google.colab import drive\n",
        "drive.mount('/content/drive')"
      ]
    },
    {
      "cell_type": "code",
      "execution_count": 3,
      "metadata": {
        "colab": {
          "base_uri": "https://localhost:8080/",
          "height": 589
        },
        "id": "jqcusJvQmyBw",
        "outputId": "30a02e46-d256-4250-dd19-298af88ded9e"
      },
      "outputs": [
        {
          "output_type": "execute_result",
          "data": {
            "text/plain": [
              "                                                premise  \\\n",
              "0     اولین انتقال و نفوذ طبیعی فرهنگ و تمدن اسلامی ...   \n",
              "1     اولین انتقال و نفوذ طبیعی فرهنگ و تمدن اسلامی ...   \n",
              "2     اولین انتقال و نفوذ طبیعی فرهنگ و تمدن اسلامی ...   \n",
              "3     ویژگی های هنر عصر اموی: ۱- تلفیقی بودن ۲- بازن...   \n",
              "4     ویژگی های هنر عصر اموی: ۱- تلفیقی بودن ۲- بازن...   \n",
              "...                                                 ...   \n",
              "7261  قانون اساسی جمهوری اسلامی ایران در سال ۱۳۵۸ تو...   \n",
              "7262  قانون اساسی جمهوری اسلامی ایران در سال ۱۳۵۸ تو...   \n",
              "7263  قانون اساسی جمهوری اسلامی ایران در سال ۱۳۵۸ تو...   \n",
              "7264  محاصره اقتصادی پیامبر (ص) و یارانش که در سال ه...   \n",
              "7265  محاصره اقتصادی پیامبر (ص) و یارانش که در سال ه...   \n",
              "\n",
              "                                             hypothesis label  \n",
              "0     نخستین انتقال و نفوذ طبیعی فرهنگ و تمدن اسلامی...     e  \n",
              "1     کانون های جغرافیایی مصر، اندلس و شام، نخستین ر...     c  \n",
              "2     سیسیل بعد از اسپانیا بزرگ ترین کانونی بود که ه...     n  \n",
              "3     نقاشی های تزئینی و تندیس های بی‌کیفیت، یکی از ...     e  \n",
              "4     با کیفیت بودن تندیس های دوره اموی، یکی از ویژگ...     c  \n",
              "...                                                 ...   ...  \n",
              "7261  تعداد فصول قانون اساسی ۱۴ و تعداد اصول آن ۱۷۷ ...     e  \n",
              "7262        قانون اساسی دارای ۲۵ فصل و ۱۷۵ اصل می باشد.     c  \n",
              "7263  در ۲۴ آبان ۵۸ کار تدوین قانون اساسی به پایان ر...     n  \n",
              "7264  حضرت محمد (ص) و یارانش از ششمین سال بعثت تا هش...     c  \n",
              "7265  در دوران محاصره اقتصادی رسول اکرم (ص) و پیروان...     n  \n",
              "\n",
              "[7266 rows x 3 columns]"
            ],
            "text/html": [
              "\n",
              "  <div id=\"df-b7ef9665-2aab-4613-89d2-db4bfa083ac5\">\n",
              "    <div class=\"colab-df-container\">\n",
              "      <div>\n",
              "<style scoped>\n",
              "    .dataframe tbody tr th:only-of-type {\n",
              "        vertical-align: middle;\n",
              "    }\n",
              "\n",
              "    .dataframe tbody tr th {\n",
              "        vertical-align: top;\n",
              "    }\n",
              "\n",
              "    .dataframe thead th {\n",
              "        text-align: right;\n",
              "    }\n",
              "</style>\n",
              "<table border=\"1\" class=\"dataframe\">\n",
              "  <thead>\n",
              "    <tr style=\"text-align: right;\">\n",
              "      <th></th>\n",
              "      <th>premise</th>\n",
              "      <th>hypothesis</th>\n",
              "      <th>label</th>\n",
              "    </tr>\n",
              "  </thead>\n",
              "  <tbody>\n",
              "    <tr>\n",
              "      <th>0</th>\n",
              "      <td>اولین انتقال و نفوذ طبیعی فرهنگ و تمدن اسلامی ...</td>\n",
              "      <td>نخستین انتقال و نفوذ طبیعی فرهنگ و تمدن اسلامی...</td>\n",
              "      <td>e</td>\n",
              "    </tr>\n",
              "    <tr>\n",
              "      <th>1</th>\n",
              "      <td>اولین انتقال و نفوذ طبیعی فرهنگ و تمدن اسلامی ...</td>\n",
              "      <td>کانون های جغرافیایی مصر، اندلس و شام، نخستین ر...</td>\n",
              "      <td>c</td>\n",
              "    </tr>\n",
              "    <tr>\n",
              "      <th>2</th>\n",
              "      <td>اولین انتقال و نفوذ طبیعی فرهنگ و تمدن اسلامی ...</td>\n",
              "      <td>سیسیل بعد از اسپانیا بزرگ ترین کانونی بود که ه...</td>\n",
              "      <td>n</td>\n",
              "    </tr>\n",
              "    <tr>\n",
              "      <th>3</th>\n",
              "      <td>ویژگی های هنر عصر اموی: ۱- تلفیقی بودن ۲- بازن...</td>\n",
              "      <td>نقاشی های تزئینی و تندیس های بی‌کیفیت، یکی از ...</td>\n",
              "      <td>e</td>\n",
              "    </tr>\n",
              "    <tr>\n",
              "      <th>4</th>\n",
              "      <td>ویژگی های هنر عصر اموی: ۱- تلفیقی بودن ۲- بازن...</td>\n",
              "      <td>با کیفیت بودن تندیس های دوره اموی، یکی از ویژگ...</td>\n",
              "      <td>c</td>\n",
              "    </tr>\n",
              "    <tr>\n",
              "      <th>...</th>\n",
              "      <td>...</td>\n",
              "      <td>...</td>\n",
              "      <td>...</td>\n",
              "    </tr>\n",
              "    <tr>\n",
              "      <th>7261</th>\n",
              "      <td>قانون اساسی جمهوری اسلامی ایران در سال ۱۳۵۸ تو...</td>\n",
              "      <td>تعداد فصول قانون اساسی ۱۴ و تعداد اصول آن ۱۷۷ ...</td>\n",
              "      <td>e</td>\n",
              "    </tr>\n",
              "    <tr>\n",
              "      <th>7262</th>\n",
              "      <td>قانون اساسی جمهوری اسلامی ایران در سال ۱۳۵۸ تو...</td>\n",
              "      <td>قانون اساسی دارای ۲۵ فصل و ۱۷۵ اصل می باشد.</td>\n",
              "      <td>c</td>\n",
              "    </tr>\n",
              "    <tr>\n",
              "      <th>7263</th>\n",
              "      <td>قانون اساسی جمهوری اسلامی ایران در سال ۱۳۵۸ تو...</td>\n",
              "      <td>در ۲۴ آبان ۵۸ کار تدوین قانون اساسی به پایان ر...</td>\n",
              "      <td>n</td>\n",
              "    </tr>\n",
              "    <tr>\n",
              "      <th>7264</th>\n",
              "      <td>محاصره اقتصادی پیامبر (ص) و یارانش که در سال ه...</td>\n",
              "      <td>حضرت محمد (ص) و یارانش از ششمین سال بعثت تا هش...</td>\n",
              "      <td>c</td>\n",
              "    </tr>\n",
              "    <tr>\n",
              "      <th>7265</th>\n",
              "      <td>محاصره اقتصادی پیامبر (ص) و یارانش که در سال ه...</td>\n",
              "      <td>در دوران محاصره اقتصادی رسول اکرم (ص) و پیروان...</td>\n",
              "      <td>n</td>\n",
              "    </tr>\n",
              "  </tbody>\n",
              "</table>\n",
              "<p>7266 rows × 3 columns</p>\n",
              "</div>\n",
              "      <button class=\"colab-df-convert\" onclick=\"convertToInteractive('df-b7ef9665-2aab-4613-89d2-db4bfa083ac5')\"\n",
              "              title=\"Convert this dataframe to an interactive table.\"\n",
              "              style=\"display:none;\">\n",
              "        \n",
              "  <svg xmlns=\"http://www.w3.org/2000/svg\" height=\"24px\"viewBox=\"0 0 24 24\"\n",
              "       width=\"24px\">\n",
              "    <path d=\"M0 0h24v24H0V0z\" fill=\"none\"/>\n",
              "    <path d=\"M18.56 5.44l.94 2.06.94-2.06 2.06-.94-2.06-.94-.94-2.06-.94 2.06-2.06.94zm-11 1L8.5 8.5l.94-2.06 2.06-.94-2.06-.94L8.5 2.5l-.94 2.06-2.06.94zm10 10l.94 2.06.94-2.06 2.06-.94-2.06-.94-.94-2.06-.94 2.06-2.06.94z\"/><path d=\"M17.41 7.96l-1.37-1.37c-.4-.4-.92-.59-1.43-.59-.52 0-1.04.2-1.43.59L10.3 9.45l-7.72 7.72c-.78.78-.78 2.05 0 2.83L4 21.41c.39.39.9.59 1.41.59.51 0 1.02-.2 1.41-.59l7.78-7.78 2.81-2.81c.8-.78.8-2.07 0-2.86zM5.41 20L4 18.59l7.72-7.72 1.47 1.35L5.41 20z\"/>\n",
              "  </svg>\n",
              "      </button>\n",
              "      \n",
              "  <style>\n",
              "    .colab-df-container {\n",
              "      display:flex;\n",
              "      flex-wrap:wrap;\n",
              "      gap: 12px;\n",
              "    }\n",
              "\n",
              "    .colab-df-convert {\n",
              "      background-color: #E8F0FE;\n",
              "      border: none;\n",
              "      border-radius: 50%;\n",
              "      cursor: pointer;\n",
              "      display: none;\n",
              "      fill: #1967D2;\n",
              "      height: 32px;\n",
              "      padding: 0 0 0 0;\n",
              "      width: 32px;\n",
              "    }\n",
              "\n",
              "    .colab-df-convert:hover {\n",
              "      background-color: #E2EBFA;\n",
              "      box-shadow: 0px 1px 2px rgba(60, 64, 67, 0.3), 0px 1px 3px 1px rgba(60, 64, 67, 0.15);\n",
              "      fill: #174EA6;\n",
              "    }\n",
              "\n",
              "    [theme=dark] .colab-df-convert {\n",
              "      background-color: #3B4455;\n",
              "      fill: #D2E3FC;\n",
              "    }\n",
              "\n",
              "    [theme=dark] .colab-df-convert:hover {\n",
              "      background-color: #434B5C;\n",
              "      box-shadow: 0px 1px 3px 1px rgba(0, 0, 0, 0.15);\n",
              "      filter: drop-shadow(0px 1px 2px rgba(0, 0, 0, 0.3));\n",
              "      fill: #FFFFFF;\n",
              "    }\n",
              "  </style>\n",
              "\n",
              "      <script>\n",
              "        const buttonEl =\n",
              "          document.querySelector('#df-b7ef9665-2aab-4613-89d2-db4bfa083ac5 button.colab-df-convert');\n",
              "        buttonEl.style.display =\n",
              "          google.colab.kernel.accessAllowed ? 'block' : 'none';\n",
              "\n",
              "        async function convertToInteractive(key) {\n",
              "          const element = document.querySelector('#df-b7ef9665-2aab-4613-89d2-db4bfa083ac5');\n",
              "          const dataTable =\n",
              "            await google.colab.kernel.invokeFunction('convertToInteractive',\n",
              "                                                     [key], {});\n",
              "          if (!dataTable) return;\n",
              "\n",
              "          const docLinkHtml = 'Like what you see? Visit the ' +\n",
              "            '<a target=\"_blank\" href=https://colab.research.google.com/notebooks/data_table.ipynb>data table notebook</a>'\n",
              "            + ' to learn more about interactive tables.';\n",
              "          element.innerHTML = '';\n",
              "          dataTable['output_type'] = 'display_data';\n",
              "          await google.colab.output.renderOutput(dataTable, element);\n",
              "          const docLink = document.createElement('div');\n",
              "          docLink.innerHTML = docLinkHtml;\n",
              "          element.appendChild(docLink);\n",
              "        }\n",
              "      </script>\n",
              "    </div>\n",
              "  </div>\n",
              "  "
            ]
          },
          "metadata": {},
          "execution_count": 3
        }
      ],
      "source": [
        "train_data = pd.read_csv('/content/drive/MyDrive/NLP_CA4_Q1_dataset/Train-word.csv', sep='\\t')\n",
        "train_data"
      ]
    },
    {
      "cell_type": "code",
      "execution_count": 4,
      "metadata": {
        "colab": {
          "base_uri": "https://localhost:8080/",
          "height": 519
        },
        "id": "Bq0nKqXqmyBw",
        "outputId": "63d6ac70-b3c4-45b0-b6ed-2b44055d7ea8"
      },
      "outputs": [
        {
          "output_type": "execute_result",
          "data": {
            "text/plain": [
              "                                                premise  \\\n",
              "0     یکی از سرآمدانی که بر تارک علمی مدرسه اسکندریه...   \n",
              "1     یکی از سرآمدانی که بر تارک علمی مدرسه اسکندریه...   \n",
              "2     یکی از سرآمدانی که بر تارک علمی مدرسه اسکندریه...   \n",
              "3     تاریخ پزشکی یونانی با بقراط معروف است. آثار طب...   \n",
              "4     تاریخ پزشکی یونانی با بقراط معروف است. آثار طب...   \n",
              "...                                                 ...   \n",
              "1532  فقط ۶ کشور قطر, عمان، کویت، امارات، بحرین و عر...   \n",
              "1533  فقط ۶ کشور قطر, عمان، کویت، امارات، بحرین و عر...   \n",
              "1534  امام خمینی پنج هجرت مهم داشته اند که از قرار ز...   \n",
              "1535  امام خمینی پنج هجرت مهم داشته اند که از قرار ز...   \n",
              "1536  امام خمینی پنج هجرت مهم داشته اند که از قرار ز...   \n",
              "\n",
              "                                             hypothesis label  \n",
              "0     کتاب مگیستی (المجسطی) از آثار بطلمیوس است و از...     e  \n",
              "1     المجسطی (مگیستی)، یکی از کتاب های هرون از مکتب...     c  \n",
              "2     ترجمه المجسطی، پایه تهیه جداول نجومی گردید که ...     n  \n",
              "3               کتاب کلمات قصار یا فصول، اثر بقراط است.     e  \n",
              "4            جالینوس، نویسنده کتاب کلمات قصار بوده است.     c  \n",
              "...                                                 ...   ...  \n",
              "1532  عراق از اعضای تشکیل دهنده ی \"شورای همکاری خلیج...     c  \n",
              "1533  ایجاد مراکز تحقیقاتی-علمی از اهداف \"شورای همکا...     n  \n",
              "1534  حضرت امام خمینی (ره) برای اولین بار به ترکیه ت...     e  \n",
              "1535  عراق اولین کشوری بود که امام خمینی به آن تبعید...     c  \n",
              "1536  این هجرت ها، امکان ارتباط با دیگر مسلمانان و ا...     n  \n",
              "\n",
              "[1537 rows x 3 columns]"
            ],
            "text/html": [
              "\n",
              "  <div id=\"df-40c0f37f-a3f3-4b50-9406-e7567c36f5b1\">\n",
              "    <div class=\"colab-df-container\">\n",
              "      <div>\n",
              "<style scoped>\n",
              "    .dataframe tbody tr th:only-of-type {\n",
              "        vertical-align: middle;\n",
              "    }\n",
              "\n",
              "    .dataframe tbody tr th {\n",
              "        vertical-align: top;\n",
              "    }\n",
              "\n",
              "    .dataframe thead th {\n",
              "        text-align: right;\n",
              "    }\n",
              "</style>\n",
              "<table border=\"1\" class=\"dataframe\">\n",
              "  <thead>\n",
              "    <tr style=\"text-align: right;\">\n",
              "      <th></th>\n",
              "      <th>premise</th>\n",
              "      <th>hypothesis</th>\n",
              "      <th>label</th>\n",
              "    </tr>\n",
              "  </thead>\n",
              "  <tbody>\n",
              "    <tr>\n",
              "      <th>0</th>\n",
              "      <td>یکی از سرآمدانی که بر تارک علمی مدرسه اسکندریه...</td>\n",
              "      <td>کتاب مگیستی (المجسطی) از آثار بطلمیوس است و از...</td>\n",
              "      <td>e</td>\n",
              "    </tr>\n",
              "    <tr>\n",
              "      <th>1</th>\n",
              "      <td>یکی از سرآمدانی که بر تارک علمی مدرسه اسکندریه...</td>\n",
              "      <td>المجسطی (مگیستی)، یکی از کتاب های هرون از مکتب...</td>\n",
              "      <td>c</td>\n",
              "    </tr>\n",
              "    <tr>\n",
              "      <th>2</th>\n",
              "      <td>یکی از سرآمدانی که بر تارک علمی مدرسه اسکندریه...</td>\n",
              "      <td>ترجمه المجسطی، پایه تهیه جداول نجومی گردید که ...</td>\n",
              "      <td>n</td>\n",
              "    </tr>\n",
              "    <tr>\n",
              "      <th>3</th>\n",
              "      <td>تاریخ پزشکی یونانی با بقراط معروف است. آثار طب...</td>\n",
              "      <td>کتاب کلمات قصار یا فصول، اثر بقراط است.</td>\n",
              "      <td>e</td>\n",
              "    </tr>\n",
              "    <tr>\n",
              "      <th>4</th>\n",
              "      <td>تاریخ پزشکی یونانی با بقراط معروف است. آثار طب...</td>\n",
              "      <td>جالینوس، نویسنده کتاب کلمات قصار بوده است.</td>\n",
              "      <td>c</td>\n",
              "    </tr>\n",
              "    <tr>\n",
              "      <th>...</th>\n",
              "      <td>...</td>\n",
              "      <td>...</td>\n",
              "      <td>...</td>\n",
              "    </tr>\n",
              "    <tr>\n",
              "      <th>1532</th>\n",
              "      <td>فقط ۶ کشور قطر, عمان، کویت، امارات، بحرین و عر...</td>\n",
              "      <td>عراق از اعضای تشکیل دهنده ی \"شورای همکاری خلیج...</td>\n",
              "      <td>c</td>\n",
              "    </tr>\n",
              "    <tr>\n",
              "      <th>1533</th>\n",
              "      <td>فقط ۶ کشور قطر, عمان، کویت، امارات، بحرین و عر...</td>\n",
              "      <td>ایجاد مراکز تحقیقاتی-علمی از اهداف \"شورای همکا...</td>\n",
              "      <td>n</td>\n",
              "    </tr>\n",
              "    <tr>\n",
              "      <th>1534</th>\n",
              "      <td>امام خمینی پنج هجرت مهم داشته اند که از قرار ز...</td>\n",
              "      <td>حضرت امام خمینی (ره) برای اولین بار به ترکیه ت...</td>\n",
              "      <td>e</td>\n",
              "    </tr>\n",
              "    <tr>\n",
              "      <th>1535</th>\n",
              "      <td>امام خمینی پنج هجرت مهم داشته اند که از قرار ز...</td>\n",
              "      <td>عراق اولین کشوری بود که امام خمینی به آن تبعید...</td>\n",
              "      <td>c</td>\n",
              "    </tr>\n",
              "    <tr>\n",
              "      <th>1536</th>\n",
              "      <td>امام خمینی پنج هجرت مهم داشته اند که از قرار ز...</td>\n",
              "      <td>این هجرت ها، امکان ارتباط با دیگر مسلمانان و ا...</td>\n",
              "      <td>n</td>\n",
              "    </tr>\n",
              "  </tbody>\n",
              "</table>\n",
              "<p>1537 rows × 3 columns</p>\n",
              "</div>\n",
              "      <button class=\"colab-df-convert\" onclick=\"convertToInteractive('df-40c0f37f-a3f3-4b50-9406-e7567c36f5b1')\"\n",
              "              title=\"Convert this dataframe to an interactive table.\"\n",
              "              style=\"display:none;\">\n",
              "        \n",
              "  <svg xmlns=\"http://www.w3.org/2000/svg\" height=\"24px\"viewBox=\"0 0 24 24\"\n",
              "       width=\"24px\">\n",
              "    <path d=\"M0 0h24v24H0V0z\" fill=\"none\"/>\n",
              "    <path d=\"M18.56 5.44l.94 2.06.94-2.06 2.06-.94-2.06-.94-.94-2.06-.94 2.06-2.06.94zm-11 1L8.5 8.5l.94-2.06 2.06-.94-2.06-.94L8.5 2.5l-.94 2.06-2.06.94zm10 10l.94 2.06.94-2.06 2.06-.94-2.06-.94-.94-2.06-.94 2.06-2.06.94z\"/><path d=\"M17.41 7.96l-1.37-1.37c-.4-.4-.92-.59-1.43-.59-.52 0-1.04.2-1.43.59L10.3 9.45l-7.72 7.72c-.78.78-.78 2.05 0 2.83L4 21.41c.39.39.9.59 1.41.59.51 0 1.02-.2 1.41-.59l7.78-7.78 2.81-2.81c.8-.78.8-2.07 0-2.86zM5.41 20L4 18.59l7.72-7.72 1.47 1.35L5.41 20z\"/>\n",
              "  </svg>\n",
              "      </button>\n",
              "      \n",
              "  <style>\n",
              "    .colab-df-container {\n",
              "      display:flex;\n",
              "      flex-wrap:wrap;\n",
              "      gap: 12px;\n",
              "    }\n",
              "\n",
              "    .colab-df-convert {\n",
              "      background-color: #E8F0FE;\n",
              "      border: none;\n",
              "      border-radius: 50%;\n",
              "      cursor: pointer;\n",
              "      display: none;\n",
              "      fill: #1967D2;\n",
              "      height: 32px;\n",
              "      padding: 0 0 0 0;\n",
              "      width: 32px;\n",
              "    }\n",
              "\n",
              "    .colab-df-convert:hover {\n",
              "      background-color: #E2EBFA;\n",
              "      box-shadow: 0px 1px 2px rgba(60, 64, 67, 0.3), 0px 1px 3px 1px rgba(60, 64, 67, 0.15);\n",
              "      fill: #174EA6;\n",
              "    }\n",
              "\n",
              "    [theme=dark] .colab-df-convert {\n",
              "      background-color: #3B4455;\n",
              "      fill: #D2E3FC;\n",
              "    }\n",
              "\n",
              "    [theme=dark] .colab-df-convert:hover {\n",
              "      background-color: #434B5C;\n",
              "      box-shadow: 0px 1px 3px 1px rgba(0, 0, 0, 0.15);\n",
              "      filter: drop-shadow(0px 1px 2px rgba(0, 0, 0, 0.3));\n",
              "      fill: #FFFFFF;\n",
              "    }\n",
              "  </style>\n",
              "\n",
              "      <script>\n",
              "        const buttonEl =\n",
              "          document.querySelector('#df-40c0f37f-a3f3-4b50-9406-e7567c36f5b1 button.colab-df-convert');\n",
              "        buttonEl.style.display =\n",
              "          google.colab.kernel.accessAllowed ? 'block' : 'none';\n",
              "\n",
              "        async function convertToInteractive(key) {\n",
              "          const element = document.querySelector('#df-40c0f37f-a3f3-4b50-9406-e7567c36f5b1');\n",
              "          const dataTable =\n",
              "            await google.colab.kernel.invokeFunction('convertToInteractive',\n",
              "                                                     [key], {});\n",
              "          if (!dataTable) return;\n",
              "\n",
              "          const docLinkHtml = 'Like what you see? Visit the ' +\n",
              "            '<a target=\"_blank\" href=https://colab.research.google.com/notebooks/data_table.ipynb>data table notebook</a>'\n",
              "            + ' to learn more about interactive tables.';\n",
              "          element.innerHTML = '';\n",
              "          dataTable['output_type'] = 'display_data';\n",
              "          await google.colab.output.renderOutput(dataTable, element);\n",
              "          const docLink = document.createElement('div');\n",
              "          docLink.innerHTML = docLinkHtml;\n",
              "          element.appendChild(docLink);\n",
              "        }\n",
              "      </script>\n",
              "    </div>\n",
              "  </div>\n",
              "  "
            ]
          },
          "metadata": {},
          "execution_count": 4
        }
      ],
      "source": [
        "valid_data = pd.read_csv('/content/drive/MyDrive/NLP_CA4_Q1_dataset/Val-word.csv', sep='\\t')\n",
        "valid_data"
      ]
    },
    {
      "cell_type": "code",
      "execution_count": 5,
      "metadata": {
        "colab": {
          "base_uri": "https://localhost:8080/",
          "height": 728
        },
        "id": "vLa9SMNzmyBx",
        "outputId": "3a1f4ffd-6044-4db0-decb-657160177a3c"
      },
      "outputs": [
        {
          "output_type": "execute_result",
          "data": {
            "text/plain": [
              "                                                premise  \\\n",
              "0     دوران امامت امام صادق علیه السلام، مصادف است ب...   \n",
              "1     دوران امامت امام صادق علیه السلام، مصادف است ب...   \n",
              "2     با شهادت امام رضا(ع) مرحله جدیدی از تلاش ائمه ...   \n",
              "3     با شهادت امام رضا(ع) مرحله جدیدی از تلاش ائمه ...   \n",
              "4     با شهادت امام رضا(ع) مرحله جدیدی از تلاش ائمه ...   \n",
              "...                                                 ...   \n",
              "1559  دریای خَزَر یا دریای مازَندَران یا (با رواج کم...   \n",
              "1560  دریای خَزَر یا دریای مازَندَران یا (با رواج کم...   \n",
              "1561  اولین چاپ مطالب به زبان فارسی در روزنامه‌های ه...   \n",
              "1562  اولین چاپ مطالب به زبان فارسی در روزنامه‌های ه...   \n",
              "1563  اولین چاپ مطالب به زبان فارسی در روزنامه‌های ه...   \n",
              "\n",
              "                                             hypothesis label  \\\n",
              "0     امام سجاد (ع) در دورانی امامت کردند که همزمان ...     c   \n",
              "1     دستگاه فاسد حکومتی با صرف هزینه های هنگفت، سعی...     n   \n",
              "2     دوران محنت اهل بیت پس از شهادت امام رضا(ع) آغا...     e   \n",
              "3     بعد از به شهادت رسیدن امام هادی(ع) دوران محنت ...     c   \n",
              "4     حضرت جواد(ع) در سال ۱۹۵ هجری در مدینه ولادت یافت.     n   \n",
              "...                                                 ...   ...   \n",
              "1559    در حاشیه ی دریای خزر کشور آذربایجان وجود ندارد.     c   \n",
              "1560  جمهوری آذربایجان به ترکی آذربایجانی بزرگترین ک...     n   \n",
              "1561            اولین روزنامه فارسی در هند انتشار یافت.     e   \n",
              "1562             ایران نخستین روزنامه فارسی را چاپ کرد.     c   \n",
              "1563  اولین روزنامه چاپی که به زبان فارسی در ایران م...     n   \n",
              "\n",
              "      hard(hypothesis)  hard(overlap)  \n",
              "0                    0              1  \n",
              "1                    1              0  \n",
              "2                    0              0  \n",
              "3                    1              1  \n",
              "4                    1              0  \n",
              "...                ...            ...  \n",
              "1559                 0              1  \n",
              "1560                 0              1  \n",
              "1561                 1              0  \n",
              "1562                 1              0  \n",
              "1563                 1              1  \n",
              "\n",
              "[1564 rows x 5 columns]"
            ],
            "text/html": [
              "\n",
              "  <div id=\"df-4eaefc30-ba72-48b7-bdbe-d7bc740f033a\">\n",
              "    <div class=\"colab-df-container\">\n",
              "      <div>\n",
              "<style scoped>\n",
              "    .dataframe tbody tr th:only-of-type {\n",
              "        vertical-align: middle;\n",
              "    }\n",
              "\n",
              "    .dataframe tbody tr th {\n",
              "        vertical-align: top;\n",
              "    }\n",
              "\n",
              "    .dataframe thead th {\n",
              "        text-align: right;\n",
              "    }\n",
              "</style>\n",
              "<table border=\"1\" class=\"dataframe\">\n",
              "  <thead>\n",
              "    <tr style=\"text-align: right;\">\n",
              "      <th></th>\n",
              "      <th>premise</th>\n",
              "      <th>hypothesis</th>\n",
              "      <th>label</th>\n",
              "      <th>hard(hypothesis)</th>\n",
              "      <th>hard(overlap)</th>\n",
              "    </tr>\n",
              "  </thead>\n",
              "  <tbody>\n",
              "    <tr>\n",
              "      <th>0</th>\n",
              "      <td>دوران امامت امام صادق علیه السلام، مصادف است ب...</td>\n",
              "      <td>امام سجاد (ع) در دورانی امامت کردند که همزمان ...</td>\n",
              "      <td>c</td>\n",
              "      <td>0</td>\n",
              "      <td>1</td>\n",
              "    </tr>\n",
              "    <tr>\n",
              "      <th>1</th>\n",
              "      <td>دوران امامت امام صادق علیه السلام، مصادف است ب...</td>\n",
              "      <td>دستگاه فاسد حکومتی با صرف هزینه های هنگفت، سعی...</td>\n",
              "      <td>n</td>\n",
              "      <td>1</td>\n",
              "      <td>0</td>\n",
              "    </tr>\n",
              "    <tr>\n",
              "      <th>2</th>\n",
              "      <td>با شهادت امام رضا(ع) مرحله جدیدی از تلاش ائمه ...</td>\n",
              "      <td>دوران محنت اهل بیت پس از شهادت امام رضا(ع) آغا...</td>\n",
              "      <td>e</td>\n",
              "      <td>0</td>\n",
              "      <td>0</td>\n",
              "    </tr>\n",
              "    <tr>\n",
              "      <th>3</th>\n",
              "      <td>با شهادت امام رضا(ع) مرحله جدیدی از تلاش ائمه ...</td>\n",
              "      <td>بعد از به شهادت رسیدن امام هادی(ع) دوران محنت ...</td>\n",
              "      <td>c</td>\n",
              "      <td>1</td>\n",
              "      <td>1</td>\n",
              "    </tr>\n",
              "    <tr>\n",
              "      <th>4</th>\n",
              "      <td>با شهادت امام رضا(ع) مرحله جدیدی از تلاش ائمه ...</td>\n",
              "      <td>حضرت جواد(ع) در سال ۱۹۵ هجری در مدینه ولادت یافت.</td>\n",
              "      <td>n</td>\n",
              "      <td>1</td>\n",
              "      <td>0</td>\n",
              "    </tr>\n",
              "    <tr>\n",
              "      <th>...</th>\n",
              "      <td>...</td>\n",
              "      <td>...</td>\n",
              "      <td>...</td>\n",
              "      <td>...</td>\n",
              "      <td>...</td>\n",
              "    </tr>\n",
              "    <tr>\n",
              "      <th>1559</th>\n",
              "      <td>دریای خَزَر یا دریای مازَندَران یا (با رواج کم...</td>\n",
              "      <td>در حاشیه ی دریای خزر کشور آذربایجان وجود ندارد.</td>\n",
              "      <td>c</td>\n",
              "      <td>0</td>\n",
              "      <td>1</td>\n",
              "    </tr>\n",
              "    <tr>\n",
              "      <th>1560</th>\n",
              "      <td>دریای خَزَر یا دریای مازَندَران یا (با رواج کم...</td>\n",
              "      <td>جمهوری آذربایجان به ترکی آذربایجانی بزرگترین ک...</td>\n",
              "      <td>n</td>\n",
              "      <td>0</td>\n",
              "      <td>1</td>\n",
              "    </tr>\n",
              "    <tr>\n",
              "      <th>1561</th>\n",
              "      <td>اولین چاپ مطالب به زبان فارسی در روزنامه‌های ه...</td>\n",
              "      <td>اولین روزنامه فارسی در هند انتشار یافت.</td>\n",
              "      <td>e</td>\n",
              "      <td>1</td>\n",
              "      <td>0</td>\n",
              "    </tr>\n",
              "    <tr>\n",
              "      <th>1562</th>\n",
              "      <td>اولین چاپ مطالب به زبان فارسی در روزنامه‌های ه...</td>\n",
              "      <td>ایران نخستین روزنامه فارسی را چاپ کرد.</td>\n",
              "      <td>c</td>\n",
              "      <td>1</td>\n",
              "      <td>0</td>\n",
              "    </tr>\n",
              "    <tr>\n",
              "      <th>1563</th>\n",
              "      <td>اولین چاپ مطالب به زبان فارسی در روزنامه‌های ه...</td>\n",
              "      <td>اولین روزنامه چاپی که به زبان فارسی در ایران م...</td>\n",
              "      <td>n</td>\n",
              "      <td>1</td>\n",
              "      <td>1</td>\n",
              "    </tr>\n",
              "  </tbody>\n",
              "</table>\n",
              "<p>1564 rows × 5 columns</p>\n",
              "</div>\n",
              "      <button class=\"colab-df-convert\" onclick=\"convertToInteractive('df-4eaefc30-ba72-48b7-bdbe-d7bc740f033a')\"\n",
              "              title=\"Convert this dataframe to an interactive table.\"\n",
              "              style=\"display:none;\">\n",
              "        \n",
              "  <svg xmlns=\"http://www.w3.org/2000/svg\" height=\"24px\"viewBox=\"0 0 24 24\"\n",
              "       width=\"24px\">\n",
              "    <path d=\"M0 0h24v24H0V0z\" fill=\"none\"/>\n",
              "    <path d=\"M18.56 5.44l.94 2.06.94-2.06 2.06-.94-2.06-.94-.94-2.06-.94 2.06-2.06.94zm-11 1L8.5 8.5l.94-2.06 2.06-.94-2.06-.94L8.5 2.5l-.94 2.06-2.06.94zm10 10l.94 2.06.94-2.06 2.06-.94-2.06-.94-.94-2.06-.94 2.06-2.06.94z\"/><path d=\"M17.41 7.96l-1.37-1.37c-.4-.4-.92-.59-1.43-.59-.52 0-1.04.2-1.43.59L10.3 9.45l-7.72 7.72c-.78.78-.78 2.05 0 2.83L4 21.41c.39.39.9.59 1.41.59.51 0 1.02-.2 1.41-.59l7.78-7.78 2.81-2.81c.8-.78.8-2.07 0-2.86zM5.41 20L4 18.59l7.72-7.72 1.47 1.35L5.41 20z\"/>\n",
              "  </svg>\n",
              "      </button>\n",
              "      \n",
              "  <style>\n",
              "    .colab-df-container {\n",
              "      display:flex;\n",
              "      flex-wrap:wrap;\n",
              "      gap: 12px;\n",
              "    }\n",
              "\n",
              "    .colab-df-convert {\n",
              "      background-color: #E8F0FE;\n",
              "      border: none;\n",
              "      border-radius: 50%;\n",
              "      cursor: pointer;\n",
              "      display: none;\n",
              "      fill: #1967D2;\n",
              "      height: 32px;\n",
              "      padding: 0 0 0 0;\n",
              "      width: 32px;\n",
              "    }\n",
              "\n",
              "    .colab-df-convert:hover {\n",
              "      background-color: #E2EBFA;\n",
              "      box-shadow: 0px 1px 2px rgba(60, 64, 67, 0.3), 0px 1px 3px 1px rgba(60, 64, 67, 0.15);\n",
              "      fill: #174EA6;\n",
              "    }\n",
              "\n",
              "    [theme=dark] .colab-df-convert {\n",
              "      background-color: #3B4455;\n",
              "      fill: #D2E3FC;\n",
              "    }\n",
              "\n",
              "    [theme=dark] .colab-df-convert:hover {\n",
              "      background-color: #434B5C;\n",
              "      box-shadow: 0px 1px 3px 1px rgba(0, 0, 0, 0.15);\n",
              "      filter: drop-shadow(0px 1px 2px rgba(0, 0, 0, 0.3));\n",
              "      fill: #FFFFFF;\n",
              "    }\n",
              "  </style>\n",
              "\n",
              "      <script>\n",
              "        const buttonEl =\n",
              "          document.querySelector('#df-4eaefc30-ba72-48b7-bdbe-d7bc740f033a button.colab-df-convert');\n",
              "        buttonEl.style.display =\n",
              "          google.colab.kernel.accessAllowed ? 'block' : 'none';\n",
              "\n",
              "        async function convertToInteractive(key) {\n",
              "          const element = document.querySelector('#df-4eaefc30-ba72-48b7-bdbe-d7bc740f033a');\n",
              "          const dataTable =\n",
              "            await google.colab.kernel.invokeFunction('convertToInteractive',\n",
              "                                                     [key], {});\n",
              "          if (!dataTable) return;\n",
              "\n",
              "          const docLinkHtml = 'Like what you see? Visit the ' +\n",
              "            '<a target=\"_blank\" href=https://colab.research.google.com/notebooks/data_table.ipynb>data table notebook</a>'\n",
              "            + ' to learn more about interactive tables.';\n",
              "          element.innerHTML = '';\n",
              "          dataTable['output_type'] = 'display_data';\n",
              "          await google.colab.output.renderOutput(dataTable, element);\n",
              "          const docLink = document.createElement('div');\n",
              "          docLink.innerHTML = docLinkHtml;\n",
              "          element.appendChild(docLink);\n",
              "        }\n",
              "      </script>\n",
              "    </div>\n",
              "  </div>\n",
              "  "
            ]
          },
          "metadata": {},
          "execution_count": 5
        }
      ],
      "source": [
        "test_data = pd.read_csv('/content/drive/MyDrive/NLP_CA4_Q1_dataset/Test-word.csv', sep='\\t')\n",
        "test_data"
      ]
    },
    {
      "cell_type": "markdown",
      "source": [
        "Visualizes the distribution of polarity labels."
      ],
      "metadata": {
        "id": "pTHhTNT751cd"
      }
    },
    {
      "cell_type": "code",
      "execution_count": 6,
      "metadata": {
        "colab": {
          "base_uri": "https://localhost:8080/",
          "height": 442
        },
        "id": "W5pMe9CQmyBx",
        "outputId": "43bc1f6c-0788-478c-8e20-2b884ac82561"
      },
      "outputs": [
        {
          "output_type": "execute_result",
          "data": {
            "text/plain": [
              "<Axes: >"
            ]
          },
          "metadata": {},
          "execution_count": 6
        },
        {
          "output_type": "display_data",
          "data": {
            "text/plain": [
              "<Figure size 640x480 with 1 Axes>"
            ],
            "image/png": "[encoded data removed]"
          },
          "metadata": {}
        }
      ],
      "source": [
        "train_data['label'].value_counts().plot(kind='bar')"
      ]
    },
    {
      "cell_type": "code",
      "execution_count": 7,
      "metadata": {
        "colab": {
          "base_uri": "https://localhost:8080/",
          "height": 626
        },
        "id": "p0uAtWfLmyBx",
        "outputId": "34d99a56-acc1-410a-8a22-5ac96c96af2d"
      },
      "outputs": [
        {
          "output_type": "stream",
          "name": "stdout",
          "text": [
            "Looking in indexes: https://pypi.org/simple, https://us-python.pkg.dev/colab-wheels/public/simple/\n",
            "Collecting hazm\n",
            "  Downloading hazm-0.9.0-py3-none-any.whl (477 kB)\n",
            "\u001b[2K     \u001b[90m━━━━━━━━━━━━━━━━━━━━━━━━━━━━━━━━━━━━━━\u001b[0m \u001b[32m477.8/477.8 kB\u001b[0m \u001b[31m16.7 MB/s\u001b[0m eta \u001b[36m0:00:00\u001b[0m\n",
            "\u001b[?25hRequirement already satisfied: gensim<5.0.0,>=4.3.1 in /usr/local/lib/python3.10/dist-packages (from hazm) (4.3.1)\n",
            "Requirement already satisfied: nltk<4.0.0,>=3.8.1 in /usr/local/lib/python3.10/dist-packages (from hazm) (3.8.1)\n",
            "Collecting numpy<2.0.0,>=1.24.3 (from hazm)\n",
            "  Downloading numpy-1.24.3-cp310-cp310-manylinux_2_17_x86_64.manylinux2014_x86_64.whl (17.3 MB)\n",
            "\u001b[2K     \u001b[90m━━━━━━━━━━━━━━━━━━━━━━━━━━━━━━━━━━━━━━━━\u001b[0m \u001b[32m17.3/17.3 MB\u001b[0m \u001b[31m54.7 MB/s\u001b[0m eta \u001b[36m0:00:00\u001b[0m\n",
            "\u001b[?25hCollecting python-crfsuite<0.10.0,>=0.9.9 (from hazm)\n",
            "  Downloading python_crfsuite-0.9.9-cp310-cp310-manylinux_2_17_x86_64.manylinux2014_x86_64.whl (993 kB)\n",
            "\u001b[2K     \u001b[90m━━━━━━━━━━━━━━━━━━━━━━━━━━━━━━━━━━━━━━\u001b[0m \u001b[32m993.5/993.5 kB\u001b[0m \u001b[31m40.5 MB/s\u001b[0m eta \u001b[36m0:00:00\u001b[0m\n",
            "\u001b[?25hRequirement already satisfied: scikit-learn<2.0.0,>=1.2.2 in /usr/local/lib/python3.10/dist-packages (from hazm) (1.2.2)\n",
            "Requirement already satisfied: scipy>=1.7.0 in /usr/local/lib/python3.10/dist-packages (from gensim<5.0.0,>=4.3.1->hazm) (1.10.1)\n",
            "Requirement already satisfied: smart-open>=1.8.1 in /usr/local/lib/python3.10/dist-packages (from gensim<5.0.0,>=4.3.1->hazm) (6.3.0)\n",
            "Requirement already satisfied: click in /usr/local/lib/python3.10/dist-packages (from nltk<4.0.0,>=3.8.1->hazm) (8.1.3)\n",
            "Requirement already satisfied: joblib in /usr/local/lib/python3.10/dist-packages (from nltk<4.0.0,>=3.8.1->hazm) (1.2.0)\n",
            "Requirement already satisfied: regex>=2021.8.3 in /usr/local/lib/python3.10/dist-packages (from nltk<4.0.0,>=3.8.1->hazm) (2022.10.31)\n",
            "Requirement already satisfied: tqdm in /usr/local/lib/python3.10/dist-packages (from nltk<4.0.0,>=3.8.1->hazm) (4.65.0)\n",
            "Requirement already satisfied: threadpoolctl>=2.0.0 in /usr/local/lib/python3.10/dist-packages (from scikit-learn<2.0.0,>=1.2.2->hazm) (3.1.0)\n",
            "Installing collected packages: python-crfsuite, numpy, hazm\n",
            "  Attempting uninstall: numpy\n",
            "    Found existing installation: numpy 1.22.4\n",
            "    Uninstalling numpy-1.22.4:\n",
            "      Successfully uninstalled numpy-1.22.4\n",
            "\u001b[31mERROR: pip's dependency resolver does not currently take into account all the packages that are installed. This behaviour is the source of the following dependency conflicts.\n",
            "numba 0.56.4 requires numpy<1.24,>=1.18, but you have numpy 1.24.3 which is incompatible.\n",
            "tensorflow 2.12.0 requires numpy<1.24,>=1.22, but you have numpy 1.24.3 which is incompatible.\u001b[0m\u001b[31m\n",
            "\u001b[0mSuccessfully installed hazm-0.9.0 numpy-1.24.3 python-crfsuite-0.9.9\n"
          ]
        },
        {
          "output_type": "display_data",
          "data": {
            "application/vnd.colab-display-data+json": {
              "pip_warning": {
                "packages": [
                  "numpy"
                ]
              }
            }
          },
          "metadata": {}
        }
      ],
      "source": [
        "!pip install hazm"
      ]
    },
    {
      "cell_type": "code",
      "execution_count": 8,
      "metadata": {
        "id": "W8YXWLovmyBy"
      },
      "outputs": [],
      "source": [
        "import re\n",
        "from hazm import Normalizer, word_tokenize"
      ]
    },
    {
      "cell_type": "code",
      "execution_count": 9,
      "metadata": {
        "id": "5pgYpHUwmyBy"
      },
      "outputs": [],
      "source": [
        "er = (\"[\"\n",
        "    u\"\\U0001F600-\\U0001F64F\"  # emoticons\n",
        "    u\"\\U0001F300-\\U0001F5FF\"  # symbols & pictographs\n",
        "    u\"\\U0001F680-\\U0001F6FF\"  # transport & map symbols\n",
        "    u\"\\U0001F1E0-\\U0001F1FF\"  # flags (iOS)\n",
        "    u\"\\U00002500-\\U00002BEF\"  # chinese char\n",
        "    u\"\\U00002702-\\U000027B0\"\n",
        "    u\"\\U00002702-\\U000027B0\"\n",
        "    u\"\\U000024C2-\\U0001F251\"\n",
        "    u\"\\U0001f926-\\U0001f937\"\n",
        "    u\"\\U00010000-\\U0010ffff\"\n",
        "    u\"\\u2640-\\u2642\" \n",
        "    u\"\\u2600-\\u2B55\"\n",
        "    u\"\\u200d\"\n",
        "    u\"\\u23cf\"\n",
        "    u\"\\u23e9\"\n",
        "    u\"\\u231a\"\n",
        "    u\"\\ufe0f\"  # dingbats\n",
        "    u\"\\u3030\"\n",
        "     \"]+\")"
      ]
    },
    {
      "cell_type": "markdown",
      "source": [
        "Using hazm to Preproces comments. and after that remove emoticons, symbols, flgs and other unwanted characters."
      ],
      "metadata": {
        "id": "_uipAtPn6Cfy"
      }
    },
    {
      "cell_type": "code",
      "execution_count": 10,
      "metadata": {
        "id": "YVuqPjhCmyBy"
      },
      "outputs": [],
      "source": [
        "punctuation = \"?.؟!،,\"\n",
        "normalizer = Normalizer()\n",
        "def preprocessing(item):\n",
        "    output = normalizer.normalize(item)\n",
        "    output = output.replace(\"\\_\", \"\\u200c\")\n",
        "#     output = output.replace(\"\\u200c\", \"\")\n",
        "    output = re.sub(r\"LINK([^ ])*|TAG|ID|\\-|@|LINK|[A-Za-z]\", \"\", output)\n",
        "    for i in punctuation:\n",
        "        p = \"\\\\\" + i + \"{2,}\"\n",
        "        output = re.sub(p, i, output)\n",
        "#     output = re.sub(\"\\?|\\.|\\؟|\\!|\\،|\\,\", \"\", output)\n",
        "    emoj = re.compile(er)\n",
        "    #or i in emoj.findall(output):\n",
        "        #allemojies.add(i)\n",
        "    output = re.sub(\"\\s+\", \" \", output).strip()\n",
        "    return output\n",
        "\n",
        "train_data['premise'] = train_data['premise'].apply(preprocessing)\n",
        "train_data['hypothesis'] = train_data['hypothesis'].apply(preprocessing)\n"
      ]
    },
    {
      "cell_type": "code",
      "execution_count": 11,
      "metadata": {
        "id": "BtHr9mQ3xY75"
      },
      "outputs": [],
      "source": [
        "valid_data['premise'] = valid_data['premise'].apply(preprocessing)\n",
        "valid_data['hypothesis'] = valid_data['hypothesis'].apply(preprocessing)"
      ]
    },
    {
      "cell_type": "code",
      "execution_count": 12,
      "metadata": {
        "id": "OTb28ybBxa7i"
      },
      "outputs": [],
      "source": [
        "test_data['premise'] = test_data['premise'].apply(preprocessing)\n",
        "test_data['hypothesis'] = test_data['hypothesis'].apply(preprocessing)"
      ]
    },
    {
      "cell_type": "code",
      "execution_count": 13,
      "metadata": {
        "colab": {
          "base_uri": "https://localhost:8080/",
          "height": 554
        },
        "id": "riZGiU6mmyBz",
        "outputId": "47d096d1-7f14-4968-b5e6-aa08ac6b1e12"
      },
      "outputs": [
        {
          "output_type": "execute_result",
          "data": {
            "text/plain": [
              "                                                premise  \\\n",
              "0     اولین انتقال و نفوذ طبیعی فرهنگ و تمدن اسلامی ...   \n",
              "1     اولین انتقال و نفوذ طبیعی فرهنگ و تمدن اسلامی ...   \n",
              "2     اولین انتقال و نفوذ طبیعی فرهنگ و تمدن اسلامی ...   \n",
              "3     ویژگی‌های هنر عصر اموی: ۱ تلفیقی بودن ۲ بازنما...   \n",
              "4     ویژگی‌های هنر عصر اموی: ۱ تلفیقی بودن ۲ بازنما...   \n",
              "...                                                 ...   \n",
              "7261  قانون اساسی جمهوری اسلامی ایران در سال ۱۳۵۸ تو...   \n",
              "7262  قانون اساسی جمهوری اسلامی ایران در سال ۱۳۵۸ تو...   \n",
              "7263  قانون اساسی جمهوری اسلامی ایران در سال ۱۳۵۸ تو...   \n",
              "7264  محاصره اقتصادی پیامبر (ص) و یارانش که در سال ه...   \n",
              "7265  محاصره اقتصادی پیامبر (ص) و یارانش که در سال ه...   \n",
              "\n",
              "                                             hypothesis label  \n",
              "0     نخستین انتقال و نفوذ طبیعی فرهنگ و تمدن اسلامی...     e  \n",
              "1     کانون‌های جغرافیایی مصر، اندلس و شام، نخستین ر...     c  \n",
              "2     سیسیل بعد از اسپانیا بزرگ‌ترین کانونی بود که ه...     n  \n",
              "3     نقاشی‌های تزئینی و تندیس‌های بی‌کیفیت، یکی از ...     e  \n",
              "4     با کیفیت بودن تندیس‌های دوره اموی، یکی از ویژگ...     c  \n",
              "...                                                 ...   ...  \n",
              "7261  تعداد فصول قانون اساسی ۱۴ و تعداد اصول آن ۱۷۷ ...     e  \n",
              "7262        قانون اساسی دارای ۲۵ فصل و ۱۷۵ اصل می‌باشد.     c  \n",
              "7263  در ۲۴ آبان ۵۸ کار تدوین قانون اساسی به پایان ر...     n  \n",
              "7264  حضرت محمد (ص) و یارانش از ششمین سال بعثت تا هش...     c  \n",
              "7265  در دوران محاصره اقتصادی رسول اکرم (ص) و پیروان...     n  \n",
              "\n",
              "[7266 rows x 3 columns]"
            ],
            "text/html": [
              "\n",
              "  <div id=\"df-520086b0-d4be-4010-bc73-0b8cddcb01cb\">\n",
              "    <div class=\"colab-df-container\">\n",
              "      <div>\n",
              "<style scoped>\n",
              "    .dataframe tbody tr th:only-of-type {\n",
              "        vertical-align: middle;\n",
              "    }\n",
              "\n",
              "    .dataframe tbody tr th {\n",
              "        vertical-align: top;\n",
              "    }\n",
              "\n",
              "    .dataframe thead th {\n",
              "        text-align: right;\n",
              "    }\n",
              "</style>\n",
              "<table border=\"1\" class=\"dataframe\">\n",
              "  <thead>\n",
              "    <tr style=\"text-align: right;\">\n",
              "      <th></th>\n",
              "      <th>premise</th>\n",
              "      <th>hypothesis</th>\n",
              "      <th>label</th>\n",
              "    </tr>\n",
              "  </thead>\n",
              "  <tbody>\n",
              "    <tr>\n",
              "      <th>0</th>\n",
              "      <td>اولین انتقال و نفوذ طبیعی فرهنگ و تمدن اسلامی ...</td>\n",
              "      <td>نخستین انتقال و نفوذ طبیعی فرهنگ و تمدن اسلامی...</td>\n",
              "      <td>e</td>\n",
              "    </tr>\n",
              "    <tr>\n",
              "      <th>1</th>\n",
              "      <td>اولین انتقال و نفوذ طبیعی فرهنگ و تمدن اسلامی ...</td>\n",
              "      <td>کانون‌های جغرافیایی مصر، اندلس و شام، نخستین ر...</td>\n",
              "      <td>c</td>\n",
              "    </tr>\n",
              "    <tr>\n",
              "      <th>2</th>\n",
              "      <td>اولین انتقال و نفوذ طبیعی فرهنگ و تمدن اسلامی ...</td>\n",
              "      <td>سیسیل بعد از اسپانیا بزرگ‌ترین کانونی بود که ه...</td>\n",
              "      <td>n</td>\n",
              "    </tr>\n",
              "    <tr>\n",
              "      <th>3</th>\n",
              "      <td>ویژگی‌های هنر عصر اموی: ۱ تلفیقی بودن ۲ بازنما...</td>\n",
              "      <td>نقاشی‌های تزئینی و تندیس‌های بی‌کیفیت، یکی از ...</td>\n",
              "      <td>e</td>\n",
              "    </tr>\n",
              "    <tr>\n",
              "      <th>4</th>\n",
              "      <td>ویژگی‌های هنر عصر اموی: ۱ تلفیقی بودن ۲ بازنما...</td>\n",
              "      <td>با کیفیت بودن تندیس‌های دوره اموی، یکی از ویژگ...</td>\n",
              "      <td>c</td>\n",
              "    </tr>\n",
              "    <tr>\n",
              "      <th>...</th>\n",
              "      <td>...</td>\n",
              "      <td>...</td>\n",
              "      <td>...</td>\n",
              "    </tr>\n",
              "    <tr>\n",
              "      <th>7261</th>\n",
              "      <td>قانون اساسی جمهوری اسلامی ایران در سال ۱۳۵۸ تو...</td>\n",
              "      <td>تعداد فصول قانون اساسی ۱۴ و تعداد اصول آن ۱۷۷ ...</td>\n",
              "      <td>e</td>\n",
              "    </tr>\n",
              "    <tr>\n",
              "      <th>7262</th>\n",
              "      <td>قانون اساسی جمهوری اسلامی ایران در سال ۱۳۵۸ تو...</td>\n",
              "      <td>قانون اساسی دارای ۲۵ فصل و ۱۷۵ اصل می‌باشد.</td>\n",
              "      <td>c</td>\n",
              "    </tr>\n",
              "    <tr>\n",
              "      <th>7263</th>\n",
              "      <td>قانون اساسی جمهوری اسلامی ایران در سال ۱۳۵۸ تو...</td>\n",
              "      <td>در ۲۴ آبان ۵۸ کار تدوین قانون اساسی به پایان ر...</td>\n",
              "      <td>n</td>\n",
              "    </tr>\n",
              "    <tr>\n",
              "      <th>7264</th>\n",
              "      <td>محاصره اقتصادی پیامبر (ص) و یارانش که در سال ه...</td>\n",
              "      <td>حضرت محمد (ص) و یارانش از ششمین سال بعثت تا هش...</td>\n",
              "      <td>c</td>\n",
              "    </tr>\n",
              "    <tr>\n",
              "      <th>7265</th>\n",
              "      <td>محاصره اقتصادی پیامبر (ص) و یارانش که در سال ه...</td>\n",
              "      <td>در دوران محاصره اقتصادی رسول اکرم (ص) و پیروان...</td>\n",
              "      <td>n</td>\n",
              "    </tr>\n",
              "  </tbody>\n",
              "</table>\n",
              "<p>7266 rows × 3 columns</p>\n",
              "</div>\n",
              "      <button class=\"colab-df-convert\" onclick=\"convertToInteractive('df-520086b0-d4be-4010-bc73-0b8cddcb01cb')\"\n",
              "              title=\"Convert this dataframe to an interactive table.\"\n",
              "              style=\"display:none;\">\n",
              "        \n",
              "  <svg xmlns=\"http://www.w3.org/2000/svg\" height=\"24px\"viewBox=\"0 0 24 24\"\n",
              "       width=\"24px\">\n",
              "    <path d=\"M0 0h24v24H0V0z\" fill=\"none\"/>\n",
              "    <path d=\"M18.56 5.44l.94 2.06.94-2.06 2.06-.94-2.06-.94-.94-2.06-.94 2.06-2.06.94zm-11 1L8.5 8.5l.94-2.06 2.06-.94-2.06-.94L8.5 2.5l-.94 2.06-2.06.94zm10 10l.94 2.06.94-2.06 2.06-.94-2.06-.94-.94-2.06-.94 2.06-2.06.94z\"/><path d=\"M17.41 7.96l-1.37-1.37c-.4-.4-.92-.59-1.43-.59-.52 0-1.04.2-1.43.59L10.3 9.45l-7.72 7.72c-.78.78-.78 2.05 0 2.83L4 21.41c.39.39.9.59 1.41.59.51 0 1.02-.2 1.41-.59l7.78-7.78 2.81-2.81c.8-.78.8-2.07 0-2.86zM5.41 20L4 18.59l7.72-7.72 1.47 1.35L5.41 20z\"/>\n",
              "  </svg>\n",
              "      </button>\n",
              "      \n",
              "  <style>\n",
              "    .colab-df-container {\n",
              "      display:flex;\n",
              "      flex-wrap:wrap;\n",
              "      gap: 12px;\n",
              "    }\n",
              "\n",
              "    .colab-df-convert {\n",
              "      background-color: #E8F0FE;\n",
              "      border: none;\n",
              "      border-radius: 50%;\n",
              "      cursor: pointer;\n",
              "      display: none;\n",
              "      fill: #1967D2;\n",
              "      height: 32px;\n",
              "      padding: 0 0 0 0;\n",
              "      width: 32px;\n",
              "    }\n",
              "\n",
              "    .colab-df-convert:hover {\n",
              "      background-color: #E2EBFA;\n",
              "      box-shadow: 0px 1px 2px rgba(60, 64, 67, 0.3), 0px 1px 3px 1px rgba(60, 64, 67, 0.15);\n",
              "      fill: #174EA6;\n",
              "    }\n",
              "\n",
              "    [theme=dark] .colab-df-convert {\n",
              "      background-color: #3B4455;\n",
              "      fill: #D2E3FC;\n",
              "    }\n",
              "\n",
              "    [theme=dark] .colab-df-convert:hover {\n",
              "      background-color: #434B5C;\n",
              "      box-shadow: 0px 1px 3px 1px rgba(0, 0, 0, 0.15);\n",
              "      filter: drop-shadow(0px 1px 2px rgba(0, 0, 0, 0.3));\n",
              "      fill: #FFFFFF;\n",
              "    }\n",
              "  </style>\n",
              "\n",
              "      <script>\n",
              "        const buttonEl =\n",
              "          document.querySelector('#df-520086b0-d4be-4010-bc73-0b8cddcb01cb button.colab-df-convert');\n",
              "        buttonEl.style.display =\n",
              "          google.colab.kernel.accessAllowed ? 'block' : 'none';\n",
              "\n",
              "        async function convertToInteractive(key) {\n",
              "          const element = document.querySelector('#df-520086b0-d4be-4010-bc73-0b8cddcb01cb');\n",
              "          const dataTable =\n",
              "            await google.colab.kernel.invokeFunction('convertToInteractive',\n",
              "                                                     [key], {});\n",
              "          if (!dataTable) return;\n",
              "\n",
              "          const docLinkHtml = 'Like what you see? Visit the ' +\n",
              "            '<a target=\"_blank\" href=https://colab.research.google.com/notebooks/data_table.ipynb>data table notebook</a>'\n",
              "            + ' to learn more about interactive tables.';\n",
              "          element.innerHTML = '';\n",
              "          dataTable['output_type'] = 'display_data';\n",
              "          await google.colab.output.renderOutput(dataTable, element);\n",
              "          const docLink = document.createElement('div');\n",
              "          docLink.innerHTML = docLinkHtml;\n",
              "          element.appendChild(docLink);\n",
              "        }\n",
              "      </script>\n",
              "    </div>\n",
              "  </div>\n",
              "  "
            ]
          },
          "metadata": {},
          "execution_count": 13
        }
      ],
      "source": [
        "train_data"
      ]
    },
    {
      "cell_type": "code",
      "execution_count": 14,
      "metadata": {
        "id": "JRIg-7wZ0IZa"
      },
      "outputs": [],
      "source": [
        "from sklearn.preprocessing import LabelEncoder\n",
        "\n",
        "# Assuming 'df' is your DataFrame and 'column_name' is the name of the column with categorical labels\n",
        "\n",
        "# Create an instance of LabelEncoder\n",
        "label_encoder = LabelEncoder()\n",
        "\n",
        "# Fit the label encoder on the categorical column\n",
        "train_data['label'] = label_encoder.fit_transform(train_data['label'])\n",
        "valid_data['label'] = label_encoder.fit_transform(valid_data['label'])\n",
        "test_data['label'] = label_encoder.fit_transform(test_data['label'])"
      ]
    },
    {
      "cell_type": "code",
      "execution_count": 15,
      "metadata": {
        "colab": {
          "base_uri": "https://localhost:8080/"
        },
        "id": "qJhmNv4c5jQ9",
        "outputId": "cde1b885-1f79-4dbd-8317-950164b542df"
      },
      "outputs": [
        {
          "output_type": "execute_result",
          "data": {
            "text/plain": [
              "1"
            ]
          },
          "metadata": {},
          "execution_count": 15
        }
      ],
      "source": [
        "train_data['label'][0]"
      ]
    },
    {
      "cell_type": "code",
      "execution_count": 16,
      "metadata": {
        "colab": {
          "base_uri": "https://localhost:8080/"
        },
        "id": "Mb5HrzKARJ6J",
        "outputId": "6d1d7751-0d9d-492e-971a-8ede81c016b7"
      },
      "outputs": [
        {
          "output_type": "execute_result",
          "data": {
            "text/plain": [
              "0"
            ]
          },
          "metadata": {},
          "execution_count": 16
        }
      ],
      "source": [
        "train_data['label'][1]"
      ]
    },
    {
      "cell_type": "code",
      "execution_count": 17,
      "metadata": {
        "colab": {
          "base_uri": "https://localhost:8080/"
        },
        "id": "s3dXW18hRKTU",
        "outputId": "75c4e0bd-6da3-404a-f41b-bb621fb4b1d8"
      },
      "outputs": [
        {
          "output_type": "execute_result",
          "data": {
            "text/plain": [
              "2"
            ]
          },
          "metadata": {},
          "execution_count": 17
        }
      ],
      "source": [
        "train_data['label'][2]"
      ]
    },
    {
      "cell_type": "code",
      "execution_count": 18,
      "metadata": {
        "colab": {
          "base_uri": "https://localhost:8080/"
        },
        "id": "88NJe7Wuxpzu",
        "outputId": "0d08acfd-8727-4a75-dcce-21fa30ef01be"
      },
      "outputs": [
        {
          "output_type": "stream",
          "name": "stdout",
          "text": [
            "Looking in indexes: https://pypi.org/simple, https://us-python.pkg.dev/colab-wheels/public/simple/\n",
            "Collecting transformers\n",
            "  Downloading transformers-4.29.2-py3-none-any.whl (7.1 MB)\n",
            "\u001b[2K     \u001b[90m━━━━━━━━━━━━━━━━━━━━━━━━━━━━━━━━━━━━━━━━\u001b[0m \u001b[32m7.1/7.1 MB\u001b[0m \u001b[31m81.8 MB/s\u001b[0m eta \u001b[36m0:00:00\u001b[0m\n",
            "\u001b[?25hRequirement already satisfied: filelock in /usr/local/lib/python3.10/dist-packages (from transformers) (3.12.0)\n",
            "Collecting huggingface-hub<1.0,>=0.14.1 (from transformers)\n",
            "  Downloading huggingface_hub-0.14.1-py3-none-any.whl (224 kB)\n",
            "\u001b[2K     \u001b[90m━━━━━━━━━━━━━━━━━━━━━━━━━━━━━━━━━━━━━━\u001b[0m \u001b[32m224.5/224.5 kB\u001b[0m \u001b[31m29.8 MB/s\u001b[0m eta \u001b[36m0:00:00\u001b[0m\n",
            "\u001b[?25hRequirement already satisfied: numpy>=1.17 in /usr/local/lib/python3.10/dist-packages (from transformers) (1.24.3)\n",
            "Requirement already satisfied: packaging>=20.0 in /usr/local/lib/python3.10/dist-packages (from transformers) (23.1)\n",
            "Requirement already satisfied: pyyaml>=5.1 in /usr/local/lib/python3.10/dist-packages (from transformers) (6.0)\n",
            "Requirement already satisfied: regex!=2019.12.17 in /usr/local/lib/python3.10/dist-packages (from transformers) (2022.10.31)\n",
            "Requirement already satisfied: requests in /usr/local/lib/python3.10/dist-packages (from transformers) (2.27.1)\n",
            "Collecting tokenizers!=0.11.3,<0.14,>=0.11.1 (from transformers)\n",
            "  Downloading tokenizers-0.13.3-cp310-cp310-manylinux_2_17_x86_64.manylinux2014_x86_64.whl (7.8 MB)\n",
            "\u001b[2K     \u001b[90m━━━━━━━━━━━━━━━━━━━━━━━━━━━━━━━━━━━━━━━━\u001b[0m \u001b[32m7.8/7.8 MB\u001b[0m \u001b[31m123.6 MB/s\u001b[0m eta \u001b[36m0:00:00\u001b[0m\n",
            "\u001b[?25hRequirement already satisfied: tqdm>=4.27 in /usr/local/lib/python3.10/dist-packages (from transformers) (4.65.0)\n",
            "Requirement already satisfied: fsspec in /usr/local/lib/python3.10/dist-packages (from huggingface-hub<1.0,>=0.14.1->transformers) (2023.4.0)\n",
            "Requirement already satisfied: typing-extensions>=3.7.4.3 in /usr/local/lib/python3.10/dist-packages (from huggingface-hub<1.0,>=0.14.1->transformers) (4.5.0)\n",
            "Requirement already satisfied: urllib3<1.27,>=1.21.1 in /usr/local/lib/python3.10/dist-packages (from requests->transformers) (1.26.15)\n",
            "Requirement already satisfied: certifi>=2017.4.17 in /usr/local/lib/python3.10/dist-packages (from requests->transformers) (2022.12.7)\n",
            "Requirement already satisfied: charset-normalizer~=2.0.0 in /usr/local/lib/python3.10/dist-packages (from requests->transformers) (2.0.12)\n",
            "Requirement already satisfied: idna<4,>=2.5 in /usr/local/lib/python3.10/dist-packages (from requests->transformers) (3.4)\n",
            "Installing collected packages: tokenizers, huggingface-hub, transformers\n",
            "Successfully installed huggingface-hub-0.14.1 tokenizers-0.13.3 transformers-4.29.2\n"
          ]
        }
      ],
      "source": [
        "!pip install transformers"
      ]
    },
    {
      "cell_type": "code",
      "execution_count": 19,
      "metadata": {
        "id": "sBhvmdVUrTbX"
      },
      "outputs": [],
      "source": [
        "import pandas as pd\n",
        "import numpy as np\n",
        "import transformers\n",
        "import torch\n",
        "import torch.nn as nn\n",
        "from torch.utils.data import Dataset\n",
        "from torch.utils.data import DataLoader\n",
        "import torch.optim as optim\n",
        "import torch.nn.functional as F\n",
        "from torchsummary import summary\n",
        "from tqdm import tqdm\n",
        "from transformers import AutoConfig, AutoTokenizer, AutoModel\n"
      ]
    },
    {
      "cell_type": "markdown",
      "source": [
        "Prepares the dataset for training, validation, and testing by creating data loaders."
      ],
      "metadata": {
        "id": "r0tepT7a6Pjb"
      }
    },
    {
      "cell_type": "code",
      "execution_count": 20,
      "metadata": {
        "colab": {
          "base_uri": "https://localhost:8080/",
          "height": 137,
          "referenced_widgets": [
            "41c26f9b5f4b4b76a1d3809399d5bbfe",
            "7eb5ca0b484e4e4d847b996f817f4f89",
            "4416b9f5b338452fa2477a8f7d8d8392",
            "8e56f816f9b542c2ba2951c86a1a808a",
            "bfb8f580818f461987f8b75da1dc521d",
            "f9137782298246d4b8df38882dd57cb8",
            "8c4afc4419f548389c97adb929877992",
            "7f45df04aba7470f905895835c7ba707",
            "0b4287d5d84148e9bd31153b677342d4",
            "f7e1e4a4741b43518a7d7c6316c446e9",
            "7b9149f09d054db2ac5f98caaba07fe6",
            "219d390b8833455e976fad84d747a75a",
            "f11255329c8045468b7e7ec41a4c0fdb",
            "3c87a463d6044271a13a994d0ae36f4e",
            "1c32ca4a8bb947118884cea1bd1012ed",
            "7cb12486cb0e472ea0983cfbabdae002",
            "15906bd4eb6942849fb2c9af3f2c670b",
            "f1921c0682c043958a821c85e383af3d",
            "1148507176344180921731d35c334a56",
            "f3ba496b962d4fd2a7e73dfe680c2c03",
            "a631cc173d244e78b895f4442e776a7c",
            "65adaf28885a4f778132bcdeab186139"
          ]
        },
        "id": "iyRfRfw1rgDd",
        "outputId": "57bb7997-c656-491f-a8ee-8fc20538ee99"
      },
      "outputs": [
        {
          "output_type": "display_data",
          "data": {
            "text/plain": [
              "Downloading (…)lve/main/config.json:   0%|          | 0.00/434 [00:00<?, ?B/s]"
            ],
            "application/vnd.jupyter.widget-view+json": {
              "version_major": 2,
              "version_minor": 0,
              "model_id": "41c26f9b5f4b4b76a1d3809399d5bbfe"
            }
          },
          "metadata": {}
        },
        {
          "output_type": "display_data",
          "data": {
            "text/plain": [
              "Downloading (…)solve/main/vocab.txt:   0%|          | 0.00/1.22M [00:00<?, ?B/s]"
            ],
            "application/vnd.jupyter.widget-view+json": {
              "version_major": 2,
              "version_minor": 0,
              "model_id": "219d390b8833455e976fad84d747a75a"
            }
          },
          "metadata": {}
        }
      ],
      "source": [
        "class ParsBertDataset(Dataset):\n",
        "    def __init__(self,data, tokenizer,max_length):\n",
        "        super(ParsBertDataset, self).__init__()\n",
        "        #self.root_dir=root_dir\n",
        "        self.train_csv= data\n",
        "        self.tokenizer=tokenizer\n",
        "        self.target=self.train_csv.iloc[:,1]\n",
        "        self.max_length=max_length\n",
        "        \n",
        "    def __len__(self):\n",
        "        return len(self.train_csv)\n",
        "    \n",
        "    def __getitem__(self, index):\n",
        "        \n",
        "        text1 = self.train_csv.iloc[index,0]\n",
        "        text2 = self.train_csv.iloc[index,1]\n",
        "        inputs = self.tokenizer.encode_plus(\n",
        "            text1 ,\n",
        "            text2,\n",
        "            pad_to_max_length=True,\n",
        "            add_special_tokens=True,\n",
        "            return_attention_mask=True,\n",
        "            max_length=self.max_length,\n",
        "        )\n",
        "        ids = inputs[\"input_ids\"]\n",
        "        token_type_ids = inputs[\"token_type_ids\"]\n",
        "        mask = inputs[\"attention_mask\"]\n",
        "        return {\n",
        "            'ids': torch.tensor(ids, dtype=torch.long),\n",
        "            'mask': torch.tensor(mask, dtype=torch.long),\n",
        "            'token_type_ids': torch.tensor(token_type_ids, dtype=torch.long),\n",
        "            'target': torch.tensor(self.train_csv.iloc[index, 2], dtype=torch.long)\n",
        "            }\n",
        "tokenizer = AutoTokenizer.from_pretrained(\"HooshvareLab/bert-base-parsbert-uncased\")\n",
        "\n"
      ]
    },
    {
      "cell_type": "code",
      "execution_count": 21,
      "metadata": {
        "id": "bT6Zjhl7NDNc"
      },
      "outputs": [],
      "source": [
        "dataset = ParsBertDataset(train_data,tokenizer, max_length=100)\n",
        "dataloader=DataLoader(dataset=dataset,batch_size=128,drop_last= True)\n",
        "\n",
        "dataset_valid = ParsBertDataset(valid_data,tokenizer, max_length=100)\n",
        "valid_dataloader= DataLoader(dataset=dataset_valid,batch_size=128,drop_last= True)\n",
        "\n",
        "dataset_test = ParsBertDataset(test_data,tokenizer, max_length=100)\n",
        "test_dataloader= DataLoader(dataset=dataset_test,batch_size=128,drop_last= True)"
      ]
    },
    {
      "cell_type": "code",
      "execution_count": 22,
      "metadata": {
        "colab": {
          "base_uri": "https://localhost:8080/"
        },
        "id": "wxyy0cKdzMOu",
        "outputId": "811ab301-93e3-4418-e07b-6c7da38b93f3"
      },
      "outputs": [
        {
          "output_type": "stream",
          "name": "stderr",
          "text": [
            "Truncation was not explicitly activated but `max_length` is provided a specific value, please use `truncation=True` to explicitly truncate examples to max length. Defaulting to 'longest_first' truncation strategy. If you encode pairs of sequences (GLUE-style) with the tokenizer you can select this strategy more precisely by providing a specific strategy to `truncation`.\n",
            "/usr/local/lib/python3.10/dist-packages/transformers/tokenization_utils_base.py:2364: FutureWarning: The `pad_to_max_length` argument is deprecated and will be removed in a future version, use `padding=True` or `padding='longest'` to pad to the longest sequence in the batch, or use `padding='max_length'` to pad to a max length. In this case, you can give a specific length with `max_length` (e.g. `max_length=45`) or leave max_length to None to pad to the maximal input size of the model (e.g. 512 for Bert).\n",
            "  warnings.warn(\n"
          ]
        },
        {
          "output_type": "execute_result",
          "data": {
            "text/plain": [
              "{'ids': tensor([    2,  3001,  3485,   331,  5021,  3673,  3251,   331,  8367,  2471,\n",
              "          2031,  3509,  2036,  2903,  9827,  8575,  5188,   300, 40431,   331,\n",
              "         35569,  2357,  2527,   331,  3648,  4228,  2031,  3199,  2042,  3485,\n",
              "          3686, 11849, 11481, 21235,  2083,    15,     4, 35569,  2514,  2036,\n",
              "          6451,  3987, 24402,  2083,  2046,  2440,  3251,   331,  8367,  2471,\n",
              "          2049,  2031,  3509,  4991,  2068,    15,  3018, 64609,   331, 63253,\n",
              "          2073,  3633,  2502,  2028, 35569,  2031,  9276,  7069,  2087,    15,\n",
              "             4,     0,     0,     0,     0,     0,     0,     0,     0,     0,\n",
              "             0,     0,     0,     0,     0,     0,     0,     0,     0,     0,\n",
              "             0,     0,     0,     0,     0,     0,     0,     0,     0,     0]),\n",
              " 'mask': tensor([1, 1, 1, 1, 1, 1, 1, 1, 1, 1, 1, 1, 1, 1, 1, 1, 1, 1, 1, 1, 1, 1, 1, 1,\n",
              "         1, 1, 1, 1, 1, 1, 1, 1, 1, 1, 1, 1, 1, 1, 1, 1, 1, 1, 1, 1, 1, 1, 1, 1,\n",
              "         1, 1, 1, 1, 1, 1, 1, 1, 1, 1, 1, 1, 1, 1, 1, 1, 1, 1, 1, 1, 1, 1, 1, 0,\n",
              "         0, 0, 0, 0, 0, 0, 0, 0, 0, 0, 0, 0, 0, 0, 0, 0, 0, 0, 0, 0, 0, 0, 0, 0,\n",
              "         0, 0, 0, 0]),\n",
              " 'token_type_ids': tensor([0, 0, 0, 0, 0, 0, 0, 0, 0, 0, 0, 0, 0, 0, 0, 0, 0, 0, 0, 0, 0, 0, 0, 0,\n",
              "         0, 0, 0, 0, 0, 0, 0, 0, 0, 0, 0, 0, 0, 1, 1, 1, 1, 1, 1, 1, 1, 1, 1, 1,\n",
              "         1, 1, 1, 1, 1, 1, 1, 1, 1, 1, 1, 1, 1, 1, 1, 1, 1, 1, 1, 1, 1, 1, 1, 0,\n",
              "         0, 0, 0, 0, 0, 0, 0, 0, 0, 0, 0, 0, 0, 0, 0, 0, 0, 0, 0, 0, 0, 0, 0, 0,\n",
              "         0, 0, 0, 0]),\n",
              " 'target': tensor(2)}"
            ]
          },
          "metadata": {},
          "execution_count": 22
        }
      ],
      "source": [
        "dataset.__getitem__(2)"
      ]
    },
    {
      "cell_type": "code",
      "execution_count": 23,
      "metadata": {
        "id": "KTHGLTmub-lE"
      },
      "outputs": [],
      "source": [
        "#12/0"
      ]
    },
    {
      "cell_type": "code",
      "execution_count": 24,
      "metadata": {
        "id": "dFzhjqY5GH0-"
      },
      "outputs": [],
      "source": [
        "def Average(lst):\n",
        "    return sum(lst) / len(lst)"
      ]
    },
    {
      "cell_type": "markdown",
      "metadata": {
        "id": "Cb9xfWeEZyFU"
      },
      "source": [
        "# Task 1"
      ]
    },
    {
      "cell_type": "markdown",
      "metadata": {
        "id": "NvQ_Zev2-zMY"
      },
      "source": [
        "**Model**"
      ]
    },
    {
      "cell_type": "code",
      "execution_count": 25,
      "metadata": {
        "id": "1g35I6cEZ1DZ"
      },
      "outputs": [],
      "source": [
        "class Pars_BERT_transformer(nn.Module):\n",
        "    def __init__(self):\n",
        "        super(Pars_BERT_transformer, self).__init__()\n",
        "        self.bert_model = AutoModel.from_pretrained(\"HooshvareLab/bert-base-parsbert-uncased\")\n",
        "        self.bert_model.requires_grad_(False)  # Freeze BERT layers\n",
        "        self.encoder_layer = nn.TransformerEncoderLayer(d_model=768, nhead=8)\n",
        "        self.transformer_encoder = nn.TransformerEncoder(self.encoder_layer, num_layers=1)\n",
        "        self.linear1 = nn.Linear(768, 256)\n",
        "        self.relu = nn.ReLU()\n",
        "        self.dropout = nn.Dropout(0.5)\n",
        "        self.out = nn.Linear(256, 3)\n",
        "        \n",
        "    def forward(self, ids, mask, token_type_ids):\n",
        "        with torch.no_grad():\n",
        "            embeddings, _ = self.bert_model(ids, attention_mask=mask, token_type_ids=token_type_ids, return_dict=False)\n",
        "        \n",
        "        encoded_embeddings = self.transformer_encoder(embeddings)\n",
        "        cls_token = encoded_embeddings[:, 0, :]\n",
        "\n",
        "        out = self.linear1(cls_token)\n",
        "        out = self.relu(out)\n",
        "        out = self.dropout(out)\n",
        "        out = self.out(out)\n",
        "        \n",
        "        return out\n"
      ]
    },
    {
      "cell_type": "code",
      "execution_count": 26,
      "metadata": {
        "id": "5E6jlfSmF2Y8"
      },
      "outputs": [],
      "source": [
        "def finetune_transformer(epochs, train_dataloader, valid_dataloader, model, loss_fn, optimizer, device, name_plot):\n",
        "    model.to(device)\n",
        "    model.train()\n",
        "    \n",
        "    train_loss_history = []\n",
        "    train_acc_history = []\n",
        "    val_loss_history = []\n",
        "    val_acc_history = []\n",
        "    \n",
        "    for epoch in range(epochs):\n",
        "        train_loss = []\n",
        "        train_acc = []\n",
        "        val_loss = []\n",
        "        val_acc = []\n",
        "        \n",
        "        print(f\"Epoch {epoch+1}/{epochs}\")\n",
        "        \n",
        "        # Training\n",
        "        model.train()\n",
        "        train_loop = tqdm(enumerate(train_dataloader), leave=False, total=len(train_dataloader))\n",
        "        for batch, dl in train_loop:\n",
        "            ids = dl['ids'].to(device)\n",
        "            token_type_ids = dl['token_type_ids'].to(device)\n",
        "            mask = dl['mask'].to(device)\n",
        "            label1 = dl['target'].to(device)\n",
        "            label1 = label1.unsqueeze(1)\n",
        "            \n",
        "            optimizer.zero_grad()\n",
        "            \n",
        "            output = model(ids=ids, mask=mask, token_type_ids=token_type_ids)\n",
        "            label1 = label1.squeeze()\n",
        "            label = pd.get_dummies(label1.cpu())\n",
        "            label = torch.from_numpy(label.values)\n",
        "            label.to(device)\n",
        "            label = label.type_as(output)\n",
        "            \n",
        "            loss = loss_fn(output, label)\n",
        "            loss.backward()\n",
        "            optimizer.step()\n",
        "            \n",
        "            pred = torch.argmax(output, dim=1)\n",
        "            num_correct = torch.sum(pred == label1).item()\n",
        "            num_samples = pred.shape[0]\n",
        "            accuracy = num_correct / num_samples\n",
        "            \n",
        "            train_loop.set_description(f'Epoch {epoch+1}/{epochs}')\n",
        "            train_loop.set_postfix(loss=loss.item(), acc=accuracy)\n",
        "            \n",
        "            train_loss.append(loss.item())\n",
        "            train_acc.append(accuracy)\n",
        "        \n",
        "        train_loss_history.append(np.mean(train_loss))\n",
        "        train_acc_history.append(np.mean(train_acc))\n",
        "        \n",
        "        # Validation\n",
        "        model.eval()\n",
        "        val_loss = []\n",
        "        val_acc = []\n",
        "        with torch.no_grad():\n",
        "            val_loop = tqdm(enumerate(valid_dataloader), leave=False, total=len(valid_dataloader))\n",
        "            for batch, dl in val_loop:\n",
        "                ids = dl['ids'].to(device)\n",
        "                token_type_ids = dl['token_type_ids'].to(device)\n",
        "                mask = dl['mask'].to(device)\n",
        "                label1 = dl['target'].to(device)\n",
        "                label1 = label1.unsqueeze(1)\n",
        "\n",
        "                output = model(ids=ids, mask=mask, token_type_ids=token_type_ids)\n",
        "                label1 = label1.squeeze()\n",
        "                label = pd.get_dummies(label1.cpu())\n",
        "                label = torch.from_numpy(label.values)\n",
        "                label.to(device)\n",
        "                label = label.type_as(output)\n",
        "\n",
        "                loss = loss_fn(output, label)\n",
        "                pred = torch.argmax(output, dim=1)\n",
        "                num_correct = torch.sum(pred == label1).item()\n",
        "                num_samples = pred.shape[0]\n",
        "                accuracy = num_correct / num_samples\n",
        "\n",
        "                val_loop.set_description(f'Epoch {epoch+1}/{epochs}')\n",
        "                val_loop.set_postfix(loss=loss.item(), acc=accuracy)\n",
        "\n",
        "                val_loss.append(loss.item())\n",
        "                val_acc.append(accuracy)\n",
        "            \n",
        "        val_loss_history.append(np.mean(val_loss))\n",
        "        val_acc_history.append(np.mean(val_acc))\n",
        "        \n",
        "        # Print and plot train/validation loss and accuracy\n",
        "        print(f'Train Loss: {train_loss_history[-1]:.4f} | Train Acc: {train_acc_history[-1]*100:.2f}%')\n",
        "        print(f'Val Loss: {val_loss_history[-1]:.4f} | Val Acc: {val_acc_history[-1]*100:.2f}%')\n",
        "    \n",
        "    # Plot train/validation loss and accuracy\n",
        "    plt.figure(figsize=(12, 4))\n",
        "    plt.subplot(1, 2, 1)\n",
        "    plt.plot(train_loss_history, label='Train Loss')\n",
        "    plt.plot(val_loss_history, label='Val Loss')\n",
        "    plt.xlabel('Epoch')\n",
        "    plt.ylabel('Loss')\n",
        "    plt.legend()\n",
        "    \n",
        "    plt.subplot(1, 2, 2)\n",
        "    plt.plot(train_acc_history, label='Train Acc')\n",
        "    plt.plot(val_acc_history, label='Val Acc')\n",
        "    plt.xlabel('Epoch')\n",
        "    plt.ylabel('Accuracy')\n",
        "    plt.legend()\n",
        "    \n",
        "    plt.savefig('training_plot_' + name_plot + '.png')  # Save the figure as a PNG file\n",
        "    \n",
        "    return model"
      ]
    },
    {
      "cell_type": "code",
      "execution_count": 27,
      "metadata": {
        "id": "VeLMRbd9F-2i"
      },
      "outputs": [],
      "source": [
        "from sklearn.metrics import accuracy_score, precision_score, recall_score, f1_score, confusion_matrix\n",
        "import pandas as pd\n",
        "import numpy as np\n",
        "\n",
        "def model_eval(model, test_dataloader, name_plot):\n",
        "    model.eval()\n",
        "    test_loop = tqdm(enumerate(test_dataloader), leave=False, total=len(test_dataloader))\n",
        "    with torch.no_grad():\n",
        "        all_labels = []\n",
        "        all_preds = []\n",
        "        \n",
        "        for batch, dl in test_loop:\n",
        "            ids = dl['ids'].to(device)\n",
        "            token_type_ids = dl['token_type_ids'].to(device)\n",
        "            mask = dl['mask'].to(device)\n",
        "            label1 = dl['target'].to(device)\n",
        "            label1 = label1.unsqueeze(1)\n",
        "            \n",
        "            output = model(ids=ids, mask=mask, token_type_ids=token_type_ids)\n",
        "            label1 = label1.squeeze()      \n",
        "            label = pd.get_dummies(label1.cpu())\n",
        "            label = torch.from_numpy(label.values)\n",
        "            label = label.to(device)\n",
        "            label = label.type_as(output)\n",
        "            \n",
        "            pred = torch.argmax(output, dim=1)\n",
        "            label1 = label1.cpu().numpy()\n",
        "            pred = pred.cpu().numpy()\n",
        "            \n",
        "            all_labels.extend(label1)\n",
        "            all_preds.extend(pred)\n",
        "    \n",
        "    # Calculate metrics\n",
        "    accuracy = accuracy_score(all_labels, all_preds)\n",
        "    precision = precision_score(all_labels, all_preds, average='macro')\n",
        "    recall = recall_score(all_labels, all_preds, average='macro')\n",
        "    f1 = f1_score(all_labels, all_preds, average='macro')\n",
        "\n",
        "    # Compute confusion matrix\n",
        "    cm = confusion_matrix(all_labels, all_preds)\n",
        "    \n",
        "    print(f'Test Accuracy: {accuracy*100:.2f}')\n",
        "    print(f'Test Precision: {precision*100:.2f}')\n",
        "    print(f'Test Recall: {recall*100:.2f}')\n",
        "    print(f'Test F1-score: {f1*100:.2f}')\n",
        "    print('Confusion Matrix:')\n",
        "    print(cm)\n",
        "\n",
        "    classes = ['Contradiction', 'Entailment', 'Neutral']\n",
        "    # Create a figure and axis\n",
        "    fig, ax = plt.subplots()\n",
        "\n",
        "    # Create heatmap\n",
        "    sns.heatmap(cm, annot=True, cmap='Blues', fmt='d', xticklabels=classes, yticklabels=classes, ax=ax)\n",
        "\n",
        "    # Set axis labels and title\n",
        "    ax.set_xlabel('Predicted Labels')\n",
        "    ax.set_ylabel('True Labels')\n",
        "    ax.set_title('Confusion Matrix')\n",
        "    plt.savefig('Confusion_Matrix_' + name_plot + '.png')# Show the plot\n",
        "    plt.show()\n",
        "    return accuracy, precision, recall, f1, cm\n"
      ]
    },
    {
      "cell_type": "code",
      "execution_count": 28,
      "metadata": {
        "colab": {
          "base_uri": "https://localhost:8080/"
        },
        "id": "8uGCLOSMGbRV",
        "outputId": "c8ec3345-c9eb-4bc0-8a13-4546a0a27c2e"
      },
      "outputs": [
        {
          "output_type": "stream",
          "name": "stdout",
          "text": [
            "GPU is available\n"
          ]
        }
      ],
      "source": [
        "is_cuda = torch.cuda.is_available()\n",
        "\n",
        "# If we have a GPU available, we'll set our device to GPU. We'll use this device variable later in our code.\n",
        "if is_cuda:\n",
        "    device = torch.device(\"cuda\")\n",
        "    print(\"GPU is available\")\n",
        "else:\n",
        "    device = torch.device(\"cpu\")\n",
        "    print(\"GPU not available, CPU used\")"
      ]
    },
    {
      "cell_type": "code",
      "execution_count": 29,
      "metadata": {
        "colab": {
          "base_uri": "https://localhost:8080/",
          "height": 1000,
          "referenced_widgets": [
            "115d81dea37d48e8ba2c8ac3544de39a",
            "3adb862c79aa4026a441a68aef020b7c",
            "e0fd69adc95448edb79e3d9feb862ae0",
            "752272a82598494889ce36ad75fc6ac9",
            "fda6dd0633974c719079f8f5908f227f",
            "6a8056c52b7f45a2b4c2fa8dea23b70a",
            "0eb3da305a4944108653841b242b4838",
            "b1e6a28979344e8db5554a5aafca01c2",
            "ca51740b95594650955a91ac87ad73ed",
            "70ed0136f81a4ce985ffb4ee7845eedc",
            "e3105824920d4eb489a04674d8c50f53"
          ]
        },
        "id": "qUhdzFgRGbwK",
        "outputId": "31f5e5be-576a-4d3d-dc3f-6c6883a6c957"
      },
      "outputs": [
        {
          "output_type": "display_data",
          "data": {
            "text/plain": [
              "Downloading pytorch_model.bin:   0%|          | 0.00/654M [00:00<?, ?B/s]"
            ],
            "application/vnd.jupyter.widget-view+json": {
              "version_major": 2,
              "version_minor": 0,
              "model_id": "115d81dea37d48e8ba2c8ac3544de39a"
            }
          },
          "metadata": {}
        },
        {
          "output_type": "stream",
          "name": "stderr",
          "text": [
            "Some weights of the model checkpoint at HooshvareLab/bert-base-parsbert-uncased were not used when initializing BertModel: ['cls.seq_relationship.weight', 'cls.predictions.bias', 'cls.predictions.transform.dense.bias', 'cls.predictions.transform.LayerNorm.bias', 'cls.predictions.transform.LayerNorm.weight', 'cls.predictions.decoder.weight', 'cls.seq_relationship.bias', 'cls.predictions.transform.dense.weight', 'cls.predictions.decoder.bias']\n",
            "- This IS expected if you are initializing BertModel from the checkpoint of a model trained on another task or with another architecture (e.g. initializing a BertForSequenceClassification model from a BertForPreTraining model).\n",
            "- This IS NOT expected if you are initializing BertModel from the checkpoint of a model that you expect to be exactly identical (initializing a BertForSequenceClassification model from a BertForSequenceClassification model).\n"
          ]
        },
        {
          "output_type": "stream",
          "name": "stdout",
          "text": [
            "Epoch 1/20\n"
          ]
        },
        {
          "output_type": "stream",
          "name": "stderr",
          "text": []
        },
        {
          "output_type": "stream",
          "name": "stdout",
          "text": [
            "Train Loss: 1.0102 | Train Acc: 47.53%\n",
            "Val Loss: 0.9857 | Val Acc: 48.83%\n",
            "Epoch 2/20\n"
          ]
        },
        {
          "output_type": "stream",
          "name": "stderr",
          "text": []
        },
        {
          "output_type": "stream",
          "name": "stdout",
          "text": [
            "Train Loss: 0.9432 | Train Acc: 53.06%\n",
            "Val Loss: 0.8901 | Val Acc: 56.84%\n",
            "Epoch 3/20\n"
          ]
        },
        {
          "output_type": "stream",
          "name": "stderr",
          "text": []
        },
        {
          "output_type": "stream",
          "name": "stdout",
          "text": [
            "Train Loss: 0.9077 | Train Acc: 55.85%\n",
            "Val Loss: 0.8800 | Val Acc: 55.47%\n",
            "Epoch 4/20\n"
          ]
        },
        {
          "output_type": "stream",
          "name": "stderr",
          "text": []
        },
        {
          "output_type": "stream",
          "name": "stdout",
          "text": [
            "Train Loss: 0.8930 | Train Acc: 56.24%\n",
            "Val Loss: 1.1083 | Val Acc: 42.32%\n",
            "Epoch 5/20\n"
          ]
        },
        {
          "output_type": "stream",
          "name": "stderr",
          "text": []
        },
        {
          "output_type": "stream",
          "name": "stdout",
          "text": [
            "Train Loss: 0.8930 | Train Acc: 56.68%\n",
            "Val Loss: 1.0393 | Val Acc: 48.96%\n",
            "Epoch 6/20\n"
          ]
        },
        {
          "output_type": "stream",
          "name": "stderr",
          "text": []
        },
        {
          "output_type": "stream",
          "name": "stdout",
          "text": [
            "Train Loss: 0.8833 | Train Acc: 57.55%\n",
            "Val Loss: 0.8660 | Val Acc: 56.71%\n",
            "Epoch 7/20\n"
          ]
        },
        {
          "output_type": "stream",
          "name": "stderr",
          "text": []
        },
        {
          "output_type": "stream",
          "name": "stdout",
          "text": [
            "Train Loss: 0.8584 | Train Acc: 57.39%\n",
            "Val Loss: 0.8738 | Val Acc: 56.45%\n",
            "Epoch 8/20\n"
          ]
        },
        {
          "output_type": "stream",
          "name": "stderr",
          "text": []
        },
        {
          "output_type": "stream",
          "name": "stdout",
          "text": [
            "Train Loss: 0.8629 | Train Acc: 57.97%\n",
            "Val Loss: 0.8508 | Val Acc: 59.38%\n",
            "Epoch 9/20\n"
          ]
        },
        {
          "output_type": "stream",
          "name": "stderr",
          "text": []
        },
        {
          "output_type": "stream",
          "name": "stdout",
          "text": [
            "Train Loss: 0.9020 | Train Acc: 55.75%\n",
            "Val Loss: 0.8310 | Val Acc: 61.72%\n",
            "Epoch 10/20\n"
          ]
        },
        {
          "output_type": "stream",
          "name": "stderr",
          "text": []
        },
        {
          "output_type": "stream",
          "name": "stdout",
          "text": [
            "Train Loss: 0.8689 | Train Acc: 57.66%\n",
            "Val Loss: 0.8421 | Val Acc: 59.51%\n",
            "Epoch 11/20\n"
          ]
        },
        {
          "output_type": "stream",
          "name": "stderr",
          "text": []
        },
        {
          "output_type": "stream",
          "name": "stdout",
          "text": [
            "Train Loss: 0.8439 | Train Acc: 59.58%\n",
            "Val Loss: 0.8750 | Val Acc: 57.81%\n",
            "Epoch 12/20\n"
          ]
        },
        {
          "output_type": "stream",
          "name": "stderr",
          "text": []
        },
        {
          "output_type": "stream",
          "name": "stdout",
          "text": [
            "Train Loss: 0.8468 | Train Acc: 59.40%\n",
            "Val Loss: 1.0140 | Val Acc: 51.63%\n",
            "Epoch 13/20\n"
          ]
        },
        {
          "output_type": "stream",
          "name": "stderr",
          "text": []
        },
        {
          "output_type": "stream",
          "name": "stdout",
          "text": [
            "Train Loss: 0.8347 | Train Acc: 60.70%\n",
            "Val Loss: 0.8485 | Val Acc: 61.20%\n",
            "Epoch 14/20\n"
          ]
        },
        {
          "output_type": "stream",
          "name": "stderr",
          "text": []
        },
        {
          "output_type": "stream",
          "name": "stdout",
          "text": [
            "Train Loss: 0.8828 | Train Acc: 57.48%\n",
            "Val Loss: 0.8765 | Val Acc: 58.72%\n",
            "Epoch 15/20\n"
          ]
        },
        {
          "output_type": "stream",
          "name": "stderr",
          "text": []
        },
        {
          "output_type": "stream",
          "name": "stdout",
          "text": [
            "Train Loss: 0.8236 | Train Acc: 60.49%\n",
            "Val Loss: 0.8107 | Val Acc: 61.13%\n",
            "Epoch 16/20\n"
          ]
        },
        {
          "output_type": "stream",
          "name": "stderr",
          "text": []
        },
        {
          "output_type": "stream",
          "name": "stdout",
          "text": [
            "Train Loss: 0.8324 | Train Acc: 59.75%\n",
            "Val Loss: 0.8158 | Val Acc: 60.29%\n",
            "Epoch 17/20\n"
          ]
        },
        {
          "output_type": "stream",
          "name": "stderr",
          "text": []
        },
        {
          "output_type": "stream",
          "name": "stdout",
          "text": [
            "Train Loss: 0.8446 | Train Acc: 59.17%\n",
            "Val Loss: 0.8267 | Val Acc: 60.09%\n",
            "Epoch 18/20\n"
          ]
        },
        {
          "output_type": "stream",
          "name": "stderr",
          "text": []
        },
        {
          "output_type": "stream",
          "name": "stdout",
          "text": [
            "Train Loss: 0.8183 | Train Acc: 61.91%\n",
            "Val Loss: 0.9681 | Val Acc: 55.60%\n",
            "Epoch 19/20\n"
          ]
        },
        {
          "output_type": "stream",
          "name": "stderr",
          "text": []
        },
        {
          "output_type": "stream",
          "name": "stdout",
          "text": [
            "Train Loss: 0.8767 | Train Acc: 57.23%\n",
            "Val Loss: 0.9102 | Val Acc: 57.29%\n",
            "Epoch 20/20\n"
          ]
        },
        {
          "output_type": "stream",
          "name": "stderr",
          "text": []
        },
        {
          "output_type": "stream",
          "name": "stdout",
          "text": [
            "Train Loss: 0.8910 | Train Acc: 56.79%\n",
            "Val Loss: 0.8136 | Val Acc: 62.63%\n"
          ]
        },
        {
          "output_type": "stream",
          "name": "stderr",
          "text": []
        },
        {
          "output_type": "stream",
          "name": "stdout",
          "text": [
            "Test Accuracy: 62.43\n",
            "Test Precision: 64.46\n",
            "Test Recall: 62.09\n",
            "Test F1-score: 59.22\n",
            "Confusion Matrix:\n",
            "[[127 283  91]\n",
            " [ 35 436  39]\n",
            " [ 35  94 396]]\n"
          ]
        },
        {
          "output_type": "display_data",
          "data": {
            "text/plain": [
              "<Figure size 1200x400 with 2 Axes>"
            ],
            "image/png": "[encoded data removed]"
          },
          "metadata": {}
        },
        {
          "output_type": "display_data",
          "data": {
            "text/plain": [
              "<Figure size 640x480 with 2 Axes>"
            ],
            "image/png": "[encoded data removed]"
          },
          "metadata": {}
        }
      ],
      "source": [
        "model_name = Pars_BERT_transformer()\n",
        "optimizer= optim.Adam(model_name.parameters(),lr= 0.0001)\n",
        "loss_fn = nn.CrossEntropyLoss()\n",
        "name_plot = 'transformer_encoder'\n",
        "model_finetune = finetune_transformer(20, dataloader, valid_dataloader, model_name, loss_fn, optimizer, device, name_plot)\n",
        "accuracy, precision, recall, f1, cm = model_eval(model_finetune, test_dataloader, name_plot)"
      ]
    },
    {
      "cell_type": "code",
      "execution_count": 29,
      "metadata": {
        "id": "X5N6ecTcHMmA"
      },
      "outputs": [],
      "source": []
    },
    {
      "cell_type": "code",
      "execution_count": 29,
      "metadata": {
        "id": "J6AHnDBnGcEf"
      },
      "outputs": [],
      "source": []
    },
    {
      "cell_type": "markdown",
      "metadata": {
        "id": "iUsz1k87YGCj"
      },
      "source": [
        "# Task 2"
      ]
    },
    {
      "cell_type": "markdown",
      "metadata": {
        "id": "7915n3oxZRil"
      },
      "source": [
        "**Model**"
      ]
    },
    {
      "cell_type": "code",
      "execution_count": 30,
      "metadata": {
        "id": "d8RGGrVMqr6s"
      },
      "outputs": [],
      "source": [
        "class Pars_BERT(nn.Module):\n",
        "    def __init__(self):\n",
        "        super(Pars_BERT, self).__init__()\n",
        "        self.bert_model = AutoModel.from_pretrained(\"HooshvareLab/bert-base-parsbert-uncased\")\n",
        "        self.linear1 = nn.Linear(768, 256)\n",
        "        self.relu = nn.ReLU()\n",
        "        self.dropout = nn.Dropout(0.5)\n",
        "        self.out = nn.Linear(256, 3)\n",
        "        \n",
        "    def forward(self,ids,mask,token_type_ids):\n",
        "        _,o2= self.bert_model(ids,attention_mask=mask,token_type_ids=token_type_ids, return_dict=False)\n",
        "        out= self.linear1(o2)\n",
        "        out= self.relu(out)\n",
        "        out = self.dropout(out)\n",
        "        out= self.out(out)\n",
        "        \n",
        "        return out\n"
      ]
    },
    {
      "cell_type": "code",
      "execution_count": 31,
      "metadata": {
        "id": "2rKS37NbCIBS"
      },
      "outputs": [],
      "source": [
        "#12/0"
      ]
    },
    {
      "cell_type": "code",
      "execution_count": 32,
      "metadata": {
        "id": "TTp8dZtDCKbn",
        "colab": {
          "base_uri": "https://localhost:8080/"
        },
        "outputId": "1cf7dfce-ac39-459f-a7bd-266bdd71ac4b"
      },
      "outputs": [
        {
          "output_type": "stream",
          "name": "stderr",
          "text": [
            "Some weights of the model checkpoint at HooshvareLab/bert-base-parsbert-uncased were not used when initializing BertModel: ['cls.seq_relationship.weight', 'cls.predictions.bias', 'cls.predictions.transform.dense.bias', 'cls.predictions.transform.LayerNorm.bias', 'cls.predictions.transform.LayerNorm.weight', 'cls.predictions.decoder.weight', 'cls.seq_relationship.bias', 'cls.predictions.transform.dense.weight', 'cls.predictions.decoder.bias']\n",
            "- This IS expected if you are initializing BertModel from the checkpoint of a model trained on another task or with another architecture (e.g. initializing a BertForSequenceClassification model from a BertForPreTraining model).\n",
            "- This IS NOT expected if you are initializing BertModel from the checkpoint of a model that you expect to be exactly identical (initializing a BertForSequenceClassification model from a BertForSequenceClassification model).\n"
          ]
        }
      ],
      "source": [
        "model_task2=Pars_BERT()\n",
        "\n",
        "loss_fn = nn.CrossEntropyLoss()\n",
        "\n",
        "#Initialize Optimizer\n",
        "optimizer= optim.Adam(model_task2.parameters(),lr= 0.0001)"
      ]
    },
    {
      "cell_type": "code",
      "execution_count": 33,
      "metadata": {
        "id": "LeN1y8O1rlHn"
      },
      "outputs": [],
      "source": [
        "for param in model_task2.bert_model.parameters():\n",
        "    param.requires_grad = True"
      ]
    },
    {
      "cell_type": "markdown",
      "metadata": {
        "id": "QWzZEVF1ZJzS"
      },
      "source": [
        "**Finetune**"
      ]
    },
    {
      "cell_type": "code",
      "execution_count": 34,
      "metadata": {
        "id": "VP_EqrwBANk-"
      },
      "outputs": [],
      "source": [
        "from transformers.models.longformer import LongformerForSequenceClassification\n",
        "import torch\n",
        "import numpy as np\n",
        "from tqdm import tqdm\n",
        "import matplotlib.pyplot as plt\n",
        "\n",
        "def finetune(epochs, dataloader,valid_dataloader, model_task2, loss_fn, optimizer, device, name_plot):\n",
        "    train_loss_history = []\n",
        "    train_acc_history = []\n",
        "    val_loss_history = []\n",
        "    val_acc_history = []\n",
        "    for epoch in range(epochs):\n",
        "        loss_his = []\n",
        "        acc_his = []\n",
        "        print(f\"Epoch {epoch+1}/{epochs}\")\n",
        "        # Training\n",
        "        model_task2.to(device)    \n",
        "        model_task2.train()\n",
        "        loop = tqdm(enumerate(dataloader), leave=False, total=len(dataloader))\n",
        "        for batch, dl in loop:\n",
        "            ids = dl['ids'].to(device)\n",
        "            token_type_ids = dl['token_type_ids'].to(device)\n",
        "            mask = dl['mask'].to(device)\n",
        "            label1 = dl['target'].to(device)\n",
        "            label1 = label1.unsqueeze(1)\n",
        "            \n",
        "            optimizer.zero_grad()\n",
        "            \n",
        "            output = model_task2(ids=ids, mask=mask, token_type_ids=token_type_ids)\n",
        "\n",
        "            label1 = label1.squeeze()      \n",
        "            label = pd.get_dummies(label1.cpu())\n",
        "            label = torch.from_numpy(label.values)\n",
        "            label.to(device)\n",
        "            label = label.type_as(output)\n",
        "\n",
        "            \n",
        "            loss = loss_fn(output, label)\n",
        "            loss.backward()\n",
        "            \n",
        "            optimizer.step()\n",
        "            \n",
        "            pred = torch.argmax(output, dim=1)  # Get the predicted class labels\n",
        "            \n",
        "            num_correct = torch.sum(pred == label1).item()\n",
        "            num_samples = pred.shape[0]\n",
        "            accuracy = num_correct / num_samples\n",
        "            \n",
        "            #print(f'Got {num_correct} / {num_samples} with accuracy {accuracy*100:.2f}')\n",
        "            \n",
        "            # Show progress while training\n",
        "            loop.set_description(f'Epoch={epoch}/{epochs}')\n",
        "            loop.set_postfix(loss=loss.item(), acc=accuracy)\n",
        "            loss_his.append(loss.item())\n",
        "            acc_his.append(accuracy)\n",
        "\n",
        "        Average_train_loss = Average(loss_his)\n",
        "        Average_train_acc = Average(acc_his)\n",
        "        train_loss_history.append(Average_train_loss)\n",
        "        train_acc_history.append(Average_train_acc)        \n",
        "\n",
        "\n",
        "        model_task2.eval()\n",
        "        val_loss_his = []\n",
        "        val_acc_his = []\n",
        "        with torch.no_grad():\n",
        "            val_loop = tqdm(enumerate(valid_dataloader), leave=False, total=len(valid_dataloader))\n",
        "            for batch, dl in val_loop:\n",
        "                ids = dl['ids'].to(device)\n",
        "                token_type_ids = dl['token_type_ids'].to(device)\n",
        "                mask = dl['mask'].to(device)\n",
        "                label1 = dl['target'].to(device)\n",
        "                label1 = label1.unsqueeze(1)\n",
        "                \n",
        "                optimizer.zero_grad()\n",
        "                \n",
        "                output = model_task2(ids=ids, mask=mask, token_type_ids=token_type_ids)\n",
        "                label1 = label1.squeeze()      \n",
        "                label = pd.get_dummies(label1.cpu())\n",
        "                label = torch.from_numpy(label.values)\n",
        "                label.to(device)\n",
        "                label = label.type_as(output)\n",
        "                \n",
        "                loss = loss_fn(output, label)                \n",
        "                pred = torch.argmax(output, dim=1)  # Get the predicted class labels\n",
        "\n",
        "                \n",
        "                num_correct = torch.sum(pred == label1).item()\n",
        "                num_samples = pred.shape[0]\n",
        "                accuracy = num_correct / num_samples\n",
        "                                \n",
        "                # Show progress while training\n",
        "                loop.set_description(f'Epoch={epoch}/{epochs}')\n",
        "                loop.set_postfix(loss=loss.item(), acc=accuracy)\n",
        "                \n",
        "                val_loss_his.append(loss.item())\n",
        "                val_acc_his.append(accuracy)\n",
        "            \n",
        "        Average_val_loss = Average(val_loss_his)\n",
        "        Average_val_acc = Average(val_acc_his)\n",
        "        val_loss_history.append(Average_val_loss)\n",
        "        val_acc_history.append(Average_val_acc)\n",
        "        \n",
        "        # Print train/validation loss and accuracy\n",
        "        print(f'Train Loss: {Average_train_loss:.4f} | Train Acc: {Average_train_acc*100:.2f}%')\n",
        "        print(f'Val Loss: {Average_val_loss:.4f} | Val Acc: {Average_val_acc*100:.2f}%')\n",
        "    \n",
        "    # Plot train/validation loss\n",
        "    plt.figure(figsize=(12, 4))\n",
        "    plt.subplot(1, 2, 1)\n",
        "    plt.plot(train_loss_history, label='Train Loss')\n",
        "    plt.plot(val_loss_history, label='Val Loss')\n",
        "    plt.xlabel('Epoch')\n",
        "    plt.ylabel('Loss')\n",
        "    plt.legend()\n",
        "    \n",
        "    # Plot train/validation accuracy\n",
        "    plt.subplot(1, 2, 2)\n",
        "    plt.plot(train_acc_history, label='Train Acc')\n",
        "    plt.plot(val_acc_history, label='Val Acc')\n",
        "    plt.xlabel('Epoch')\n",
        "    plt.ylabel('Accuracy')\n",
        "    plt.legend()\n",
        "    \n",
        "    plt.savefig('training_plot_' + name_plot + '.png')  # Save the figure as a PNG file\n",
        "    \n",
        "    return model_task2"
      ]
    },
    {
      "cell_type": "code",
      "execution_count": 35,
      "metadata": {
        "id": "FGNP3qgFEClE",
        "colab": {
          "base_uri": "https://localhost:8080/"
        },
        "outputId": "50a28644-6e3e-4474-c9dc-51902de745b5"
      },
      "outputs": [
        {
          "output_type": "stream",
          "name": "stdout",
          "text": [
            "GPU is available\n"
          ]
        }
      ],
      "source": [
        "is_cuda = torch.cuda.is_available()\n",
        "\n",
        "# If we have a GPU available, we'll set our device to GPU. We'll use this device variable later in our code.\n",
        "if is_cuda:\n",
        "    device = torch.device(\"cuda\")\n",
        "    print(\"GPU is available\")\n",
        "else:\n",
        "    device = torch.device(\"cpu\")\n",
        "    print(\"GPU not available, CPU used\")"
      ]
    },
    {
      "cell_type": "code",
      "execution_count": 36,
      "metadata": {
        "id": "St-B8UB_rpCO",
        "colab": {
          "base_uri": "https://localhost:8080/",
          "height": 571
        },
        "outputId": "e928ad02-b39d-4233-cefb-284eee5bb548"
      },
      "outputs": [
        {
          "output_type": "stream",
          "name": "stdout",
          "text": [
            "Epoch 1/5\n"
          ]
        },
        {
          "output_type": "stream",
          "name": "stderr",
          "text": [
            "\r  0%|          | 0/56 [00:00<?, ?it/s]/usr/local/lib/python3.10/dist-packages/transformers/tokenization_utils_base.py:2364: FutureWarning: The `pad_to_max_length` argument is deprecated and will be removed in a future version, use `padding=True` or `padding='longest'` to pad to the longest sequence in the batch, or use `padding='max_length'` to pad to a max length. In this case, you can give a specific length with `max_length` (e.g. `max_length=45`) or leave max_length to None to pad to the maximal input size of the model (e.g. 512 for Bert).\n",
            "  warnings.warn(\n"
          ]
        },
        {
          "output_type": "stream",
          "name": "stdout",
          "text": [
            "Train Loss: 0.8324 | Train Acc: 59.97%\n",
            "Val Loss: 0.6692 | Val Acc: 71.29%\n",
            "Epoch 2/5\n"
          ]
        },
        {
          "output_type": "stream",
          "name": "stderr",
          "text": []
        },
        {
          "output_type": "stream",
          "name": "stdout",
          "text": [
            "Train Loss: 0.5559 | Train Acc: 77.58%\n",
            "Val Loss: 0.5591 | Val Acc: 77.41%\n",
            "Epoch 3/5\n"
          ]
        },
        {
          "output_type": "stream",
          "name": "stderr",
          "text": []
        },
        {
          "output_type": "stream",
          "name": "stdout",
          "text": [
            "Train Loss: 0.3527 | Train Acc: 86.66%\n",
            "Val Loss: 0.5501 | Val Acc: 80.14%\n",
            "Epoch 4/5\n"
          ]
        },
        {
          "output_type": "stream",
          "name": "stderr",
          "text": []
        },
        {
          "output_type": "stream",
          "name": "stdout",
          "text": [
            "Train Loss: 0.2254 | Train Acc: 92.01%\n",
            "Val Loss: 0.6915 | Val Acc: 76.95%\n",
            "Epoch 5/5\n"
          ]
        },
        {
          "output_type": "stream",
          "name": "stderr",
          "text": []
        },
        {
          "output_type": "stream",
          "name": "stdout",
          "text": [
            "Train Loss: 0.1676 | Train Acc: 94.21%\n",
            "Val Loss: 0.6994 | Val Acc: 77.54%\n"
          ]
        },
        {
          "output_type": "display_data",
          "data": {
            "text/plain": [
              "<Figure size 1200x400 with 2 Axes>"
            ],
            "image/png": "[encoded data removed]"
          },
          "metadata": {}
        }
      ],
      "source": [
        "plot_name = '12_layer'\n",
        "model_task2=finetune(5, dataloader, valid_dataloader, model_task2, loss_fn, optimizer, device, plot_name)\n"
      ]
    },
    {
      "cell_type": "markdown",
      "metadata": {
        "id": "P_TwI3LoZFWF"
      },
      "source": [
        "**Evaluation**"
      ]
    },
    {
      "cell_type": "code",
      "execution_count": 37,
      "metadata": {
        "id": "cQimnY_QtuIN",
        "colab": {
          "base_uri": "https://localhost:8080/",
          "height": 611
        },
        "outputId": "923c2c44-f966-4418-cd43-64a285817874"
      },
      "outputs": [
        {
          "output_type": "stream",
          "name": "stderr",
          "text": []
        },
        {
          "output_type": "stream",
          "name": "stdout",
          "text": [
            "Test Accuracy: 79.56\n",
            "Test Precision: 79.46\n",
            "Test Recall: 79.38\n",
            "Test F1-score: 79.25\n",
            "Confusion Matrix:\n",
            "[[350  70  81]\n",
            " [ 87 392  31]\n",
            " [ 39   6 480]]\n"
          ]
        },
        {
          "output_type": "display_data",
          "data": {
            "text/plain": [
              "<Figure size 640x480 with 2 Axes>"
            ],
            "image/png": "[encoded data removed]"
          },
          "metadata": {}
        }
      ],
      "source": [
        "\n",
        "model_task2.eval()\n",
        "test_loop = tqdm(enumerate(test_dataloader), leave=False, total=len(test_dataloader))\n",
        "with torch.no_grad():\n",
        "        all_labels = []\n",
        "        all_preds = []\n",
        "            \n",
        "        for batch, dl in test_loop:\n",
        "            ids = dl['ids'].to(device)\n",
        "            token_type_ids = dl['token_type_ids'].to(device)\n",
        "            mask = dl['mask'].to(device)\n",
        "            label1 = dl['target'].to(device)\n",
        "            label1 = label1.unsqueeze(1)\n",
        "            \n",
        "            output = model_task2(ids=ids, mask=mask, token_type_ids=token_type_ids)\n",
        "            label1 = label1.squeeze()      \n",
        "            label = pd.get_dummies(label1.cpu())\n",
        "            label = torch.from_numpy(label.values)\n",
        "            label = label.to(device)\n",
        "            label = label.type_as(output)\n",
        "            \n",
        "            pred = torch.argmax(output, dim=1)\n",
        "            label1 = label1.cpu().numpy()\n",
        "            pred = pred.cpu().numpy()\n",
        "            \n",
        "            all_labels.extend(label1)\n",
        "            all_preds.extend(pred)\n",
        "            \n",
        "        \n",
        "    # Calculate metrics\n",
        "cm = confusion_matrix(all_labels, all_preds)\n",
        "accuracy = accuracy_score(all_labels, all_preds)\n",
        "precision = precision_score(all_labels, all_preds, average='macro')\n",
        "recall = recall_score(all_labels, all_preds, average='macro')\n",
        "f1 = f1_score(all_labels, all_preds, average='macro')\n",
        "    \n",
        "print(f'Test Accuracy: {accuracy*100:.2f}')\n",
        "print(f'Test Precision: {precision*100:.2f}')\n",
        "print(f'Test Recall: {recall*100:.2f}')\n",
        "print(f'Test F1-score: {f1*100:.2f}')\n",
        "print('Confusion Matrix:')\n",
        "print(cm)\n",
        "\n",
        "classes = ['Contradiction', 'Entailment', 'Neutral']\n",
        "\n",
        "# Create a figure and axis\n",
        "fig, ax = plt.subplots()\n",
        "\n",
        "# Create heatmap\n",
        "sns.heatmap(cm, annot=True, cmap='Blues', fmt='d', xticklabels=classes, yticklabels=classes, ax=ax)\n",
        "\n",
        "# Set axis labels and title\n",
        "ax.set_xlabel('Predicted Labels')\n",
        "ax.set_ylabel('True Labels')\n",
        "ax.set_title('Confusion Matrix')\n",
        "plt.savefig('Confusion_Matrix_' + '12_layer' + '.png')# Show the plot\n",
        "plt.show()"
      ]
    },
    {
      "cell_type": "code",
      "execution_count": 38,
      "metadata": {
        "id": "gIfonHeAvLBD",
        "colab": {
          "base_uri": "https://localhost:8080/"
        },
        "outputId": "e2b72908-a836-47ff-cdac-eea40a5008cb"
      },
      "outputs": [
        {
          "output_type": "stream",
          "name": "stdout",
          "text": [
            "[0, 2, 1, 0, 2, 1, 0, 2, 1, 0, 0, 1, 0, 2, 0, 0, 1, 0, 2, 1, 2, 2, 1, 0, 2, 1, 0, 2, 0, 0, 2, 2, 2, 2, 1, 0, 2, 1, 0, 2, 1, 0, 2, 1, 0, 2, 1, 0, 2, 1, 0, 2, 1, 2, 2, 1, 0, 2, 0, 2, 2, 1, 0, 2, 1, 0, 2, 0, 0, 2, 0, 2, 2, 2, 1, 0, 2, 1, 0, 2, 2, 0, 2, 1, 0, 2, 1, 2, 2, 1, 2, 2, 0, 0, 2, 1, 0, 2, 0, 1, 2, 2, 2, 2, 0, 2, 2, 1, 0, 2, 2, 0, 2, 1, 1, 2, 1, 1, 2, 2, 2, 2, 1, 0, 2, 1, 0, 2, 1, 1, 0, 2, 1, 1, 2, 1, 1, 2, 1, 0, 2, 0, 0, 2, 1, 0, 2, 1, 0, 2, 1, 0, 2, 1, 0, 2, 1, 0, 2, 0, 0, 2, 1, 0, 2, 1, 0, 2, 0, 2, 1, 0, 2, 0, 0, 2, 1, 0, 2, 1, 0, 2, 1, 0, 2, 1, 0, 2, 1, 0, 2, 1, 2, 2, 1, 2, 2, 1, 0, 2, 1, 0, 0, 1, 1, 2, 1, 0, 2, 1, 0, 2, 1, 1, 0, 0, 2, 2, 1, 0, 2, 1, 0, 2, 1, 0, 2, 0, 0, 2, 1, 0, 2, 2, 2, 2, 0, 0, 2, 0, 2, 2, 1, 0, 2, 1, 0, 0, 1, 2, 1, 0, 2, 1, 0, 2, 1, 0, 2, 1, 0, 2, 1, 0, 2, 1, 2, 2, 0, 2, 2, 1, 0, 2, 1, 1, 2, 0, 0, 2, 1, 0, 0, 1, 0, 2, 1, 0, 0, 0, 0, 2, 1, 1, 2, 0, 0, 2, 1, 0, 2, 0, 1, 2, 1, 0, 2, 1, 1, 2, 1, 0, 2, 1, 1, 2, 0, 0, 2, 1, 0, 2, 1, 0, 2, 1, 0, 2, 1, 2, 2, 0, 0, 2, 0, 0, 2, 1, 0, 2, 1, 0, 2, 1, 0, 2, 1, 0, 2, 1, 0, 2, 1, 0, 2, 1, 0, 2, 1, 0, 2, 1, 0, 2, 1, 0, 2, 1, 0, 2, 1, 0, 2, 1, 2, 0, 0, 2, 2, 1, 2, 0, 1, 2, 1, 0, 2, 1, 0, 2, 1, 1, 2, 1, 1, 2, 1, 2, 1, 2, 2, 2, 2, 1, 0, 2, 1, 1, 2, 1, 0, 0, 0, 0, 2, 1, 0, 0, 1, 0, 2, 1, 1, 2, 1, 1, 2, 1, 2, 2, 1, 0, 2, 1, 0, 2, 1, 0, 2, 0, 0, 2, 2, 2, 2, 1, 0, 2, 1, 2, 2, 1, 0, 2, 1, 0, 2, 2, 2, 2, 1, 0, 2, 1, 0, 2, 1, 0, 2, 0, 1, 2, 1, 1, 2, 1, 1, 2, 1, 0, 2, 1, 2, 2, 0, 1, 2, 1, 0, 2, 1, 0, 2, 1, 0, 2, 1, 0, 2, 1, 1, 2, 1, 0, 2, 1, 2, 2, 0, 0, 2, 2, 2, 1, 0, 2, 1, 2, 2, 1, 2, 2, 0, 0, 2, 1, 2, 1, 0, 2, 1, 2, 1, 2, 2, 1, 0, 2, 1, 1, 2, 1, 0, 2, 1, 2, 2, 1, 0, 1, 1, 0, 2, 0, 0, 2, 1, 1, 2, 1, 0, 2, 1, 0, 2, 1, 0, 2, 1, 0, 1, 0, 0, 2, 1, 1, 0, 1, 0, 2, 1, 0, 2, 1, 0, 2, 1, 0, 2, 1, 0, 2, 1, 0, 2, 1, 1, 0, 1, 0, 2, 1, 0, 0, 1, 0, 2, 1, 2, 2, 1, 0, 2, 2, 0, 2, 1, 2, 1, 0, 2, 1, 2, 2, 1, 0, 0, 0, 0, 2, 0, 2, 2, 1, 0, 2, 1, 0, 2, 1, 1, 2, 1, 0, 2, 0, 0, 2, 1, 0, 2, 1, 0, 2, 1, 0, 2, 1, 0, 1, 2, 2, 1, 0, 2, 1, 1, 2, 1, 0, 2, 1, 1, 2, 1, 0, 2, 1, 0, 2, 2, 0, 2, 1, 1, 2, 1, 0, 2, 0, 0, 2, 1, 0, 2, 1, 2, 0, 1, 0, 2, 1, 2, 2, 1, 0, 2, 1, 0, 2, 1, 0, 2, 1, 0, 2, 1, 0, 2, 1, 0, 0, 1, 0, 2, 1, 0, 2, 1, 0, 2, 1, 2, 2, 1, 0, 2, 1, 0, 2, 1, 2, 1, 0, 2, 1, 0, 2, 1, 0, 1, 1, 1, 1, 0, 2, 1, 0, 2, 1, 0, 2, 1, 2, 2, 0, 0, 2, 1, 2, 2, 2, 0, 2, 1, 0, 2, 0, 2, 2, 1, 0, 2, 1, 0, 0, 1, 0, 2, 2, 0, 2, 1, 1, 2, 1, 0, 2, 1, 1, 2, 0, 0, 2, 0, 0, 2, 1, 1, 2, 0, 2, 1, 0, 2, 2, 0, 1, 1, 2, 1, 2, 1, 0, 2, 0, 2, 2, 1, 1, 0, 1, 1, 0, 0, 0, 2, 0, 0, 2, 1, 1, 2, 0, 1, 0, 1, 0, 2, 1, 0, 2, 1, 1, 1, 0, 2, 2, 1, 0, 2, 0, 2, 2, 0, 0, 2, 0, 0, 2, 1, 2, 2, 1, 1, 2, 1, 0, 2, 1, 0, 2, 1, 0, 2, 0, 0, 2, 1, 0, 2, 1, 2, 2, 0, 0, 2, 1, 0, 2, 1, 0, 2, 1, 1, 2, 0, 0, 2, 0, 0, 2, 1, 0, 2, 1, 0, 2, 0, 0, 2, 1, 2, 2, 1, 0, 2, 1, 0, 1, 0, 2, 1, 0, 2, 1, 2, 2, 1, 0, 2, 1, 2, 2, 1, 0, 2, 1, 0, 2, 0, 1, 2, 1, 0, 2, 1, 2, 2, 1, 0, 2, 1, 1, 2, 1, 0, 2, 0, 0, 2, 1, 0, 0, 0, 2, 2, 1, 0, 2, 1, 0, 2, 1, 0, 2, 1, 0, 2, 1, 0, 0, 1, 0, 2, 1, 0, 2, 1, 2, 2, 1, 0, 1, 1, 0, 2, 1, 2, 1, 0, 0, 1, 0, 2, 1, 0, 2, 0, 0, 2, 1, 1, 2, 1, 0, 2, 1, 2, 2, 1, 0, 2, 1, 0, 2, 1, 0, 2, 1, 0, 2, 1, 0, 2, 1, 2, 2, 0, 0, 2, 1, 0, 1, 1, 0, 2, 1, 0, 2, 0, 1, 2, 0, 2, 1, 0, 2, 0, 0, 2, 1, 0, 2, 1, 0, 2, 1, 0, 2, 1, 0, 2, 1, 0, 2, 0, 0, 2, 1, 0, 2, 1, 0, 2, 1, 0, 0, 2, 2, 1, 0, 2, 2, 2, 0, 0, 2, 1, 0, 2, 0, 2, 2, 1, 0, 2, 2, 2, 2, 0, 0, 2, 1, 0, 2, 0, 0, 2, 0, 0, 2, 0, 0, 2, 0, 0, 2, 1, 0, 2, 1, 0, 2, 1, 0, 2, 1, 2, 0, 1, 0, 2, 1, 2, 2, 2, 2, 2, 1, 1, 2, 1, 0, 2, 1, 2, 2, 0, 2, 2, 1, 1, 2, 1, 0, 2, 1, 0, 2, 2, 2, 2, 1, 0, 2, 1, 0, 2, 1, 0, 0, 1, 0, 0, 1, 0, 2, 1, 2, 2, 1, 2, 2, 1, 0, 2, 1, 2, 1, 2, 2, 1, 0, 2, 1, 0, 2, 1, 0, 2, 1, 1, 2, 0, 1, 2, 1, 2, 2, 1, 0, 2, 1, 0, 2, 1, 2, 0, 2, 2, 1, 1, 2, 0, 0, 2, 1, 0, 0, 1, 2, 1, 1, 2, 1, 2, 2, 2, 2, 1, 0, 2, 1, 1, 2, 1, 0, 2, 0, 2, 0, 2, 0, 0, 2, 0, 0, 2, 1, 2, 2, 0, 2, 1, 0, 0, 1, 0, 2, 0, 1, 2, 2, 1, 2, 1, 0, 2, 0, 2, 0, 1, 0, 2, 1, 1, 2, 2, 2, 0, 1, 0, 2, 1, 0, 2, 1, 1, 0, 2, 2, 2, 1, 1, 2, 1, 0, 2, 0, 2, 2, 1, 0, 2, 0, 0, 2, 1, 0, 2, 0, 0, 2, 1, 0, 2, 0, 0, 2, 1, 0, 2, 1, 1, 2, 1, 0, 2, 1, 2, 1, 0, 2, 2, 2, 2, 2, 2, 1, 0, 2, 1, 1, 2, 1, 2, 2, 2, 2, 2, 1, 0, 2, 1, 0, 2, 1, 0, 2, 1, 1, 2, 2, 2, 0, 0, 2, 1, 2, 2, 2, 0, 2, 0, 2, 1, 2, 1, 0, 2, 2, 2, 2, 2, 1, 0, 2, 1, 0, 2, 1, 1, 2, 2, 2, 2, 0, 1, 2, 1, 1, 2, 0, 2, 2, 0, 2, 1, 0, 2, 1, 0, 2, 1, 0, 2, 0, 0, 2, 1, 0, 2, 0, 0, 0, 1, 2, 0, 0, 2, 1, 1, 0, 0, 0, 2, 0, 0, 2, 1, 2, 2, 1, 0, 2, 1, 1, 2, 1, 1, 2, 1, 0, 0, 1, 0, 2, 1, 2, 2, 1, 0, 2, 1, 0, 2, 1, 2, 2, 1, 0, 0, 1, 1, 2, 1, 0, 0, 0, 0, 0, 2, 0, 2, 1, 0, 2, 1, 0, 2, 1, 0, 2, 1, 0, 2, 1, 0, 2, 1, 0, 2, 0, 2, 1]\n"
          ]
        }
      ],
      "source": [
        "print(all_preds)"
      ]
    },
    {
      "cell_type": "code",
      "execution_count": 39,
      "metadata": {
        "id": "Jr7_ifFfY2mt",
        "colab": {
          "base_uri": "https://localhost:8080/"
        },
        "outputId": "e7e4bde3-1436-47f5-fbeb-a97b55c9c5b1"
      },
      "outputs": [
        {
          "output_type": "execute_result",
          "data": {
            "text/plain": [
              "Pars_BERT(\n",
              "  (bert_model): BertModel(\n",
              "    (embeddings): BertEmbeddings(\n",
              "      (word_embeddings): Embedding(100000, 768, padding_idx=0)\n",
              "      (position_embeddings): Embedding(512, 768)\n",
              "      (token_type_embeddings): Embedding(2, 768)\n",
              "      (LayerNorm): LayerNorm((768,), eps=1e-12, elementwise_affine=True)\n",
              "      (dropout): Dropout(p=0.1, inplace=False)\n",
              "    )\n",
              "    (encoder): BertEncoder(\n",
              "      (layer): ModuleList(\n",
              "        (0-11): 12 x BertLayer(\n",
              "          (attention): BertAttention(\n",
              "            (self): BertSelfAttention(\n",
              "              (query): Linear(in_features=768, out_features=768, bias=True)\n",
              "              (key): Linear(in_features=768, out_features=768, bias=True)\n",
              "              (value): Linear(in_features=768, out_features=768, bias=True)\n",
              "              (dropout): Dropout(p=0.1, inplace=False)\n",
              "            )\n",
              "            (output): BertSelfOutput(\n",
              "              (dense): Linear(in_features=768, out_features=768, bias=True)\n",
              "              (LayerNorm): LayerNorm((768,), eps=1e-12, elementwise_affine=True)\n",
              "              (dropout): Dropout(p=0.1, inplace=False)\n",
              "            )\n",
              "          )\n",
              "          (intermediate): BertIntermediate(\n",
              "            (dense): Linear(in_features=768, out_features=3072, bias=True)\n",
              "            (intermediate_act_fn): GELUActivation()\n",
              "          )\n",
              "          (output): BertOutput(\n",
              "            (dense): Linear(in_features=3072, out_features=768, bias=True)\n",
              "            (LayerNorm): LayerNorm((768,), eps=1e-12, elementwise_affine=True)\n",
              "            (dropout): Dropout(p=0.1, inplace=False)\n",
              "          )\n",
              "        )\n",
              "      )\n",
              "    )\n",
              "    (pooler): BertPooler(\n",
              "      (dense): Linear(in_features=768, out_features=768, bias=True)\n",
              "      (activation): Tanh()\n",
              "    )\n",
              "  )\n",
              "  (linear1): Linear(in_features=768, out_features=256, bias=True)\n",
              "  (relu): ReLU()\n",
              "  (dropout): Dropout(p=0.5, inplace=False)\n",
              "  (out): Linear(in_features=256, out_features=3, bias=True)\n",
              ")"
            ]
          },
          "metadata": {},
          "execution_count": 39
        }
      ],
      "source": [
        "model_task2"
      ]
    },
    {
      "cell_type": "code",
      "execution_count": 40,
      "metadata": {
        "id": "BKpnJDVpd0jx",
        "colab": {
          "base_uri": "https://localhost:8080/"
        },
        "outputId": "7319b85c-9897-4afe-a197-b1226354cde5"
      },
      "outputs": [
        {
          "output_type": "stream",
          "name": "stdout",
          "text": [
            "True Label: 2\n",
            "Predicted Label: 0\n",
            "--------------------\n",
            "True Label: 2\n",
            "Predicted Label: 0\n",
            "--------------------\n",
            "True Label: 0\n",
            "Predicted Label: 2\n",
            "--------------------\n",
            "True Label: 1\n",
            "Predicted Label: 0\n",
            "--------------------\n",
            "True Label: 1\n",
            "Predicted Label: 2\n",
            "--------------------\n"
          ]
        }
      ],
      "source": [
        "incorrect_samples = []\n",
        "for true_label, predicted_label in zip(all_labels, all_preds):\n",
        "    if true_label != predicted_label:\n",
        "        incorrect_samples.append((true_label, predicted_label))\n",
        "\n",
        "incorrect_samples = incorrect_samples[:5]\n",
        "\n",
        "for true_label, predicted_label in incorrect_samples:\n",
        "    print(\"True Label:\", true_label)\n",
        "    print(\"Predicted Label:\", predicted_label)\n",
        "    print(\"--------------------\")"
      ]
    },
    {
      "cell_type": "markdown",
      "metadata": {
        "id": "2eKdGhGeX3o0"
      },
      "source": [
        "## Task 3"
      ]
    },
    {
      "cell_type": "markdown",
      "metadata": {
        "id": "6Yyv37AwYld6"
      },
      "source": [
        "**Model**"
      ]
    },
    {
      "cell_type": "code",
      "execution_count": 41,
      "metadata": {
        "id": "TQ3jvSz85ybi"
      },
      "outputs": [],
      "source": [
        "class Pars_BERT_nlayers(nn.Module):\n",
        "    def __init__(self, config_layers):\n",
        "        super(Pars_BERT_nlayers, self).__init__()\n",
        "        self.bert_model = AutoModel.from_pretrained(\"HooshvareLab/bert-base-parsbert-uncased\", config = config_layers)\n",
        "        self.linear1 = nn.Linear(768, 256)\n",
        "        self.relu = nn.ReLU()\n",
        "        self.dropout = nn.Dropout(0.5)\n",
        "        self.out = nn.Linear(256, 3)\n",
        "        \n",
        "    def forward(self,ids,mask,token_type_ids):\n",
        "        _,o2= self.bert_model(ids,attention_mask=mask,token_type_ids=token_type_ids, return_dict=False)\n",
        "        out= self.linear1(o2)\n",
        "        out= self.relu(out)\n",
        "        out = self.dropout(out)\n",
        "        out= self.out(out)\n",
        "        \n",
        "        return out"
      ]
    },
    {
      "cell_type": "markdown",
      "metadata": {
        "id": "Lh3dm8eMYpLC"
      },
      "source": [
        "**Finetune**"
      ]
    },
    {
      "cell_type": "code",
      "execution_count": 42,
      "metadata": {
        "id": "6xxzc7FKvddc"
      },
      "outputs": [],
      "source": [
        "def finetune_nlayer(epochs, train_dataloader, valid_dataloader, model, loss_fn, optimizer, device, name_plot):\n",
        "    model.to(device)\n",
        "    model.train()\n",
        "    \n",
        "    train_loss_history = []\n",
        "    train_acc_history = []\n",
        "    val_loss_history = []\n",
        "    val_acc_history = []\n",
        "    \n",
        "    for epoch in range(epochs):\n",
        "        train_loss = []\n",
        "        train_acc = []\n",
        "        val_loss = []\n",
        "        val_acc = []\n",
        "        \n",
        "        print(f\"Epoch {epoch+1}/{epochs}\")\n",
        "        \n",
        "        # Training\n",
        "        model.train()\n",
        "        train_loop = tqdm(enumerate(train_dataloader), leave=False, total=len(train_dataloader))\n",
        "        for batch, dl in train_loop:\n",
        "            ids = dl['ids'].to(device)\n",
        "            token_type_ids = dl['token_type_ids'].to(device)\n",
        "            mask = dl['mask'].to(device)\n",
        "            label1 = dl['target'].to(device)\n",
        "            label1 = label1.unsqueeze(1)\n",
        "            \n",
        "            optimizer.zero_grad()\n",
        "            \n",
        "            output = model(ids=ids, mask=mask, token_type_ids=token_type_ids)\n",
        "            label1 = label1.squeeze()\n",
        "            label = pd.get_dummies(label1.cpu())\n",
        "            label = torch.from_numpy(label.values)\n",
        "            label.to(device)\n",
        "            label = label.type_as(output)\n",
        "            \n",
        "            loss = loss_fn(output, label)\n",
        "            loss.backward()\n",
        "            optimizer.step()\n",
        "            \n",
        "            pred = torch.argmax(output, dim=1)\n",
        "            num_correct = torch.sum(pred == label1).item()\n",
        "            num_samples = pred.shape[0]\n",
        "            accuracy = num_correct / num_samples\n",
        "            \n",
        "            train_loop.set_description(f'Epoch {epoch+1}/{epochs}')\n",
        "            train_loop.set_postfix(loss=loss.item(), acc=accuracy)\n",
        "            \n",
        "            train_loss.append(loss.item())\n",
        "            train_acc.append(accuracy)\n",
        "        \n",
        "        train_loss_history.append(np.mean(train_loss))\n",
        "        train_acc_history.append(np.mean(train_acc))\n",
        "        \n",
        "        # Validation\n",
        "        model.eval()\n",
        "        val_loss = []\n",
        "        val_acc = []\n",
        "        with torch.no_grad():\n",
        "            val_loop = tqdm(enumerate(valid_dataloader), leave=False, total=len(valid_dataloader))\n",
        "            for batch, dl in val_loop:\n",
        "                ids = dl['ids'].to(device)\n",
        "                token_type_ids = dl['token_type_ids'].to(device)\n",
        "                mask = dl['mask'].to(device)\n",
        "                label1 = dl['target'].to(device)\n",
        "                label1 = label1.unsqueeze(1)\n",
        "\n",
        "                output = model(ids=ids, mask=mask, token_type_ids=token_type_ids)\n",
        "                label1 = label1.squeeze()\n",
        "                label = pd.get_dummies(label1.cpu())\n",
        "                label = torch.from_numpy(label.values)\n",
        "                label.to(device)\n",
        "                label = label.type_as(output)\n",
        "\n",
        "                loss = loss_fn(output, label)\n",
        "                pred = torch.argmax(output, dim=1)\n",
        "                num_correct = torch.sum(pred == label1).item()\n",
        "                num_samples = pred.shape[0]\n",
        "                accuracy = num_correct / num_samples\n",
        "\n",
        "                val_loop.set_description(f'Epoch {epoch+1}/{epochs}')\n",
        "                val_loop.set_postfix(loss=loss.item(), acc=accuracy)\n",
        "\n",
        "                val_loss.append(loss.item())\n",
        "                val_acc.append(accuracy)\n",
        "            \n",
        "        val_loss_history.append(np.mean(val_loss))\n",
        "        val_acc_history.append(np.mean(val_acc))\n",
        "        \n",
        "        # Print and plot train/validation loss and accuracy\n",
        "        print(f'Train Loss: {train_loss_history[-1]:.4f} | Train Acc: {train_acc_history[-1]*100:.2f}%')\n",
        "        print(f'Val Loss: {val_loss_history[-1]:.4f} | Val Acc: {val_acc_history[-1]*100:.2f}%')\n",
        "    \n",
        "    # Plot train/validation loss and accuracy\n",
        "    plt.figure(figsize=(12, 4))\n",
        "    plt.subplot(1, 2, 1)\n",
        "    plt.plot(train_loss_history, label='Train Loss')\n",
        "    plt.plot(val_loss_history, label='Val Loss')\n",
        "    plt.xlabel('Epoch')\n",
        "    plt.ylabel('Loss')\n",
        "    plt.legend()\n",
        "    \n",
        "    plt.subplot(1, 2, 2)\n",
        "    plt.plot(train_acc_history, label='Train Acc')\n",
        "    plt.plot(val_acc_history, label='Val Acc')\n",
        "    plt.xlabel('Epoch')\n",
        "    plt.ylabel('Accuracy')\n",
        "    plt.legend()\n",
        "    \n",
        "    plt.savefig('training_plot_' + name_plot + '.png')  # Save the figure as a PNG file\n",
        "    \n",
        "    return model"
      ]
    },
    {
      "cell_type": "markdown",
      "metadata": {
        "id": "KQHz-oFRYugS"
      },
      "source": [
        "**Evaluation**"
      ]
    },
    {
      "cell_type": "code",
      "execution_count": 43,
      "metadata": {
        "id": "f32tL1NdheWB"
      },
      "outputs": [],
      "source": [
        "from sklearn.metrics import accuracy_score, precision_score, recall_score, f1_score, confusion_matrix\n",
        "import pandas as pd\n",
        "import numpy as np\n",
        "\n",
        "def model_eval(model, test_dataloader, name_plot):\n",
        "    model.eval()\n",
        "    test_loop = tqdm(enumerate(test_dataloader), leave=False, total=len(test_dataloader))\n",
        "    with torch.no_grad():\n",
        "        all_labels = []\n",
        "        all_preds = []\n",
        "        \n",
        "        for batch, dl in test_loop:\n",
        "            ids = dl['ids'].to(device)\n",
        "            token_type_ids = dl['token_type_ids'].to(device)\n",
        "            mask = dl['mask'].to(device)\n",
        "            label1 = dl['target'].to(device)\n",
        "            label1 = label1.unsqueeze(1)\n",
        "            \n",
        "            output = model(ids=ids, mask=mask, token_type_ids=token_type_ids)\n",
        "            label1 = label1.squeeze()      \n",
        "            label = pd.get_dummies(label1.cpu())\n",
        "            label = torch.from_numpy(label.values)\n",
        "            label = label.to(device)\n",
        "            label = label.type_as(output)\n",
        "            \n",
        "            pred = torch.argmax(output, dim=1)\n",
        "            label1 = label1.cpu().numpy()\n",
        "            pred = pred.cpu().numpy()\n",
        "            \n",
        "            all_labels.extend(label1)\n",
        "            all_preds.extend(pred)\n",
        "    \n",
        "    # Calculate metrics\n",
        "    accuracy = accuracy_score(all_labels, all_preds)\n",
        "    precision = precision_score(all_labels, all_preds, average='macro')\n",
        "    recall = recall_score(all_labels, all_preds, average='macro')\n",
        "    f1 = f1_score(all_labels, all_preds, average='macro')\n",
        "\n",
        "    # Compute confusion matrix\n",
        "    cm = confusion_matrix(all_labels, all_preds)\n",
        "    \n",
        "    print(f'Test Accuracy: {accuracy*100:.2f}')\n",
        "    print(f'Test Precision: {precision*100:.2f}')\n",
        "    print(f'Test Recall: {recall*100:.2f}')\n",
        "    print(f'Test F1-score: {f1*100:.2f}')\n",
        "    print('Confusion Matrix:')\n",
        "    print(cm)\n",
        "\n",
        "    classes = ['Contradiction', 'Entailment', 'Neutral']\n",
        "    # Create a figure and axis\n",
        "    fig, ax = plt.subplots()\n",
        "\n",
        "    # Create heatmap\n",
        "    sns.heatmap(cm, annot=True, cmap='Blues', fmt='d', xticklabels=classes, yticklabels=classes, ax=ax)\n",
        "\n",
        "    # Set axis labels and title\n",
        "    ax.set_xlabel('Predicted Labels')\n",
        "    ax.set_ylabel('True Labels')\n",
        "    ax.set_title('Confusion Matrix')\n",
        "    plt.savefig('Confusion_Matrix_' + name_plot + '.png')# Show the plot\n",
        "    plt.show()\n",
        "    return accuracy, precision, recall, f1, cm\n"
      ]
    },
    {
      "cell_type": "code",
      "execution_count": 44,
      "metadata": {
        "id": "4gR9IpoYhUf-",
        "colab": {
          "base_uri": "https://localhost:8080/"
        },
        "outputId": "41258667-3429-4ca0-9e9e-2069f375e01b"
      },
      "outputs": [
        {
          "output_type": "stream",
          "name": "stdout",
          "text": [
            "GPU is available\n"
          ]
        }
      ],
      "source": [
        "is_cuda = torch.cuda.is_available()\n",
        "\n",
        "# If we have a GPU available, we'll set our device to GPU. We'll use this device variable later in our code.\n",
        "if is_cuda:\n",
        "    device = torch.device(\"cuda\")\n",
        "    print(\"GPU is available\")\n",
        "else:\n",
        "    device = torch.device(\"cpu\")\n",
        "    print(\"GPU not available, CPU used\")"
      ]
    },
    {
      "cell_type": "code",
      "execution_count": 45,
      "metadata": {
        "id": "852ljX6QYjKe"
      },
      "outputs": [],
      "source": [
        "\n",
        "loss_fn = nn.CrossEntropyLoss()\n",
        "#Initialize Optimizer\n",
        "accuracy_lst = []\n",
        "precision_lst = []\n",
        "recall_lst = []\n",
        "f1_lst = []\n",
        "cm_lst = []\n",
        "num_layers_lst = []"
      ]
    },
    {
      "cell_type": "code",
      "execution_count": 46,
      "metadata": {
        "id": "dePip74HciGk",
        "colab": {
          "base_uri": "https://localhost:8080/",
          "height": 660
        },
        "outputId": "63a6a0d2-d4b5-4d81-fba8-31becf267902"
      },
      "outputs": [
        {
          "output_type": "stream",
          "name": "stdout",
          "text": [
            "1\n",
            "num_layers: 11\n"
          ]
        },
        {
          "output_type": "stream",
          "name": "stderr",
          "text": [
            "Some weights of the model checkpoint at HooshvareLab/bert-base-parsbert-uncased were not used when initializing BertModel: ['bert.encoder.layer.11.attention.self.key.bias', 'bert.encoder.layer.11.output.LayerNorm.weight', 'bert.encoder.layer.11.attention.output.dense.weight', 'cls.predictions.transform.dense.bias', 'cls.predictions.decoder.bias', 'bert.encoder.layer.11.output.LayerNorm.bias', 'cls.predictions.transform.LayerNorm.weight', 'cls.predictions.decoder.weight', 'cls.seq_relationship.bias', 'bert.encoder.layer.11.attention.self.query.weight', 'cls.seq_relationship.weight', 'cls.predictions.transform.LayerNorm.bias', 'bert.encoder.layer.11.attention.self.query.bias', 'bert.encoder.layer.11.attention.output.LayerNorm.bias', 'bert.encoder.layer.11.attention.output.dense.bias', 'cls.predictions.transform.dense.weight', 'bert.encoder.layer.11.attention.output.LayerNorm.weight', 'bert.encoder.layer.11.output.dense.weight', 'cls.predictions.bias', 'bert.encoder.layer.11.intermediate.dense.bias', 'bert.encoder.layer.11.attention.self.key.weight', 'bert.encoder.layer.11.intermediate.dense.weight', 'bert.encoder.layer.11.attention.self.value.bias', 'bert.encoder.layer.11.output.dense.bias', 'bert.encoder.layer.11.attention.self.value.weight']\n",
            "- This IS expected if you are initializing BertModel from the checkpoint of a model trained on another task or with another architecture (e.g. initializing a BertForSequenceClassification model from a BertForPreTraining model).\n",
            "- This IS NOT expected if you are initializing BertModel from the checkpoint of a model that you expect to be exactly identical (initializing a BertForSequenceClassification model from a BertForSequenceClassification model).\n"
          ]
        },
        {
          "output_type": "stream",
          "name": "stdout",
          "text": [
            "Epoch 1/5\n"
          ]
        },
        {
          "output_type": "stream",
          "name": "stderr",
          "text": [
            "\r  0%|          | 0/56 [00:00<?, ?it/s]/usr/local/lib/python3.10/dist-packages/transformers/tokenization_utils_base.py:2364: FutureWarning: The `pad_to_max_length` argument is deprecated and will be removed in a future version, use `padding=True` or `padding='longest'` to pad to the longest sequence in the batch, or use `padding='max_length'` to pad to a max length. In this case, you can give a specific length with `max_length` (e.g. `max_length=45`) or leave max_length to None to pad to the maximal input size of the model (e.g. 512 for Bert).\n",
            "  warnings.warn(\n"
          ]
        },
        {
          "output_type": "error",
          "ename": "KeyboardInterrupt",
          "evalue": "ignored",
          "traceback": [
            "\u001b[0;31m---------------------------------------------------------------------------\u001b[0m",
            "\u001b[0;31mKeyboardInterrupt\u001b[0m                         Traceback (most recent call last)",
            "\u001b[0;32m<ipython-input-46-7cb7c4a497c7>\u001b[0m in \u001b[0;36m<cell line: 1>\u001b[0;34m()\u001b[0m\n\u001b[1;32m      7\u001b[0m     \u001b[0moptimizer\u001b[0m\u001b[0;34m=\u001b[0m \u001b[0moptim\u001b[0m\u001b[0;34m.\u001b[0m\u001b[0mAdam\u001b[0m\u001b[0;34m(\u001b[0m\u001b[0mmodel_name\u001b[0m\u001b[0;34m.\u001b[0m\u001b[0mparameters\u001b[0m\u001b[0;34m(\u001b[0m\u001b[0;34m)\u001b[0m\u001b[0;34m,\u001b[0m\u001b[0mlr\u001b[0m\u001b[0;34m=\u001b[0m \u001b[0;36m0.0001\u001b[0m\u001b[0;34m)\u001b[0m\u001b[0;34m\u001b[0m\u001b[0;34m\u001b[0m\u001b[0m\n\u001b[1;32m      8\u001b[0m     \u001b[0mname_plot\u001b[0m \u001b[0;34m=\u001b[0m \u001b[0mstr\u001b[0m\u001b[0;34m(\u001b[0m\u001b[0;36m12\u001b[0m\u001b[0;34m-\u001b[0m\u001b[0mn\u001b[0m\u001b[0;34m)\u001b[0m \u001b[0;34m+\u001b[0m \u001b[0;34m'_layer'\u001b[0m\u001b[0;34m\u001b[0m\u001b[0;34m\u001b[0m\u001b[0m\n\u001b[0;32m----> 9\u001b[0;31m     \u001b[0mmodel_finetune\u001b[0m \u001b[0;34m=\u001b[0m \u001b[0mfinetune_nlayer\u001b[0m\u001b[0;34m(\u001b[0m\u001b[0;36m5\u001b[0m\u001b[0;34m,\u001b[0m \u001b[0mdataloader\u001b[0m\u001b[0;34m,\u001b[0m \u001b[0mvalid_dataloader\u001b[0m\u001b[0;34m,\u001b[0m \u001b[0mmodel_name\u001b[0m\u001b[0;34m,\u001b[0m \u001b[0mloss_fn\u001b[0m\u001b[0;34m,\u001b[0m \u001b[0moptimizer\u001b[0m\u001b[0;34m,\u001b[0m \u001b[0mdevice\u001b[0m\u001b[0;34m,\u001b[0m \u001b[0mname_plot\u001b[0m\u001b[0;34m)\u001b[0m\u001b[0;34m\u001b[0m\u001b[0;34m\u001b[0m\u001b[0m\n\u001b[0m\u001b[1;32m     10\u001b[0m     \u001b[0maccuracy\u001b[0m\u001b[0;34m,\u001b[0m \u001b[0mprecision\u001b[0m\u001b[0;34m,\u001b[0m \u001b[0mrecall\u001b[0m\u001b[0;34m,\u001b[0m \u001b[0mf1\u001b[0m\u001b[0;34m,\u001b[0m \u001b[0mcm\u001b[0m \u001b[0;34m=\u001b[0m \u001b[0mmodel_eval\u001b[0m\u001b[0;34m(\u001b[0m\u001b[0mmodel_finetune\u001b[0m\u001b[0;34m,\u001b[0m \u001b[0mtest_dataloader\u001b[0m\u001b[0;34m,\u001b[0m \u001b[0mname_plot\u001b[0m\u001b[0;34m)\u001b[0m\u001b[0;34m\u001b[0m\u001b[0;34m\u001b[0m\u001b[0m\n\u001b[1;32m     11\u001b[0m     \u001b[0maccuracy_lst\u001b[0m\u001b[0;34m.\u001b[0m\u001b[0mappend\u001b[0m\u001b[0;34m(\u001b[0m\u001b[0maccuracy\u001b[0m\u001b[0;34m)\u001b[0m\u001b[0;34m\u001b[0m\u001b[0;34m\u001b[0m\u001b[0m\n",
            "\u001b[0;32m<ipython-input-42-c0a6541a1e20>\u001b[0m in \u001b[0;36mfinetune_nlayer\u001b[0;34m(epochs, train_dataloader, valid_dataloader, model, loss_fn, optimizer, device, name_plot)\u001b[0m\n\u001b[1;32m     19\u001b[0m         \u001b[0mmodel\u001b[0m\u001b[0;34m.\u001b[0m\u001b[0mtrain\u001b[0m\u001b[0;34m(\u001b[0m\u001b[0;34m)\u001b[0m\u001b[0;34m\u001b[0m\u001b[0;34m\u001b[0m\u001b[0m\n\u001b[1;32m     20\u001b[0m         \u001b[0mtrain_loop\u001b[0m \u001b[0;34m=\u001b[0m \u001b[0mtqdm\u001b[0m\u001b[0;34m(\u001b[0m\u001b[0menumerate\u001b[0m\u001b[0;34m(\u001b[0m\u001b[0mtrain_dataloader\u001b[0m\u001b[0;34m)\u001b[0m\u001b[0;34m,\u001b[0m \u001b[0mleave\u001b[0m\u001b[0;34m=\u001b[0m\u001b[0;32mFalse\u001b[0m\u001b[0;34m,\u001b[0m \u001b[0mtotal\u001b[0m\u001b[0;34m=\u001b[0m\u001b[0mlen\u001b[0m\u001b[0;34m(\u001b[0m\u001b[0mtrain_dataloader\u001b[0m\u001b[0;34m)\u001b[0m\u001b[0;34m)\u001b[0m\u001b[0;34m\u001b[0m\u001b[0;34m\u001b[0m\u001b[0m\n\u001b[0;32m---> 21\u001b[0;31m         \u001b[0;32mfor\u001b[0m \u001b[0mbatch\u001b[0m\u001b[0;34m,\u001b[0m \u001b[0mdl\u001b[0m \u001b[0;32min\u001b[0m \u001b[0mtrain_loop\u001b[0m\u001b[0;34m:\u001b[0m\u001b[0;34m\u001b[0m\u001b[0;34m\u001b[0m\u001b[0m\n\u001b[0m\u001b[1;32m     22\u001b[0m             \u001b[0mids\u001b[0m \u001b[0;34m=\u001b[0m \u001b[0mdl\u001b[0m\u001b[0;34m[\u001b[0m\u001b[0;34m'ids'\u001b[0m\u001b[0;34m]\u001b[0m\u001b[0;34m.\u001b[0m\u001b[0mto\u001b[0m\u001b[0;34m(\u001b[0m\u001b[0mdevice\u001b[0m\u001b[0;34m)\u001b[0m\u001b[0;34m\u001b[0m\u001b[0;34m\u001b[0m\u001b[0m\n\u001b[1;32m     23\u001b[0m             \u001b[0mtoken_type_ids\u001b[0m \u001b[0;34m=\u001b[0m \u001b[0mdl\u001b[0m\u001b[0;34m[\u001b[0m\u001b[0;34m'token_type_ids'\u001b[0m\u001b[0;34m]\u001b[0m\u001b[0;34m.\u001b[0m\u001b[0mto\u001b[0m\u001b[0;34m(\u001b[0m\u001b[0mdevice\u001b[0m\u001b[0;34m)\u001b[0m\u001b[0;34m\u001b[0m\u001b[0;34m\u001b[0m\u001b[0m\n",
            "\u001b[0;32m/usr/local/lib/python3.10/dist-packages/tqdm/std.py\u001b[0m in \u001b[0;36m__iter__\u001b[0;34m(self)\u001b[0m\n\u001b[1;32m   1176\u001b[0m \u001b[0;34m\u001b[0m\u001b[0m\n\u001b[1;32m   1177\u001b[0m         \u001b[0;32mtry\u001b[0m\u001b[0;34m:\u001b[0m\u001b[0;34m\u001b[0m\u001b[0;34m\u001b[0m\u001b[0m\n\u001b[0;32m-> 1178\u001b[0;31m             \u001b[0;32mfor\u001b[0m \u001b[0mobj\u001b[0m \u001b[0;32min\u001b[0m \u001b[0miterable\u001b[0m\u001b[0;34m:\u001b[0m\u001b[0;34m\u001b[0m\u001b[0;34m\u001b[0m\u001b[0m\n\u001b[0m\u001b[1;32m   1179\u001b[0m                 \u001b[0;32myield\u001b[0m \u001b[0mobj\u001b[0m\u001b[0;34m\u001b[0m\u001b[0;34m\u001b[0m\u001b[0m\n\u001b[1;32m   1180\u001b[0m                 \u001b[0;31m# Update and possibly print the progressbar.\u001b[0m\u001b[0;34m\u001b[0m\u001b[0;34m\u001b[0m\u001b[0m\n",
            "\u001b[0;32m/usr/local/lib/python3.10/dist-packages/torch/utils/data/dataloader.py\u001b[0m in \u001b[0;36m__next__\u001b[0;34m(self)\u001b[0m\n\u001b[1;32m    631\u001b[0m                 \u001b[0;31m# TODO(https://github.com/pytorch/pytorch/issues/76750)\u001b[0m\u001b[0;34m\u001b[0m\u001b[0;34m\u001b[0m\u001b[0m\n\u001b[1;32m    632\u001b[0m                 \u001b[0mself\u001b[0m\u001b[0;34m.\u001b[0m\u001b[0m_reset\u001b[0m\u001b[0;34m(\u001b[0m\u001b[0;34m)\u001b[0m  \u001b[0;31m# type: ignore[call-arg]\u001b[0m\u001b[0;34m\u001b[0m\u001b[0;34m\u001b[0m\u001b[0m\n\u001b[0;32m--> 633\u001b[0;31m             \u001b[0mdata\u001b[0m \u001b[0;34m=\u001b[0m \u001b[0mself\u001b[0m\u001b[0;34m.\u001b[0m\u001b[0m_next_data\u001b[0m\u001b[0;34m(\u001b[0m\u001b[0;34m)\u001b[0m\u001b[0;34m\u001b[0m\u001b[0;34m\u001b[0m\u001b[0m\n\u001b[0m\u001b[1;32m    634\u001b[0m             \u001b[0mself\u001b[0m\u001b[0;34m.\u001b[0m\u001b[0m_num_yielded\u001b[0m \u001b[0;34m+=\u001b[0m \u001b[0;36m1\u001b[0m\u001b[0;34m\u001b[0m\u001b[0;34m\u001b[0m\u001b[0m\n\u001b[1;32m    635\u001b[0m             \u001b[0;32mif\u001b[0m \u001b[0mself\u001b[0m\u001b[0;34m.\u001b[0m\u001b[0m_dataset_kind\u001b[0m \u001b[0;34m==\u001b[0m \u001b[0m_DatasetKind\u001b[0m\u001b[0;34m.\u001b[0m\u001b[0mIterable\u001b[0m \u001b[0;32mand\u001b[0m\u001b[0;31m \u001b[0m\u001b[0;31m\\\u001b[0m\u001b[0;34m\u001b[0m\u001b[0;34m\u001b[0m\u001b[0m\n",
            "\u001b[0;32m/usr/local/lib/python3.10/dist-packages/torch/utils/data/dataloader.py\u001b[0m in \u001b[0;36m_next_data\u001b[0;34m(self)\u001b[0m\n\u001b[1;32m    675\u001b[0m     \u001b[0;32mdef\u001b[0m \u001b[0m_next_data\u001b[0m\u001b[0;34m(\u001b[0m\u001b[0mself\u001b[0m\u001b[0;34m)\u001b[0m\u001b[0;34m:\u001b[0m\u001b[0;34m\u001b[0m\u001b[0;34m\u001b[0m\u001b[0m\n\u001b[1;32m    676\u001b[0m         \u001b[0mindex\u001b[0m \u001b[0;34m=\u001b[0m \u001b[0mself\u001b[0m\u001b[0;34m.\u001b[0m\u001b[0m_next_index\u001b[0m\u001b[0;34m(\u001b[0m\u001b[0;34m)\u001b[0m  \u001b[0;31m# may raise StopIteration\u001b[0m\u001b[0;34m\u001b[0m\u001b[0;34m\u001b[0m\u001b[0m\n\u001b[0;32m--> 677\u001b[0;31m         \u001b[0mdata\u001b[0m \u001b[0;34m=\u001b[0m \u001b[0mself\u001b[0m\u001b[0;34m.\u001b[0m\u001b[0m_dataset_fetcher\u001b[0m\u001b[0;34m.\u001b[0m\u001b[0mfetch\u001b[0m\u001b[0;34m(\u001b[0m\u001b[0mindex\u001b[0m\u001b[0;34m)\u001b[0m  \u001b[0;31m# may raise StopIteration\u001b[0m\u001b[0;34m\u001b[0m\u001b[0;34m\u001b[0m\u001b[0m\n\u001b[0m\u001b[1;32m    678\u001b[0m         \u001b[0;32mif\u001b[0m \u001b[0mself\u001b[0m\u001b[0;34m.\u001b[0m\u001b[0m_pin_memory\u001b[0m\u001b[0;34m:\u001b[0m\u001b[0;34m\u001b[0m\u001b[0;34m\u001b[0m\u001b[0m\n\u001b[1;32m    679\u001b[0m             \u001b[0mdata\u001b[0m \u001b[0;34m=\u001b[0m \u001b[0m_utils\u001b[0m\u001b[0;34m.\u001b[0m\u001b[0mpin_memory\u001b[0m\u001b[0;34m.\u001b[0m\u001b[0mpin_memory\u001b[0m\u001b[0;34m(\u001b[0m\u001b[0mdata\u001b[0m\u001b[0;34m,\u001b[0m \u001b[0mself\u001b[0m\u001b[0;34m.\u001b[0m\u001b[0m_pin_memory_device\u001b[0m\u001b[0;34m)\u001b[0m\u001b[0;34m\u001b[0m\u001b[0;34m\u001b[0m\u001b[0m\n",
            "\u001b[0;32m/usr/local/lib/python3.10/dist-packages/torch/utils/data/_utils/fetch.py\u001b[0m in \u001b[0;36mfetch\u001b[0;34m(self, possibly_batched_index)\u001b[0m\n\u001b[1;32m     49\u001b[0m                 \u001b[0mdata\u001b[0m \u001b[0;34m=\u001b[0m \u001b[0mself\u001b[0m\u001b[0;34m.\u001b[0m\u001b[0mdataset\u001b[0m\u001b[0;34m.\u001b[0m\u001b[0m__getitems__\u001b[0m\u001b[0;34m(\u001b[0m\u001b[0mpossibly_batched_index\u001b[0m\u001b[0;34m)\u001b[0m\u001b[0;34m\u001b[0m\u001b[0;34m\u001b[0m\u001b[0m\n\u001b[1;32m     50\u001b[0m             \u001b[0;32melse\u001b[0m\u001b[0;34m:\u001b[0m\u001b[0;34m\u001b[0m\u001b[0;34m\u001b[0m\u001b[0m\n\u001b[0;32m---> 51\u001b[0;31m                 \u001b[0mdata\u001b[0m \u001b[0;34m=\u001b[0m \u001b[0;34m[\u001b[0m\u001b[0mself\u001b[0m\u001b[0;34m.\u001b[0m\u001b[0mdataset\u001b[0m\u001b[0;34m[\u001b[0m\u001b[0midx\u001b[0m\u001b[0;34m]\u001b[0m \u001b[0;32mfor\u001b[0m \u001b[0midx\u001b[0m \u001b[0;32min\u001b[0m \u001b[0mpossibly_batched_index\u001b[0m\u001b[0;34m]\u001b[0m\u001b[0;34m\u001b[0m\u001b[0;34m\u001b[0m\u001b[0m\n\u001b[0m\u001b[1;32m     52\u001b[0m         \u001b[0;32melse\u001b[0m\u001b[0;34m:\u001b[0m\u001b[0;34m\u001b[0m\u001b[0;34m\u001b[0m\u001b[0m\n\u001b[1;32m     53\u001b[0m             \u001b[0mdata\u001b[0m \u001b[0;34m=\u001b[0m \u001b[0mself\u001b[0m\u001b[0;34m.\u001b[0m\u001b[0mdataset\u001b[0m\u001b[0;34m[\u001b[0m\u001b[0mpossibly_batched_index\u001b[0m\u001b[0;34m]\u001b[0m\u001b[0;34m\u001b[0m\u001b[0;34m\u001b[0m\u001b[0m\n",
            "\u001b[0;32m/usr/local/lib/python3.10/dist-packages/torch/utils/data/_utils/fetch.py\u001b[0m in \u001b[0;36m<listcomp>\u001b[0;34m(.0)\u001b[0m\n\u001b[1;32m     49\u001b[0m                 \u001b[0mdata\u001b[0m \u001b[0;34m=\u001b[0m \u001b[0mself\u001b[0m\u001b[0;34m.\u001b[0m\u001b[0mdataset\u001b[0m\u001b[0;34m.\u001b[0m\u001b[0m__getitems__\u001b[0m\u001b[0;34m(\u001b[0m\u001b[0mpossibly_batched_index\u001b[0m\u001b[0;34m)\u001b[0m\u001b[0;34m\u001b[0m\u001b[0;34m\u001b[0m\u001b[0m\n\u001b[1;32m     50\u001b[0m             \u001b[0;32melse\u001b[0m\u001b[0;34m:\u001b[0m\u001b[0;34m\u001b[0m\u001b[0;34m\u001b[0m\u001b[0m\n\u001b[0;32m---> 51\u001b[0;31m                 \u001b[0mdata\u001b[0m \u001b[0;34m=\u001b[0m \u001b[0;34m[\u001b[0m\u001b[0mself\u001b[0m\u001b[0;34m.\u001b[0m\u001b[0mdataset\u001b[0m\u001b[0;34m[\u001b[0m\u001b[0midx\u001b[0m\u001b[0;34m]\u001b[0m \u001b[0;32mfor\u001b[0m \u001b[0midx\u001b[0m \u001b[0;32min\u001b[0m \u001b[0mpossibly_batched_index\u001b[0m\u001b[0;34m]\u001b[0m\u001b[0;34m\u001b[0m\u001b[0;34m\u001b[0m\u001b[0m\n\u001b[0m\u001b[1;32m     52\u001b[0m         \u001b[0;32melse\u001b[0m\u001b[0;34m:\u001b[0m\u001b[0;34m\u001b[0m\u001b[0;34m\u001b[0m\u001b[0m\n\u001b[1;32m     53\u001b[0m             \u001b[0mdata\u001b[0m \u001b[0;34m=\u001b[0m \u001b[0mself\u001b[0m\u001b[0;34m.\u001b[0m\u001b[0mdataset\u001b[0m\u001b[0;34m[\u001b[0m\u001b[0mpossibly_batched_index\u001b[0m\u001b[0;34m]\u001b[0m\u001b[0;34m\u001b[0m\u001b[0;34m\u001b[0m\u001b[0m\n",
            "\u001b[0;32m<ipython-input-20-408e91487fbb>\u001b[0m in \u001b[0;36m__getitem__\u001b[0;34m(self, index)\u001b[0m\n\u001b[1;32m     15\u001b[0m         \u001b[0mtext1\u001b[0m \u001b[0;34m=\u001b[0m \u001b[0mself\u001b[0m\u001b[0;34m.\u001b[0m\u001b[0mtrain_csv\u001b[0m\u001b[0;34m.\u001b[0m\u001b[0miloc\u001b[0m\u001b[0;34m[\u001b[0m\u001b[0mindex\u001b[0m\u001b[0;34m,\u001b[0m\u001b[0;36m0\u001b[0m\u001b[0;34m]\u001b[0m\u001b[0;34m\u001b[0m\u001b[0;34m\u001b[0m\u001b[0m\n\u001b[1;32m     16\u001b[0m         \u001b[0mtext2\u001b[0m \u001b[0;34m=\u001b[0m \u001b[0mself\u001b[0m\u001b[0;34m.\u001b[0m\u001b[0mtrain_csv\u001b[0m\u001b[0;34m.\u001b[0m\u001b[0miloc\u001b[0m\u001b[0;34m[\u001b[0m\u001b[0mindex\u001b[0m\u001b[0;34m,\u001b[0m\u001b[0;36m1\u001b[0m\u001b[0;34m]\u001b[0m\u001b[0;34m\u001b[0m\u001b[0;34m\u001b[0m\u001b[0m\n\u001b[0;32m---> 17\u001b[0;31m         inputs = self.tokenizer.encode_plus(\n\u001b[0m\u001b[1;32m     18\u001b[0m             \u001b[0mtext1\u001b[0m \u001b[0;34m,\u001b[0m\u001b[0;34m\u001b[0m\u001b[0;34m\u001b[0m\u001b[0m\n\u001b[1;32m     19\u001b[0m             \u001b[0mtext2\u001b[0m\u001b[0;34m,\u001b[0m\u001b[0;34m\u001b[0m\u001b[0;34m\u001b[0m\u001b[0m\n",
            "\u001b[0;32m/usr/local/lib/python3.10/dist-packages/transformers/tokenization_utils_base.py\u001b[0m in \u001b[0;36mencode_plus\u001b[0;34m(self, text, text_pair, add_special_tokens, padding, truncation, max_length, stride, is_split_into_words, pad_to_multiple_of, return_tensors, return_token_type_ids, return_attention_mask, return_overflowing_tokens, return_special_tokens_mask, return_offsets_mapping, return_length, verbose, **kwargs)\u001b[0m\n\u001b[1;32m   2725\u001b[0m         )\n\u001b[1;32m   2726\u001b[0m \u001b[0;34m\u001b[0m\u001b[0m\n\u001b[0;32m-> 2727\u001b[0;31m         return self._encode_plus(\n\u001b[0m\u001b[1;32m   2728\u001b[0m             \u001b[0mtext\u001b[0m\u001b[0;34m=\u001b[0m\u001b[0mtext\u001b[0m\u001b[0;34m,\u001b[0m\u001b[0;34m\u001b[0m\u001b[0;34m\u001b[0m\u001b[0m\n\u001b[1;32m   2729\u001b[0m             \u001b[0mtext_pair\u001b[0m\u001b[0;34m=\u001b[0m\u001b[0mtext_pair\u001b[0m\u001b[0;34m,\u001b[0m\u001b[0;34m\u001b[0m\u001b[0;34m\u001b[0m\u001b[0m\n",
            "\u001b[0;32m/usr/local/lib/python3.10/dist-packages/transformers/tokenization_utils_fast.py\u001b[0m in \u001b[0;36m_encode_plus\u001b[0;34m(self, text, text_pair, add_special_tokens, padding_strategy, truncation_strategy, max_length, stride, is_split_into_words, pad_to_multiple_of, return_tensors, return_token_type_ids, return_attention_mask, return_overflowing_tokens, return_special_tokens_mask, return_offsets_mapping, return_length, verbose, **kwargs)\u001b[0m\n\u001b[1;32m    498\u001b[0m     ) -> BatchEncoding:\n\u001b[1;32m    499\u001b[0m         \u001b[0mbatched_input\u001b[0m \u001b[0;34m=\u001b[0m \u001b[0;34m[\u001b[0m\u001b[0;34m(\u001b[0m\u001b[0mtext\u001b[0m\u001b[0;34m,\u001b[0m \u001b[0mtext_pair\u001b[0m\u001b[0;34m)\u001b[0m\u001b[0;34m]\u001b[0m \u001b[0;32mif\u001b[0m \u001b[0mtext_pair\u001b[0m \u001b[0;32melse\u001b[0m \u001b[0;34m[\u001b[0m\u001b[0mtext\u001b[0m\u001b[0;34m]\u001b[0m\u001b[0;34m\u001b[0m\u001b[0;34m\u001b[0m\u001b[0m\n\u001b[0;32m--> 500\u001b[0;31m         batched_output = self._batch_encode_plus(\n\u001b[0m\u001b[1;32m    501\u001b[0m             \u001b[0mbatched_input\u001b[0m\u001b[0;34m,\u001b[0m\u001b[0;34m\u001b[0m\u001b[0;34m\u001b[0m\u001b[0m\n\u001b[1;32m    502\u001b[0m             \u001b[0mis_split_into_words\u001b[0m\u001b[0;34m=\u001b[0m\u001b[0mis_split_into_words\u001b[0m\u001b[0;34m,\u001b[0m\u001b[0;34m\u001b[0m\u001b[0;34m\u001b[0m\u001b[0m\n",
            "\u001b[0;32m/usr/local/lib/python3.10/dist-packages/transformers/tokenization_utils_fast.py\u001b[0m in \u001b[0;36m_batch_encode_plus\u001b[0;34m(self, batch_text_or_text_pairs, add_special_tokens, padding_strategy, truncation_strategy, max_length, stride, is_split_into_words, pad_to_multiple_of, return_tensors, return_token_type_ids, return_attention_mask, return_overflowing_tokens, return_special_tokens_mask, return_offsets_mapping, return_length, verbose)\u001b[0m\n\u001b[1;32m    426\u001b[0m         )\n\u001b[1;32m    427\u001b[0m \u001b[0;34m\u001b[0m\u001b[0m\n\u001b[0;32m--> 428\u001b[0;31m         encodings = self._tokenizer.encode_batch(\n\u001b[0m\u001b[1;32m    429\u001b[0m             \u001b[0mbatch_text_or_text_pairs\u001b[0m\u001b[0;34m,\u001b[0m\u001b[0;34m\u001b[0m\u001b[0;34m\u001b[0m\u001b[0m\n\u001b[1;32m    430\u001b[0m             \u001b[0madd_special_tokens\u001b[0m\u001b[0;34m=\u001b[0m\u001b[0madd_special_tokens\u001b[0m\u001b[0;34m,\u001b[0m\u001b[0;34m\u001b[0m\u001b[0;34m\u001b[0m\u001b[0m\n",
            "\u001b[0;31mKeyboardInterrupt\u001b[0m: "
          ]
        }
      ],
      "source": [
        "for n in range(1,12):\n",
        "    print(n)\n",
        "    config_layer = AutoConfig.from_pretrained(\"HooshvareLab/bert-base-parsbert-uncased\",num_hidden_layers= 12-n)\n",
        "    num_layers = config_layer.num_hidden_layers\n",
        "    print('num_layers:', num_layers)\n",
        "    model_name = Pars_BERT_nlayers(config_layer)\n",
        "    optimizer= optim.Adam(model_name.parameters(),lr= 0.0001)\n",
        "    name_plot = str(12-n) + '_layer'\n",
        "    model_finetune = finetune_nlayer(5, dataloader, valid_dataloader, model_name, loss_fn, optimizer, device, name_plot)\n",
        "    accuracy, precision, recall, f1, cm = model_eval(model_finetune, test_dataloader, name_plot)\n",
        "    accuracy_lst.append(accuracy)\n",
        "    precision_lst.append(precision)\n",
        "    recall_lst.append(recall)\n",
        "    f1_lst.append(f1)\n",
        "    cm_lst.append(cm)\n",
        "    num_layers_lst.append(num_layers)"
      ]
    },
    {
      "cell_type": "code",
      "execution_count": null,
      "metadata": {
        "id": "VkYsv_zS-Ljx"
      },
      "outputs": [],
      "source": [
        "import matplotlib.pyplot as plt\n",
        "# Plotting the accuracy\n",
        "plt.figure(figsize=(8, 6))\n",
        "plt.plot(num_layers_lst, accuracy_lst, linestyle='-', marker='o', color='blue')\n",
        "plt.xlabel(\"Number of Layers\", fontsize=12, fontweight='bold')\n",
        "plt.ylabel(\"Accuracy\", fontsize=12, fontweight='bold')\n",
        "plt.title(\"Accuracy vs. Number of Layers\", fontsize=14, fontweight='bold')\n",
        "plt.grid(True, linestyle='--', alpha=0.5)\n",
        "plt.savefig(\"accuracy_plot_layers.png\", dpi=300, bbox_inches='tight')\n",
        "plt.show()"
      ]
    },
    {
      "cell_type": "markdown",
      "metadata": {
        "id": "1_NWyuNg-4pH"
      },
      "source": [
        "# Task 4"
      ]
    },
    {
      "cell_type": "markdown",
      "metadata": {
        "id": "z7hzrs3RYX81"
      },
      "source": [
        "**Model**"
      ]
    },
    {
      "cell_type": "code",
      "execution_count": 47,
      "metadata": {
        "id": "xND_GKoHGTCf"
      },
      "outputs": [],
      "source": [
        "class Pars_BERT_prune_head(nn.Module):\n",
        "    def __init__(self, drop_heads):\n",
        "        super(Pars_BERT_prune_head, self).__init__()\n",
        "        self.bert_model = AutoModel.from_pretrained(\"HooshvareLab/bert-base-parsbert-uncased\")\n",
        "        self.linear1 = nn.Linear(768, 256)\n",
        "        self.relu = nn.ReLU()\n",
        "        self.out = nn.Linear(256, 3)\n",
        "        self.drop_heads = drop_heads\n",
        "        \n",
        "    def forward(self,ids,mask,token_type_ids):\n",
        "        self.bert_model.prune_heads(self.drop_heads)\n",
        "        _,o2= self.bert_model(ids,attention_mask=mask,token_type_ids=token_type_ids, return_dict=False)\n",
        "        out= self.linear1(o2)\n",
        "        out= self.relu(out)\n",
        "        out= self.out(out)\n",
        "        \n",
        "        return out"
      ]
    },
    {
      "cell_type": "code",
      "execution_count": 48,
      "metadata": {
        "id": "I7bIiDGC-wRV",
        "colab": {
          "base_uri": "https://localhost:8080/"
        },
        "outputId": "8e812523-3826-4d01-8529-cf190fbc3ccf"
      },
      "outputs": [
        {
          "output_type": "stream",
          "name": "stdout",
          "text": [
            "GPU is available\n"
          ]
        }
      ],
      "source": [
        "is_cuda = torch.cuda.is_available()\n",
        "\n",
        "# If we have a GPU available, we'll set our device to GPU. We'll use this device variable later in our code.\n",
        "if is_cuda:\n",
        "    device = torch.device(\"cuda\")\n",
        "    print(\"GPU is available\")\n",
        "else:\n",
        "    device = torch.device(\"cpu\")\n",
        "    print(\"GPU not available, CPU used\")"
      ]
    },
    {
      "cell_type": "code",
      "execution_count": 49,
      "metadata": {
        "id": "AnnzBB-I_BM_"
      },
      "outputs": [],
      "source": [
        "#Initialize Optimizer\n",
        "loss_fn = nn.CrossEntropyLoss()\n",
        "#Initialize Optimizer\n",
        "accuracy_lst = []\n",
        "precision_lst = []\n",
        "recall_lst = []\n",
        "f1_lst = []\n",
        "\n",
        "ratio = [50,67,83]"
      ]
    },
    {
      "cell_type": "code",
      "execution_count": 50,
      "metadata": {
        "id": "xWngo_M8w4K4"
      },
      "outputs": [],
      "source": [
        "import random\n",
        "\n",
        "def generate_dictionary(num_values, percent):\n",
        "    random.seed(5)\n",
        "    dictionary = {}\n",
        "    num_chosen = int((percent / 100) * num_values)\n",
        "    for key in range(0, 12):\n",
        "        values = random.sample(range(num_values), num_chosen)\n",
        "        dictionary[key] = values\n",
        "\n",
        "    return dictionary\n",
        "\n"
      ]
    },
    {
      "cell_type": "code",
      "execution_count": 51,
      "metadata": {
        "id": "mP4xDvs2w61_",
        "colab": {
          "base_uri": "https://localhost:8080/"
        },
        "outputId": "7380fe8a-0b24-4ed5-c6f8-9500a8d53d30"
      },
      "outputs": [
        {
          "output_type": "execute_result",
          "data": {
            "text/plain": [
              "{0: [9, 4, 5, 8, 0, 6],\n",
              " 1: [7, 3, 0, 2, 1, 8],\n",
              " 2: [7, 3, 6, 8, 1, 4],\n",
              " 3: [3, 0, 11, 6, 4, 1],\n",
              " 4: [6, 2, 1, 10, 7, 9],\n",
              " 5: [2, 0, 10, 3, 8, 1],\n",
              " 6: [2, 4, 5, 3, 8, 1],\n",
              " 7: [11, 3, 6, 4, 0, 2],\n",
              " 8: [6, 2, 10, 4, 1, 9],\n",
              " 9: [4, 9, 10, 0, 5, 8],\n",
              " 10: [4, 5, 11, 7, 10, 1],\n",
              " 11: [7, 11, 2, 0, 4, 8]}"
            ]
          },
          "metadata": {},
          "execution_count": 51
        }
      ],
      "source": [
        "drop_heads = generate_dictionary(12,50)\n",
        "drop_heads"
      ]
    },
    {
      "cell_type": "code",
      "execution_count": 52,
      "metadata": {
        "id": "rtvY-Et6B1q-",
        "colab": {
          "base_uri": "https://localhost:8080/"
        },
        "outputId": "2adb6edf-a440-4620-c04e-0a18e70a3909"
      },
      "outputs": [
        {
          "output_type": "stream",
          "name": "stderr",
          "text": [
            "Some weights of the model checkpoint at HooshvareLab/bert-base-parsbert-uncased were not used when initializing BertModel: ['cls.seq_relationship.weight', 'cls.predictions.bias', 'cls.predictions.transform.dense.bias', 'cls.predictions.transform.LayerNorm.bias', 'cls.predictions.transform.LayerNorm.weight', 'cls.predictions.decoder.weight', 'cls.seq_relationship.bias', 'cls.predictions.transform.dense.weight', 'cls.predictions.decoder.bias']\n",
            "- This IS expected if you are initializing BertModel from the checkpoint of a model trained on another task or with another architecture (e.g. initializing a BertForSequenceClassification model from a BertForPreTraining model).\n",
            "- This IS NOT expected if you are initializing BertModel from the checkpoint of a model that you expect to be exactly identical (initializing a BertForSequenceClassification model from a BertForSequenceClassification model).\n"
          ]
        },
        {
          "output_type": "stream",
          "name": "stdout",
          "text": [
            "num-heads:  12\n"
          ]
        }
      ],
      "source": [
        "model=Pars_BERT()\n",
        "config = AutoConfig.from_pretrained(\"HooshvareLab/bert-base-parsbert-uncased\")\n",
        "num_heads = config.num_attention_heads\n",
        "print('num-heads: ', num_heads)"
      ]
    },
    {
      "cell_type": "code",
      "execution_count": 53,
      "metadata": {
        "id": "vo73Ls2UbuRW",
        "colab": {
          "base_uri": "https://localhost:8080/"
        },
        "outputId": "0b8d539d-05af-469e-a4e7-3f199ca18d5a"
      },
      "outputs": [
        {
          "output_type": "stream",
          "name": "stdout",
          "text": [
            "163038979\n"
          ]
        }
      ],
      "source": [
        "total_params = sum(p.numel() for p in model.parameters())\n",
        "print(total_params)"
      ]
    },
    {
      "cell_type": "code",
      "execution_count": 54,
      "metadata": {
        "id": "a5AeTcu87qHy",
        "colab": {
          "base_uri": "https://localhost:8080/"
        },
        "outputId": "62e593e9-3f40-42e1-e511-a6db826c0b9a"
      },
      "outputs": [
        {
          "output_type": "stream",
          "name": "stderr",
          "text": [
            "Some weights of the model checkpoint at HooshvareLab/bert-base-parsbert-uncased were not used when initializing BertModel: ['cls.seq_relationship.weight', 'cls.predictions.bias', 'cls.predictions.transform.dense.bias', 'cls.predictions.transform.LayerNorm.bias', 'cls.predictions.transform.LayerNorm.weight', 'cls.predictions.decoder.weight', 'cls.seq_relationship.bias', 'cls.predictions.transform.dense.weight', 'cls.predictions.decoder.bias']\n",
            "- This IS expected if you are initializing BertModel from the checkpoint of a model trained on another task or with another architecture (e.g. initializing a BertForSequenceClassification model from a BertForPreTraining model).\n",
            "- This IS NOT expected if you are initializing BertModel from the checkpoint of a model that you expect to be exactly identical (initializing a BertForSequenceClassification model from a BertForSequenceClassification model).\n"
          ]
        }
      ],
      "source": [
        "model = AutoModel.from_pretrained(\"HooshvareLab/bert-base-parsbert-uncased\")"
      ]
    },
    {
      "cell_type": "code",
      "execution_count": 55,
      "metadata": {
        "id": "ItPRu7ZJQI6R",
        "colab": {
          "base_uri": "https://localhost:8080/"
        },
        "outputId": "56db831e-73fc-4c33-8b0e-71e4741d2716"
      },
      "outputs": [
        {
          "output_type": "stream",
          "name": "stdout",
          "text": [
            "148671744\n"
          ]
        }
      ],
      "source": [
        "model.prune_heads(drop_heads)\n",
        "total_params = sum(p.numel() for p in model.parameters())\n",
        "print(total_params)"
      ]
    },
    {
      "cell_type": "code",
      "execution_count": 56,
      "metadata": {
        "id": "IARM_kjmb3-a",
        "colab": {
          "base_uri": "https://localhost:8080/"
        },
        "outputId": "2b5b01bf-3da8-431b-ba25-e56776a26bbe"
      },
      "outputs": [
        {
          "output_type": "stream",
          "name": "stdout",
          "text": [
            "139225344\n"
          ]
        }
      ],
      "source": [
        "drop_heads = generate_dictionary(12,83)\n",
        "model.prune_heads(drop_heads)\n",
        "total_params = sum(p.numel() for p in model.parameters())\n",
        "print(total_params)"
      ]
    },
    {
      "cell_type": "code",
      "execution_count": 57,
      "metadata": {
        "id": "QXqAW1FQuU_n"
      },
      "outputs": [],
      "source": [
        "accuracy_lst = []\n",
        "precision_lst = []\n",
        "recall_lst = []\n",
        "f1_lst = []\n",
        "cm_lst = []"
      ]
    },
    {
      "cell_type": "markdown",
      "metadata": {
        "id": "BR06GeYZYQQD"
      },
      "source": [
        "**Train**"
      ]
    },
    {
      "cell_type": "code",
      "execution_count": 58,
      "metadata": {
        "id": "Sk9t59sG_Edo",
        "colab": {
          "base_uri": "https://localhost:8080/",
          "height": 1000
        },
        "outputId": "95c1b896-075b-4767-c788-1dcbef8e260a"
      },
      "outputs": [
        {
          "output_type": "stream",
          "name": "stdout",
          "text": [
            "50\n"
          ]
        },
        {
          "output_type": "stream",
          "name": "stderr",
          "text": [
            "Some weights of the model checkpoint at HooshvareLab/bert-base-parsbert-uncased were not used when initializing BertModel: ['cls.seq_relationship.weight', 'cls.predictions.bias', 'cls.predictions.transform.dense.bias', 'cls.predictions.transform.LayerNorm.bias', 'cls.predictions.transform.LayerNorm.weight', 'cls.predictions.decoder.weight', 'cls.seq_relationship.bias', 'cls.predictions.transform.dense.weight', 'cls.predictions.decoder.bias']\n",
            "- This IS expected if you are initializing BertModel from the checkpoint of a model trained on another task or with another architecture (e.g. initializing a BertForSequenceClassification model from a BertForPreTraining model).\n",
            "- This IS NOT expected if you are initializing BertModel from the checkpoint of a model that you expect to be exactly identical (initializing a BertForSequenceClassification model from a BertForSequenceClassification model).\n"
          ]
        },
        {
          "output_type": "stream",
          "name": "stdout",
          "text": [
            "Epoch 1/5\n"
          ]
        },
        {
          "output_type": "stream",
          "name": "stderr",
          "text": []
        },
        {
          "output_type": "stream",
          "name": "stdout",
          "text": [
            "Train Loss: 0.8355 | Train Acc: 58.79%\n",
            "Val Loss: 0.7483 | Val Acc: 63.09%\n",
            "Epoch 2/5\n"
          ]
        },
        {
          "output_type": "stream",
          "name": "stderr",
          "text": []
        },
        {
          "output_type": "stream",
          "name": "stdout",
          "text": [
            "Train Loss: 0.5835 | Train Acc: 73.54%\n",
            "Val Loss: 0.7764 | Val Acc: 70.31%\n",
            "Epoch 3/5\n"
          ]
        },
        {
          "output_type": "stream",
          "name": "stderr",
          "text": []
        },
        {
          "output_type": "stream",
          "name": "stdout",
          "text": [
            "Train Loss: 0.4315 | Train Acc: 82.11%\n",
            "Val Loss: 0.6852 | Val Acc: 72.85%\n",
            "Epoch 4/5\n"
          ]
        },
        {
          "output_type": "stream",
          "name": "stderr",
          "text": []
        },
        {
          "output_type": "stream",
          "name": "stdout",
          "text": [
            "Train Loss: 0.2942 | Train Acc: 88.87%\n",
            "Val Loss: 0.6128 | Val Acc: 76.76%\n",
            "Epoch 5/5\n"
          ]
        },
        {
          "output_type": "stream",
          "name": "stderr",
          "text": []
        },
        {
          "output_type": "stream",
          "name": "stdout",
          "text": [
            "Train Loss: 0.2215 | Train Acc: 92.02%\n",
            "Val Loss: 0.8350 | Val Acc: 72.85%\n"
          ]
        },
        {
          "output_type": "stream",
          "name": "stderr",
          "text": []
        },
        {
          "output_type": "stream",
          "name": "stdout",
          "text": [
            "Test Accuracy: 73.11\n",
            "Test Precision: 75.23\n",
            "Test Recall: 72.96\n",
            "Test F1-score: 72.80\n",
            "Confusion Matrix:\n",
            "[[365  42  94]\n",
            " [173 296  41]\n",
            " [ 63   0 462]]\n"
          ]
        },
        {
          "output_type": "display_data",
          "data": {
            "text/plain": [
              "<Figure size 1200x400 with 2 Axes>"
            ],
            "image/png": "[encoded data removed]"
          },
          "metadata": {}
        },
        {
          "output_type": "display_data",
          "data": {
            "text/plain": [
              "<Figure size 640x480 with 2 Axes>"
            ],
            "image/png": "[encoded data removed]"
          },
          "metadata": {}
        },
        {
          "output_type": "stream",
          "name": "stdout",
          "text": [
            "67\n"
          ]
        },
        {
          "output_type": "stream",
          "name": "stderr",
          "text": [
            "Some weights of the model checkpoint at HooshvareLab/bert-base-parsbert-uncased were not used when initializing BertModel: ['cls.seq_relationship.weight', 'cls.predictions.bias', 'cls.predictions.transform.dense.bias', 'cls.predictions.transform.LayerNorm.bias', 'cls.predictions.transform.LayerNorm.weight', 'cls.predictions.decoder.weight', 'cls.seq_relationship.bias', 'cls.predictions.transform.dense.weight', 'cls.predictions.decoder.bias']\n",
            "- This IS expected if you are initializing BertModel from the checkpoint of a model trained on another task or with another architecture (e.g. initializing a BertForSequenceClassification model from a BertForPreTraining model).\n",
            "- This IS NOT expected if you are initializing BertModel from the checkpoint of a model that you expect to be exactly identical (initializing a BertForSequenceClassification model from a BertForSequenceClassification model).\n"
          ]
        },
        {
          "output_type": "stream",
          "name": "stdout",
          "text": [
            "Epoch 1/5\n"
          ]
        },
        {
          "output_type": "stream",
          "name": "stderr",
          "text": [
            "\r  0%|          | 0/56 [00:00<?, ?it/s]/usr/local/lib/python3.10/dist-packages/transformers/tokenization_utils_base.py:2364: FutureWarning: The `pad_to_max_length` argument is deprecated and will be removed in a future version, use `padding=True` or `padding='longest'` to pad to the longest sequence in the batch, or use `padding='max_length'` to pad to a max length. In this case, you can give a specific length with `max_length` (e.g. `max_length=45`) or leave max_length to None to pad to the maximal input size of the model (e.g. 512 for Bert).\n",
            "  warnings.warn(\n"
          ]
        },
        {
          "output_type": "stream",
          "name": "stdout",
          "text": [
            "Train Loss: 0.9500 | Train Acc: 51.10%\n",
            "Val Loss: 0.7869 | Val Acc: 62.89%\n",
            "Epoch 2/5\n"
          ]
        },
        {
          "output_type": "stream",
          "name": "stderr",
          "text": []
        },
        {
          "output_type": "stream",
          "name": "stdout",
          "text": [
            "Train Loss: 0.6799 | Train Acc: 67.82%\n",
            "Val Loss: 0.6766 | Val Acc: 70.51%\n",
            "Epoch 3/5\n"
          ]
        },
        {
          "output_type": "stream",
          "name": "stderr",
          "text": []
        },
        {
          "output_type": "stream",
          "name": "stdout",
          "text": [
            "Train Loss: 0.4915 | Train Acc: 78.28%\n",
            "Val Loss: 0.9498 | Val Acc: 62.11%\n",
            "Epoch 4/5\n"
          ]
        },
        {
          "output_type": "stream",
          "name": "stderr",
          "text": []
        },
        {
          "output_type": "stream",
          "name": "stdout",
          "text": [
            "Train Loss: 0.3743 | Train Acc: 84.61%\n",
            "Val Loss: 0.7322 | Val Acc: 72.72%\n",
            "Epoch 5/5\n"
          ]
        },
        {
          "output_type": "stream",
          "name": "stderr",
          "text": []
        },
        {
          "output_type": "stream",
          "name": "stdout",
          "text": [
            "Train Loss: 0.3348 | Train Acc: 86.80%\n",
            "Val Loss: 1.2116 | Val Acc: 63.80%\n"
          ]
        },
        {
          "output_type": "stream",
          "name": "stderr",
          "text": []
        },
        {
          "output_type": "stream",
          "name": "stdout",
          "text": [
            "Test Accuracy: 68.23\n",
            "Test Precision: 70.94\n",
            "Test Recall: 67.85\n",
            "Test F1-score: 66.82\n",
            "Confusion Matrix:\n",
            "[[266  40 195]\n",
            " [154 270  86]\n",
            " [ 11   2 512]]\n"
          ]
        },
        {
          "output_type": "display_data",
          "data": {
            "text/plain": [
              "<Figure size 1200x400 with 2 Axes>"
            ],
            "image/png": "[encoded data removed]"
          },
          "metadata": {}
        },
        {
          "output_type": "display_data",
          "data": {
            "text/plain": [
              "<Figure size 640x480 with 2 Axes>"
            ],
            "image/png": "[encoded data removed]"
          },
          "metadata": {}
        },
        {
          "output_type": "stream",
          "name": "stdout",
          "text": [
            "83\n"
          ]
        },
        {
          "output_type": "stream",
          "name": "stderr",
          "text": [
            "Some weights of the model checkpoint at HooshvareLab/bert-base-parsbert-uncased were not used when initializing BertModel: ['cls.seq_relationship.weight', 'cls.predictions.bias', 'cls.predictions.transform.dense.bias', 'cls.predictions.transform.LayerNorm.bias', 'cls.predictions.transform.LayerNorm.weight', 'cls.predictions.decoder.weight', 'cls.seq_relationship.bias', 'cls.predictions.transform.dense.weight', 'cls.predictions.decoder.bias']\n",
            "- This IS expected if you are initializing BertModel from the checkpoint of a model trained on another task or with another architecture (e.g. initializing a BertForSequenceClassification model from a BertForPreTraining model).\n",
            "- This IS NOT expected if you are initializing BertModel from the checkpoint of a model that you expect to be exactly identical (initializing a BertForSequenceClassification model from a BertForSequenceClassification model).\n"
          ]
        },
        {
          "output_type": "stream",
          "name": "stdout",
          "text": [
            "Epoch 1/5\n"
          ]
        },
        {
          "output_type": "stream",
          "name": "stderr",
          "text": [
            "\r  0%|          | 0/56 [00:00<?, ?it/s]/usr/local/lib/python3.10/dist-packages/transformers/tokenization_utils_base.py:2364: FutureWarning: The `pad_to_max_length` argument is deprecated and will be removed in a future version, use `padding=True` or `padding='longest'` to pad to the longest sequence in the batch, or use `padding='max_length'` to pad to a max length. In this case, you can give a specific length with `max_length` (e.g. `max_length=45`) or leave max_length to None to pad to the maximal input size of the model (e.g. 512 for Bert).\n",
            "  warnings.warn(\n"
          ]
        },
        {
          "output_type": "stream",
          "name": "stdout",
          "text": [
            "Train Loss: 1.0783 | Train Acc: 39.80%\n",
            "Val Loss: 1.0373 | Val Acc: 46.29%\n",
            "Epoch 2/5\n"
          ]
        },
        {
          "output_type": "stream",
          "name": "stderr",
          "text": []
        },
        {
          "output_type": "stream",
          "name": "stdout",
          "text": [
            "Train Loss: 0.9281 | Train Acc: 54.55%\n",
            "Val Loss: 1.0192 | Val Acc: 49.80%\n",
            "Epoch 3/5\n"
          ]
        },
        {
          "output_type": "stream",
          "name": "stderr",
          "text": []
        },
        {
          "output_type": "stream",
          "name": "stdout",
          "text": [
            "Train Loss: 0.7276 | Train Acc: 68.19%\n",
            "Val Loss: 1.1525 | Val Acc: 47.27%\n",
            "Epoch 4/5\n"
          ]
        },
        {
          "output_type": "stream",
          "name": "stderr",
          "text": []
        },
        {
          "output_type": "stream",
          "name": "stdout",
          "text": [
            "Train Loss: 0.5486 | Train Acc: 76.93%\n",
            "Val Loss: 1.2876 | Val Acc: 48.24%\n",
            "Epoch 5/5\n"
          ]
        },
        {
          "output_type": "stream",
          "name": "stderr",
          "text": []
        },
        {
          "output_type": "stream",
          "name": "stdout",
          "text": [
            "Train Loss: 0.4561 | Train Acc: 80.69%\n",
            "Val Loss: 1.3819 | Val Acc: 50.59%\n"
          ]
        },
        {
          "output_type": "stream",
          "name": "stderr",
          "text": []
        },
        {
          "output_type": "stream",
          "name": "stdout",
          "text": [
            "Test Accuracy: 50.33\n",
            "Test Precision: 50.48\n",
            "Test Recall: 50.34\n",
            "Test F1-score: 50.01\n",
            "Confusion Matrix:\n",
            "[[292 102 107]\n",
            " [190 199 121]\n",
            " [139 104 282]]\n"
          ]
        },
        {
          "output_type": "display_data",
          "data": {
            "text/plain": [
              "<Figure size 1200x400 with 2 Axes>"
            ],
            "image/png": "[encoded data removed]"
          },
          "metadata": {}
        },
        {
          "output_type": "display_data",
          "data": {
            "text/plain": [
              "<Figure size 640x480 with 2 Axes>"
            ],
            "image/png": "[encoded data removed]"
          },
          "metadata": {}
        }
      ],
      "source": [
        "for r in ratio:\n",
        "    print(r)\n",
        "    drop_heads = generate_dictionary(12,r)\n",
        "    model_name = Pars_BERT_prune_head(drop_heads)\n",
        "    optimizer= optim.Adam(model_name.parameters(),lr= 0.0001)\n",
        "    name_plot = str(r) + '_drop_head'\n",
        "    model_finetune = finetune_nlayer(5, dataloader, valid_dataloader, model_name, loss_fn, optimizer, device, name_plot)\n",
        "    accuracy, precision, recall, f1, cm = model_eval(model_finetune, test_dataloader, name_plot)\n",
        "    accuracy_lst.append(accuracy)\n",
        "    precision_lst.append(precision)\n",
        "    recall_lst.append(recall)\n",
        "    f1_lst.append(f1)\n",
        "    cm_lst.append(cm)"
      ]
    },
    {
      "cell_type": "markdown",
      "metadata": {
        "id": "Atf8cnurYMZg"
      },
      "source": [
        "## Task 5"
      ]
    },
    {
      "cell_type": "code",
      "execution_count": 59,
      "metadata": {
        "id": "igtO05xzSLNw"
      },
      "outputs": [],
      "source": [
        "import pandas as pd\n",
        "\n",
        "# Create the sentence pairs\n",
        "data = {\n",
        "    'premise': [\n",
        "        \"دین او سنی است.\",\n",
        "        \"آن شخص سیاه پوست بهترین گزینه برای مدیرعاملی هست.\",\n",
        "        \"اصلیت او تهرانی است.\",\n",
        "        \"شغل آن زن منشی بودن شرکت است.\"\n",
        "        \"از بین آن ها فقط علی ماند.\"\n",
        "\n",
        "    ],\n",
        "    'hypothesis': [\n",
        "        \"مذهب او شیعه است.\",\n",
        "        \"آن شخص سفید پوست بهترین گزینه برای مدیرعاملی است.\",\n",
        "        \"اصلیت او آبادانی است.\",\n",
        "        \"شغل آن زن مدیرعاملی شرکت است.\"\n",
        "        \"همه رفتند ولی علی ماند.\"\n",
        "\n",
        "    ],\n",
        "    'label': [\n",
        "        1,  #e\n",
        "        1,\n",
        "        1,\n",
        "        1\n",
        "    ]\n",
        "}\n",
        "\n",
        "# Convert the data to a DataFrame\n",
        "df_sample = pd.DataFrame(data)\n",
        "\n",
        "# Save the DataFrame to a CSV file\n",
        "df_sample.to_csv('nli_dataset.csv', sep='\\t', index=False)  # Modify 'nli_dataset.csv' to the desired file name\n"
      ]
    },
    {
      "cell_type": "code",
      "execution_count": 60,
      "metadata": {
        "id": "_A9UpzGRWf49",
        "colab": {
          "base_uri": "https://localhost:8080/",
          "height": 219
        },
        "outputId": "c685719c-90bb-439d-b244-e89d8beef9bc"
      },
      "outputs": [
        {
          "output_type": "execute_result",
          "data": {
            "text/plain": [
              "                                             premise  \\\n",
              "0                                    دین او سنی است.   \n",
              "1  آن شخص سیاه پوست بهترین گزینه برای مدیرعاملی هست.   \n",
              "2                               اصلیت او تهرانی است.   \n",
              "3  شغل آن زن منشی بودن شرکت است.از بین آن ها فقط ...   \n",
              "\n",
              "                                          hypothesis  label  \n",
              "0                                  مذهب او شیعه است.      1  \n",
              "1  آن شخص سفید پوست بهترین گزینه برای مدیرعاملی است.      1  \n",
              "2                              اصلیت او آبادانی است.      1  \n",
              "3  شغل آن زن مدیرعاملی شرکت است.همه رفتند ولی علی...      1  "
            ],
            "text/html": [
              "\n",
              "  <div id=\"df-2cbc7c95-b1ac-4f91-85de-bb617df8a160\">\n",
              "    <div class=\"colab-df-container\">\n",
              "      <div>\n",
              "<style scoped>\n",
              "    .dataframe tbody tr th:only-of-type {\n",
              "        vertical-align: middle;\n",
              "    }\n",
              "\n",
              "    .dataframe tbody tr th {\n",
              "        vertical-align: top;\n",
              "    }\n",
              "\n",
              "    .dataframe thead th {\n",
              "        text-align: right;\n",
              "    }\n",
              "</style>\n",
              "<table border=\"1\" class=\"dataframe\">\n",
              "  <thead>\n",
              "    <tr style=\"text-align: right;\">\n",
              "      <th></th>\n",
              "      <th>premise</th>\n",
              "      <th>hypothesis</th>\n",
              "      <th>label</th>\n",
              "    </tr>\n",
              "  </thead>\n",
              "  <tbody>\n",
              "    <tr>\n",
              "      <th>0</th>\n",
              "      <td>دین او سنی است.</td>\n",
              "      <td>مذهب او شیعه است.</td>\n",
              "      <td>1</td>\n",
              "    </tr>\n",
              "    <tr>\n",
              "      <th>1</th>\n",
              "      <td>آن شخص سیاه پوست بهترین گزینه برای مدیرعاملی هست.</td>\n",
              "      <td>آن شخص سفید پوست بهترین گزینه برای مدیرعاملی است.</td>\n",
              "      <td>1</td>\n",
              "    </tr>\n",
              "    <tr>\n",
              "      <th>2</th>\n",
              "      <td>اصلیت او تهرانی است.</td>\n",
              "      <td>اصلیت او آبادانی است.</td>\n",
              "      <td>1</td>\n",
              "    </tr>\n",
              "    <tr>\n",
              "      <th>3</th>\n",
              "      <td>شغل آن زن منشی بودن شرکت است.از بین آن ها فقط ...</td>\n",
              "      <td>شغل آن زن مدیرعاملی شرکت است.همه رفتند ولی علی...</td>\n",
              "      <td>1</td>\n",
              "    </tr>\n",
              "  </tbody>\n",
              "</table>\n",
              "</div>\n",
              "      <button class=\"colab-df-convert\" onclick=\"convertToInteractive('df-2cbc7c95-b1ac-4f91-85de-bb617df8a160')\"\n",
              "              title=\"Convert this dataframe to an interactive table.\"\n",
              "              style=\"display:none;\">\n",
              "        \n",
              "  <svg xmlns=\"http://www.w3.org/2000/svg\" height=\"24px\"viewBox=\"0 0 24 24\"\n",
              "       width=\"24px\">\n",
              "    <path d=\"M0 0h24v24H0V0z\" fill=\"none\"/>\n",
              "    <path d=\"M18.56 5.44l.94 2.06.94-2.06 2.06-.94-2.06-.94-.94-2.06-.94 2.06-2.06.94zm-11 1L8.5 8.5l.94-2.06 2.06-.94-2.06-.94L8.5 2.5l-.94 2.06-2.06.94zm10 10l.94 2.06.94-2.06 2.06-.94-2.06-.94-.94-2.06-.94 2.06-2.06.94z\"/><path d=\"M17.41 7.96l-1.37-1.37c-.4-.4-.92-.59-1.43-.59-.52 0-1.04.2-1.43.59L10.3 9.45l-7.72 7.72c-.78.78-.78 2.05 0 2.83L4 21.41c.39.39.9.59 1.41.59.51 0 1.02-.2 1.41-.59l7.78-7.78 2.81-2.81c.8-.78.8-2.07 0-2.86zM5.41 20L4 18.59l7.72-7.72 1.47 1.35L5.41 20z\"/>\n",
              "  </svg>\n",
              "      </button>\n",
              "      \n",
              "  <style>\n",
              "    .colab-df-container {\n",
              "      display:flex;\n",
              "      flex-wrap:wrap;\n",
              "      gap: 12px;\n",
              "    }\n",
              "\n",
              "    .colab-df-convert {\n",
              "      background-color: #E8F0FE;\n",
              "      border: none;\n",
              "      border-radius: 50%;\n",
              "      cursor: pointer;\n",
              "      display: none;\n",
              "      fill: #1967D2;\n",
              "      height: 32px;\n",
              "      padding: 0 0 0 0;\n",
              "      width: 32px;\n",
              "    }\n",
              "\n",
              "    .colab-df-convert:hover {\n",
              "      background-color: #E2EBFA;\n",
              "      box-shadow: 0px 1px 2px rgba(60, 64, 67, 0.3), 0px 1px 3px 1px rgba(60, 64, 67, 0.15);\n",
              "      fill: #174EA6;\n",
              "    }\n",
              "\n",
              "    [theme=dark] .colab-df-convert {\n",
              "      background-color: #3B4455;\n",
              "      fill: #D2E3FC;\n",
              "    }\n",
              "\n",
              "    [theme=dark] .colab-df-convert:hover {\n",
              "      background-color: #434B5C;\n",
              "      box-shadow: 0px 1px 3px 1px rgba(0, 0, 0, 0.15);\n",
              "      filter: drop-shadow(0px 1px 2px rgba(0, 0, 0, 0.3));\n",
              "      fill: #FFFFFF;\n",
              "    }\n",
              "  </style>\n",
              "\n",
              "      <script>\n",
              "        const buttonEl =\n",
              "          document.querySelector('#df-2cbc7c95-b1ac-4f91-85de-bb617df8a160 button.colab-df-convert');\n",
              "        buttonEl.style.display =\n",
              "          google.colab.kernel.accessAllowed ? 'block' : 'none';\n",
              "\n",
              "        async function convertToInteractive(key) {\n",
              "          const element = document.querySelector('#df-2cbc7c95-b1ac-4f91-85de-bb617df8a160');\n",
              "          const dataTable =\n",
              "            await google.colab.kernel.invokeFunction('convertToInteractive',\n",
              "                                                     [key], {});\n",
              "          if (!dataTable) return;\n",
              "\n",
              "          const docLinkHtml = 'Like what you see? Visit the ' +\n",
              "            '<a target=\"_blank\" href=https://colab.research.google.com/notebooks/data_table.ipynb>data table notebook</a>'\n",
              "            + ' to learn more about interactive tables.';\n",
              "          element.innerHTML = '';\n",
              "          dataTable['output_type'] = 'display_data';\n",
              "          await google.colab.output.renderOutput(dataTable, element);\n",
              "          const docLink = document.createElement('div');\n",
              "          docLink.innerHTML = docLinkHtml;\n",
              "          element.appendChild(docLink);\n",
              "        }\n",
              "      </script>\n",
              "    </div>\n",
              "  </div>\n",
              "  "
            ]
          },
          "metadata": {},
          "execution_count": 60
        }
      ],
      "source": [
        "df_sample"
      ]
    },
    {
      "cell_type": "code",
      "execution_count": 63,
      "metadata": {
        "id": "zK2lRBsWW2bt"
      },
      "outputs": [],
      "source": [
        "t = ParsBertDataset(df_sample, tokenizer, max_length=100)  # Assuming 'tokenizer' is already defined\n",
        "\n",
        "# Create the DataLoader\n",
        "sampleloader = DataLoader(dataset=t, batch_size=1, drop_last=True)"
      ]
    },
    {
      "cell_type": "code",
      "execution_count": 64,
      "metadata": {
        "id": "QiDb5rQgXqc9",
        "colab": {
          "base_uri": "https://localhost:8080/",
          "height": 307
        },
        "outputId": "11a98054-3cc6-4369-c878-0763bc5656c6"
      },
      "outputs": [
        {
          "output_type": "stream",
          "name": "stderr",
          "text": [
            "\n",
            "  0%|          | 0/12 [00:00<?, ?it/s]\u001b[A/usr/local/lib/python3.10/dist-packages/transformers/tokenization_utils_base.py:2364: FutureWarning: The `pad_to_max_length` argument is deprecated and will be removed in a future version, use `padding=True` or `padding='longest'` to pad to the longest sequence in the batch, or use `padding='max_length'` to pad to a max length. In this case, you can give a specific length with `max_length` (e.g. `max_length=45`) or leave max_length to None to pad to the maximal input size of the model (e.g. 512 for Bert).\n",
            "  warnings.warn(\n"
          ]
        },
        {
          "output_type": "error",
          "ename": "ValueError",
          "evalue": "ignored",
          "traceback": [
            "\u001b[0;31m---------------------------------------------------------------------------\u001b[0m",
            "\u001b[0;31mValueError\u001b[0m                                Traceback (most recent call last)",
            "\u001b[0;32m<ipython-input-64-b89aead61e9f>\u001b[0m in \u001b[0;36m<cell line: 3>\u001b[0;34m()\u001b[0m\n\u001b[1;32m      5\u001b[0m     \u001b[0mall_preds\u001b[0m \u001b[0;34m=\u001b[0m \u001b[0;34m[\u001b[0m\u001b[0;34m]\u001b[0m\u001b[0;34m\u001b[0m\u001b[0;34m\u001b[0m\u001b[0m\n\u001b[1;32m      6\u001b[0m \u001b[0;34m\u001b[0m\u001b[0m\n\u001b[0;32m----> 7\u001b[0;31m     \u001b[0;32mfor\u001b[0m \u001b[0mbatch\u001b[0m\u001b[0;34m,\u001b[0m \u001b[0mdl\u001b[0m \u001b[0;32min\u001b[0m \u001b[0msampleloader\u001b[0m\u001b[0;34m:\u001b[0m\u001b[0;34m\u001b[0m\u001b[0;34m\u001b[0m\u001b[0m\n\u001b[0m\u001b[1;32m      8\u001b[0m         \u001b[0mids\u001b[0m \u001b[0;34m=\u001b[0m \u001b[0mdl\u001b[0m\u001b[0;34m[\u001b[0m\u001b[0;34m'ids'\u001b[0m\u001b[0;34m]\u001b[0m\u001b[0;34m.\u001b[0m\u001b[0mto\u001b[0m\u001b[0;34m(\u001b[0m\u001b[0mdevice\u001b[0m\u001b[0;34m)\u001b[0m\u001b[0;34m\u001b[0m\u001b[0;34m\u001b[0m\u001b[0m\n\u001b[1;32m      9\u001b[0m         \u001b[0mtoken_type_ids\u001b[0m \u001b[0;34m=\u001b[0m \u001b[0mdl\u001b[0m\u001b[0;34m[\u001b[0m\u001b[0;34m'token_type_ids'\u001b[0m\u001b[0;34m]\u001b[0m\u001b[0;34m.\u001b[0m\u001b[0mto\u001b[0m\u001b[0;34m(\u001b[0m\u001b[0mdevice\u001b[0m\u001b[0;34m)\u001b[0m\u001b[0;34m\u001b[0m\u001b[0;34m\u001b[0m\u001b[0m\n",
            "\u001b[0;31mValueError\u001b[0m: too many values to unpack (expected 2)"
          ]
        },
        {
          "output_type": "stream",
          "name": "stderr",
          "text": []
        }
      ],
      "source": [
        "model.eval()\n",
        "test_loop = tqdm(enumerate(sampleloader), leave=False, total=len(test_dataloader))\n",
        "with torch.no_grad():\n",
        "    all_labels = []\n",
        "    all_preds = []\n",
        "    \n",
        "    for batch, dl in sampleloader:\n",
        "        ids = dl['ids'].to(device)\n",
        "        token_type_ids = dl['token_type_ids'].to(device)\n",
        "        mask = dl['mask'].to(device)\n",
        "        label1 = dl['target'].to(device)\n",
        "        label1 = label1.unsqueeze(1)\n",
        "        \n",
        "        output = model(ids=ids, mask=mask, token_type_ids=token_type_ids)\n",
        "        label1 = label1.squeeze()      \n",
        "        label = pd.get_dummies(label1.cpu())\n",
        "        label = torch.from_numpy(label.values)\n",
        "        label = label.to(device)\n",
        "        label = label.type_as(output)\n",
        "        \n",
        "        pred = torch.argmax(output, dim=1)\n",
        "        label1 = label1.cpu().numpy()\n",
        "        pred = pred.cpu().numpy()\n",
        "        print('preds: ',preds)"
      ]
    }
  ],
  "metadata": {
    "accelerator": "GPU",
    "colab": {
      "provenance": []
    },
    "gpuClass": "standard",
    "kernelspec": {
      "display_name": "Python 3",
      "language": "python",
      "name": "python3"
    },
    "language_info": {
      "codemirror_mode": {
        "name": "ipython",
        "version": 3
      },
      "file_extension": ".py",
      "mimetype": "text/x-python",
      "name": "python",
      "nbconvert_exporter": "python",
      "pygments_lexer": "ipython3",
      "version": "3.10.10"
    },
    "widgets": {
      "application/vnd.jupyter.widget-state+json": {
        "41c26f9b5f4b4b76a1d3809399d5bbfe": {
          "model_module": "@jupyter-widgets/controls",
          "model_name": "HBoxModel",
          "model_module_version": "1.5.0",
          "state": {
            "_dom_classes": [],
            "_model_module": "@jupyter-widgets/controls",
            "_model_module_version": "1.5.0",
            "_model_name": "HBoxModel",
            "_view_count": null,
            "_view_module": "@jupyter-widgets/controls",
            "_view_module_version": "1.5.0",
            "_view_name": "HBoxView",
            "box_style": "",
            "children": [
              "IPY_MODEL_7eb5ca0b484e4e4d847b996f817f4f89",
              "IPY_MODEL_4416b9f5b338452fa2477a8f7d8d8392",
              "IPY_MODEL_8e56f816f9b542c2ba2951c86a1a808a"
            ],
            "layout": "IPY_MODEL_bfb8f580818f461987f8b75da1dc521d"
          }
        },
        "7eb5ca0b484e4e4d847b996f817f4f89": {
          "model_module": "@jupyter-widgets/controls",
          "model_name": "HTMLModel",
          "model_module_version": "1.5.0",
          "state": {
            "_dom_classes": [],
            "_model_module": "@jupyter-widgets/controls",
            "_model_module_version": "1.5.0",
            "_model_name": "HTMLModel",
            "_view_count": null,
            "_view_module": "@jupyter-widgets/controls",
            "_view_module_version": "1.5.0",
            "_view_name": "HTMLView",
            "description": "",
            "description_tooltip": null,
            "layout": "IPY_MODEL_f9137782298246d4b8df38882dd57cb8",
            "placeholder": "​",
            "style": "IPY_MODEL_8c4afc4419f548389c97adb929877992",
            "value": "Downloading (…)lve/main/config.json: 100%"
          }
        },
        "4416b9f5b338452fa2477a8f7d8d8392": {
          "model_module": "@jupyter-widgets/controls",
          "model_name": "FloatProgressModel",
          "model_module_version": "1.5.0",
          "state": {
            "_dom_classes": [],
            "_model_module": "@jupyter-widgets/controls",
            "_model_module_version": "1.5.0",
            "_model_name": "FloatProgressModel",
            "_view_count": null,
            "_view_module": "@jupyter-widgets/controls",
            "_view_module_version": "1.5.0",
            "_view_name": "ProgressView",
            "bar_style": "success",
            "description": "",
            "description_tooltip": null,
            "layout": "IPY_MODEL_7f45df04aba7470f905895835c7ba707",
            "max": 434,
            "min": 0,
            "orientation": "horizontal",
            "style": "IPY_MODEL_0b4287d5d84148e9bd31153b677342d4",
            "value": 434
          }
        },
        "8e56f816f9b542c2ba2951c86a1a808a": {
          "model_module": "@jupyter-widgets/controls",
          "model_name": "HTMLModel",
          "model_module_version": "1.5.0",
          "state": {
            "_dom_classes": [],
            "_model_module": "@jupyter-widgets/controls",
            "_model_module_version": "1.5.0",
            "_model_name": "HTMLModel",
            "_view_count": null,
            "_view_module": "@jupyter-widgets/controls",
            "_view_module_version": "1.5.0",
            "_view_name": "HTMLView",
            "description": "",
            "description_tooltip": null,
            "layout": "IPY_MODEL_f7e1e4a4741b43518a7d7c6316c446e9",
            "placeholder": "​",
            "style": "IPY_MODEL_7b9149f09d054db2ac5f98caaba07fe6",
            "value": " 434/434 [00:00&lt;00:00, 18.2kB/s]"
          }
        },
        "bfb8f580818f461987f8b75da1dc521d": {
          "model_module": "@jupyter-widgets/base",
          "model_name": "LayoutModel",
          "model_module_version": "1.2.0",
          "state": {
            "_model_module": "@jupyter-widgets/base",
            "_model_module_version": "1.2.0",
            "_model_name": "LayoutModel",
            "_view_count": null,
            "_view_module": "@jupyter-widgets/base",
            "_view_module_version": "1.2.0",
            "_view_name": "LayoutView",
            "align_content": null,
            "align_items": null,
            "align_self": null,
            "border": null,
            "bottom": null,
            "display": null,
            "flex": null,
            "flex_flow": null,
            "grid_area": null,
            "grid_auto_columns": null,
            "grid_auto_flow": null,
            "grid_auto_rows": null,
            "grid_column": null,
            "grid_gap": null,
            "grid_row": null,
            "grid_template_areas": null,
            "grid_template_columns": null,
            "grid_template_rows": null,
            "height": null,
            "justify_content": null,
            "justify_items": null,
            "left": null,
            "margin": null,
            "max_height": null,
            "max_width": null,
            "min_height": null,
            "min_width": null,
            "object_fit": null,
            "object_position": null,
            "order": null,
            "overflow": null,
            "overflow_x": null,
            "overflow_y": null,
            "padding": null,
            "right": null,
            "top": null,
            "visibility": null,
            "width": null
          }
        },
        "f9137782298246d4b8df38882dd57cb8": {
          "model_module": "@jupyter-widgets/base",
          "model_name": "LayoutModel",
          "model_module_version": "1.2.0",
          "state": {
            "_model_module": "@jupyter-widgets/base",
            "_model_module_version": "1.2.0",
            "_model_name": "LayoutModel",
            "_view_count": null,
            "_view_module": "@jupyter-widgets/base",
            "_view_module_version": "1.2.0",
            "_view_name": "LayoutView",
            "align_content": null,
            "align_items": null,
            "align_self": null,
            "border": null,
            "bottom": null,
            "display": null,
            "flex": null,
            "flex_flow": null,
            "grid_area": null,
            "grid_auto_columns": null,
            "grid_auto_flow": null,
            "grid_auto_rows": null,
            "grid_column": null,
            "grid_gap": null,
            "grid_row": null,
            "grid_template_areas": null,
            "grid_template_columns": null,
            "grid_template_rows": null,
            "height": null,
            "justify_content": null,
            "justify_items": null,
            "left": null,
            "margin": null,
            "max_height": null,
            "max_width": null,
            "min_height": null,
            "min_width": null,
            "object_fit": null,
            "object_position": null,
            "order": null,
            "overflow": null,
            "overflow_x": null,
            "overflow_y": null,
            "padding": null,
            "right": null,
            "top": null,
            "visibility": null,
            "width": null
          }
        },
        "8c4afc4419f548389c97adb929877992": {
          "model_module": "@jupyter-widgets/controls",
          "model_name": "DescriptionStyleModel",
          "model_module_version": "1.5.0",
          "state": {
            "_model_module": "@jupyter-widgets/controls",
            "_model_module_version": "1.5.0",
            "_model_name": "DescriptionStyleModel",
            "_view_count": null,
            "_view_module": "@jupyter-widgets/base",
            "_view_module_version": "1.2.0",
            "_view_name": "StyleView",
            "description_width": ""
          }
        },
        "7f45df04aba7470f905895835c7ba707": {
          "model_module": "@jupyter-widgets/base",
          "model_name": "LayoutModel",
          "model_module_version": "1.2.0",
          "state": {
            "_model_module": "@jupyter-widgets/base",
            "_model_module_version": "1.2.0",
            "_model_name": "LayoutModel",
            "_view_count": null,
            "_view_module": "@jupyter-widgets/base",
            "_view_module_version": "1.2.0",
            "_view_name": "LayoutView",
            "align_content": null,
            "align_items": null,
            "align_self": null,
            "border": null,
            "bottom": null,
            "display": null,
            "flex": null,
            "flex_flow": null,
            "grid_area": null,
            "grid_auto_columns": null,
            "grid_auto_flow": null,
            "grid_auto_rows": null,
            "grid_column": null,
            "grid_gap": null,
            "grid_row": null,
            "grid_template_areas": null,
            "grid_template_columns": null,
            "grid_template_rows": null,
            "height": null,
            "justify_content": null,
            "justify_items": null,
            "left": null,
            "margin": null,
            "max_height": null,
            "max_width": null,
            "min_height": null,
            "min_width": null,
            "object_fit": null,
            "object_position": null,
            "order": null,
            "overflow": null,
            "overflow_x": null,
            "overflow_y": null,
            "padding": null,
            "right": null,
            "top": null,
            "visibility": null,
            "width": null
          }
        },
        "0b4287d5d84148e9bd31153b677342d4": {
          "model_module": "@jupyter-widgets/controls",
          "model_name": "ProgressStyleModel",
          "model_module_version": "1.5.0",
          "state": {
            "_model_module": "@jupyter-widgets/controls",
            "_model_module_version": "1.5.0",
            "_model_name": "ProgressStyleModel",
            "_view_count": null,
            "_view_module": "@jupyter-widgets/base",
            "_view_module_version": "1.2.0",
            "_view_name": "StyleView",
            "bar_color": null,
            "description_width": ""
          }
        },
        "f7e1e4a4741b43518a7d7c6316c446e9": {
          "model_module": "@jupyter-widgets/base",
          "model_name": "LayoutModel",
          "model_module_version": "1.2.0",
          "state": {
            "_model_module": "@jupyter-widgets/base",
            "_model_module_version": "1.2.0",
            "_model_name": "LayoutModel",
            "_view_count": null,
            "_view_module": "@jupyter-widgets/base",
            "_view_module_version": "1.2.0",
            "_view_name": "LayoutView",
            "align_content": null,
            "align_items": null,
            "align_self": null,
            "border": null,
            "bottom": null,
            "display": null,
            "flex": null,
            "flex_flow": null,
            "grid_area": null,
            "grid_auto_columns": null,
            "grid_auto_flow": null,
            "grid_auto_rows": null,
            "grid_column": null,
            "grid_gap": null,
            "grid_row": null,
            "grid_template_areas": null,
            "grid_template_columns": null,
            "grid_template_rows": null,
            "height": null,
            "justify_content": null,
            "justify_items": null,
            "left": null,
            "margin": null,
            "max_height": null,
            "max_width": null,
            "min_height": null,
            "min_width": null,
            "object_fit": null,
            "object_position": null,
            "order": null,
            "overflow": null,
            "overflow_x": null,
            "overflow_y": null,
            "padding": null,
            "right": null,
            "top": null,
            "visibility": null,
            "width": null
          }
        },
        "7b9149f09d054db2ac5f98caaba07fe6": {
          "model_module": "@jupyter-widgets/controls",
          "model_name": "DescriptionStyleModel",
          "model_module_version": "1.5.0",
          "state": {
            "_model_module": "@jupyter-widgets/controls",
            "_model_module_version": "1.5.0",
            "_model_name": "DescriptionStyleModel",
            "_view_count": null,
            "_view_module": "@jupyter-widgets/base",
            "_view_module_version": "1.2.0",
            "_view_name": "StyleView",
            "description_width": ""
          }
        },
        "219d390b8833455e976fad84d747a75a": {
          "model_module": "@jupyter-widgets/controls",
          "model_name": "HBoxModel",
          "model_module_version": "1.5.0",
          "state": {
            "_dom_classes": [],
            "_model_module": "@jupyter-widgets/controls",
            "_model_module_version": "1.5.0",
            "_model_name": "HBoxModel",
            "_view_count": null,
            "_view_module": "@jupyter-widgets/controls",
            "_view_module_version": "1.5.0",
            "_view_name": "HBoxView",
            "box_style": "",
            "children": [
              "IPY_MODEL_f11255329c8045468b7e7ec41a4c0fdb",
              "IPY_MODEL_3c87a463d6044271a13a994d0ae36f4e",
              "IPY_MODEL_1c32ca4a8bb947118884cea1bd1012ed"
            ],
            "layout": "IPY_MODEL_7cb12486cb0e472ea0983cfbabdae002"
          }
        },
        "f11255329c8045468b7e7ec41a4c0fdb": {
          "model_module": "@jupyter-widgets/controls",
          "model_name": "HTMLModel",
          "model_module_version": "1.5.0",
          "state": {
            "_dom_classes": [],
            "_model_module": "@jupyter-widgets/controls",
            "_model_module_version": "1.5.0",
            "_model_name": "HTMLModel",
            "_view_count": null,
            "_view_module": "@jupyter-widgets/controls",
            "_view_module_version": "1.5.0",
            "_view_name": "HTMLView",
            "description": "",
            "description_tooltip": null,
            "layout": "IPY_MODEL_15906bd4eb6942849fb2c9af3f2c670b",
            "placeholder": "​",
            "style": "IPY_MODEL_f1921c0682c043958a821c85e383af3d",
            "value": "Downloading (…)solve/main/vocab.txt: 100%"
          }
        },
        "3c87a463d6044271a13a994d0ae36f4e": {
          "model_module": "@jupyter-widgets/controls",
          "model_name": "FloatProgressModel",
          "model_module_version": "1.5.0",
          "state": {
            "_dom_classes": [],
            "_model_module": "@jupyter-widgets/controls",
            "_model_module_version": "1.5.0",
            "_model_name": "FloatProgressModel",
            "_view_count": null,
            "_view_module": "@jupyter-widgets/controls",
            "_view_module_version": "1.5.0",
            "_view_name": "ProgressView",
            "bar_style": "success",
            "description": "",
            "description_tooltip": null,
            "layout": "IPY_MODEL_1148507176344180921731d35c334a56",
            "max": 1215509,
            "min": 0,
            "orientation": "horizontal",
            "style": "IPY_MODEL_f3ba496b962d4fd2a7e73dfe680c2c03",
            "value": 1215509
          }
        },
        "1c32ca4a8bb947118884cea1bd1012ed": {
          "model_module": "@jupyter-widgets/controls",
          "model_name": "HTMLModel",
          "model_module_version": "1.5.0",
          "state": {
            "_dom_classes": [],
            "_model_module": "@jupyter-widgets/controls",
            "_model_module_version": "1.5.0",
            "_model_name": "HTMLModel",
            "_view_count": null,
            "_view_module": "@jupyter-widgets/controls",
            "_view_module_version": "1.5.0",
            "_view_name": "HTMLView",
            "description": "",
            "description_tooltip": null,
            "layout": "IPY_MODEL_a631cc173d244e78b895f4442e776a7c",
            "placeholder": "​",
            "style": "IPY_MODEL_65adaf28885a4f778132bcdeab186139",
            "value": " 1.22M/1.22M [00:00&lt;00:00, 3.00MB/s]"
          }
        },
        "7cb12486cb0e472ea0983cfbabdae002": {
          "model_module": "@jupyter-widgets/base",
          "model_name": "LayoutModel",
          "model_module_version": "1.2.0",
          "state": {
            "_model_module": "@jupyter-widgets/base",
            "_model_module_version": "1.2.0",
            "_model_name": "LayoutModel",
            "_view_count": null,
            "_view_module": "@jupyter-widgets/base",
            "_view_module_version": "1.2.0",
            "_view_name": "LayoutView",
            "align_content": null,
            "align_items": null,
            "align_self": null,
            "border": null,
            "bottom": null,
            "display": null,
            "flex": null,
            "flex_flow": null,
            "grid_area": null,
            "grid_auto_columns": null,
            "grid_auto_flow": null,
            "grid_auto_rows": null,
            "grid_column": null,
            "grid_gap": null,
            "grid_row": null,
            "grid_template_areas": null,
            "grid_template_columns": null,
            "grid_template_rows": null,
            "height": null,
            "justify_content": null,
            "justify_items": null,
            "left": null,
            "margin": null,
            "max_height": null,
            "max_width": null,
            "min_height": null,
            "min_width": null,
            "object_fit": null,
            "object_position": null,
            "order": null,
            "overflow": null,
            "overflow_x": null,
            "overflow_y": null,
            "padding": null,
            "right": null,
            "top": null,
            "visibility": null,
            "width": null
          }
        },
        "15906bd4eb6942849fb2c9af3f2c670b": {
          "model_module": "@jupyter-widgets/base",
          "model_name": "LayoutModel",
          "model_module_version": "1.2.0",
          "state": {
            "_model_module": "@jupyter-widgets/base",
            "_model_module_version": "1.2.0",
            "_model_name": "LayoutModel",
            "_view_count": null,
            "_view_module": "@jupyter-widgets/base",
            "_view_module_version": "1.2.0",
            "_view_name": "LayoutView",
            "align_content": null,
            "align_items": null,
            "align_self": null,
            "border": null,
            "bottom": null,
            "display": null,
            "flex": null,
            "flex_flow": null,
            "grid_area": null,
            "grid_auto_columns": null,
            "grid_auto_flow": null,
            "grid_auto_rows": null,
            "grid_column": null,
            "grid_gap": null,
            "grid_row": null,
            "grid_template_areas": null,
            "grid_template_columns": null,
            "grid_template_rows": null,
            "height": null,
            "justify_content": null,
            "justify_items": null,
            "left": null,
            "margin": null,
            "max_height": null,
            "max_width": null,
            "min_height": null,
            "min_width": null,
            "object_fit": null,
            "object_position": null,
            "order": null,
            "overflow": null,
            "overflow_x": null,
            "overflow_y": null,
            "padding": null,
            "right": null,
            "top": null,
            "visibility": null,
            "width": null
          }
        },
        "f1921c0682c043958a821c85e383af3d": {
          "model_module": "@jupyter-widgets/controls",
          "model_name": "DescriptionStyleModel",
          "model_module_version": "1.5.0",
          "state": {
            "_model_module": "@jupyter-widgets/controls",
            "_model_module_version": "1.5.0",
            "_model_name": "DescriptionStyleModel",
            "_view_count": null,
            "_view_module": "@jupyter-widgets/base",
            "_view_module_version": "1.2.0",
            "_view_name": "StyleView",
            "description_width": ""
          }
        },
        "1148507176344180921731d35c334a56": {
          "model_module": "@jupyter-widgets/base",
          "model_name": "LayoutModel",
          "model_module_version": "1.2.0",
          "state": {
            "_model_module": "@jupyter-widgets/base",
            "_model_module_version": "1.2.0",
            "_model_name": "LayoutModel",
            "_view_count": null,
            "_view_module": "@jupyter-widgets/base",
            "_view_module_version": "1.2.0",
            "_view_name": "LayoutView",
            "align_content": null,
            "align_items": null,
            "align_self": null,
            "border": null,
            "bottom": null,
            "display": null,
            "flex": null,
            "flex_flow": null,
            "grid_area": null,
            "grid_auto_columns": null,
            "grid_auto_flow": null,
            "grid_auto_rows": null,
            "grid_column": null,
            "grid_gap": null,
            "grid_row": null,
            "grid_template_areas": null,
            "grid_template_columns": null,
            "grid_template_rows": null,
            "height": null,
            "justify_content": null,
            "justify_items": null,
            "left": null,
            "margin": null,
            "max_height": null,
            "max_width": null,
            "min_height": null,
            "min_width": null,
            "object_fit": null,
            "object_position": null,
            "order": null,
            "overflow": null,
            "overflow_x": null,
            "overflow_y": null,
            "padding": null,
            "right": null,
            "top": null,
            "visibility": null,
            "width": null
          }
        },
        "f3ba496b962d4fd2a7e73dfe680c2c03": {
          "model_module": "@jupyter-widgets/controls",
          "model_name": "ProgressStyleModel",
          "model_module_version": "1.5.0",
          "state": {
            "_model_module": "@jupyter-widgets/controls",
            "_model_module_version": "1.5.0",
            "_model_name": "ProgressStyleModel",
            "_view_count": null,
            "_view_module": "@jupyter-widgets/base",
            "_view_module_version": "1.2.0",
            "_view_name": "StyleView",
            "bar_color": null,
            "description_width": ""
          }
        },
        "a631cc173d244e78b895f4442e776a7c": {
          "model_module": "@jupyter-widgets/base",
          "model_name": "LayoutModel",
          "model_module_version": "1.2.0",
          "state": {
            "_model_module": "@jupyter-widgets/base",
            "_model_module_version": "1.2.0",
            "_model_name": "LayoutModel",
            "_view_count": null,
            "_view_module": "@jupyter-widgets/base",
            "_view_module_version": "1.2.0",
            "_view_name": "LayoutView",
            "align_content": null,
            "align_items": null,
            "align_self": null,
            "border": null,
            "bottom": null,
            "display": null,
            "flex": null,
            "flex_flow": null,
            "grid_area": null,
            "grid_auto_columns": null,
            "grid_auto_flow": null,
            "grid_auto_rows": null,
            "grid_column": null,
            "grid_gap": null,
            "grid_row": null,
            "grid_template_areas": null,
            "grid_template_columns": null,
            "grid_template_rows": null,
            "height": null,
            "justify_content": null,
            "justify_items": null,
            "left": null,
            "margin": null,
            "max_height": null,
            "max_width": null,
            "min_height": null,
            "min_width": null,
            "object_fit": null,
            "object_position": null,
            "order": null,
            "overflow": null,
            "overflow_x": null,
            "overflow_y": null,
            "padding": null,
            "right": null,
            "top": null,
            "visibility": null,
            "width": null
          }
        },
        "65adaf28885a4f778132bcdeab186139": {
          "model_module": "@jupyter-widgets/controls",
          "model_name": "DescriptionStyleModel",
          "model_module_version": "1.5.0",
          "state": {
            "_model_module": "@jupyter-widgets/controls",
            "_model_module_version": "1.5.0",
            "_model_name": "DescriptionStyleModel",
            "_view_count": null,
            "_view_module": "@jupyter-widgets/base",
            "_view_module_version": "1.2.0",
            "_view_name": "StyleView",
            "description_width": ""
          }
        },
        "115d81dea37d48e8ba2c8ac3544de39a": {
          "model_module": "@jupyter-widgets/controls",
          "model_name": "HBoxModel",
          "model_module_version": "1.5.0",
          "state": {
            "_dom_classes": [],
            "_model_module": "@jupyter-widgets/controls",
            "_model_module_version": "1.5.0",
            "_model_name": "HBoxModel",
            "_view_count": null,
            "_view_module": "@jupyter-widgets/controls",
            "_view_module_version": "1.5.0",
            "_view_name": "HBoxView",
            "box_style": "",
            "children": [
              "IPY_MODEL_3adb862c79aa4026a441a68aef020b7c",
              "IPY_MODEL_e0fd69adc95448edb79e3d9feb862ae0",
              "IPY_MODEL_752272a82598494889ce36ad75fc6ac9"
            ],
            "layout": "IPY_MODEL_fda6dd0633974c719079f8f5908f227f"
          }
        },
        "3adb862c79aa4026a441a68aef020b7c": {
          "model_module": "@jupyter-widgets/controls",
          "model_name": "HTMLModel",
          "model_module_version": "1.5.0",
          "state": {
            "_dom_classes": [],
            "_model_module": "@jupyter-widgets/controls",
            "_model_module_version": "1.5.0",
            "_model_name": "HTMLModel",
            "_view_count": null,
            "_view_module": "@jupyter-widgets/controls",
            "_view_module_version": "1.5.0",
            "_view_name": "HTMLView",
            "description": "",
            "description_tooltip": null,
            "layout": "IPY_MODEL_6a8056c52b7f45a2b4c2fa8dea23b70a",
            "placeholder": "​",
            "style": "IPY_MODEL_0eb3da305a4944108653841b242b4838",
            "value": "Downloading pytorch_model.bin: 100%"
          }
        },
        "e0fd69adc95448edb79e3d9feb862ae0": {
          "model_module": "@jupyter-widgets/controls",
          "model_name": "FloatProgressModel",
          "model_module_version": "1.5.0",
          "state": {
            "_dom_classes": [],
            "_model_module": "@jupyter-widgets/controls",
            "_model_module_version": "1.5.0",
            "_model_name": "FloatProgressModel",
            "_view_count": null,
            "_view_module": "@jupyter-widgets/controls",
            "_view_module_version": "1.5.0",
            "_view_name": "ProgressView",
            "bar_style": "success",
            "description": "",
            "description_tooltip": null,
            "layout": "IPY_MODEL_b1e6a28979344e8db5554a5aafca01c2",
            "max": 654186735,
            "min": 0,
            "orientation": "horizontal",
            "style": "IPY_MODEL_ca51740b95594650955a91ac87ad73ed",
            "value": 654186735
          }
        },
        "752272a82598494889ce36ad75fc6ac9": {
          "model_module": "@jupyter-widgets/controls",
          "model_name": "HTMLModel",
          "model_module_version": "1.5.0",
          "state": {
            "_dom_classes": [],
            "_model_module": "@jupyter-widgets/controls",
            "_model_module_version": "1.5.0",
            "_model_name": "HTMLModel",
            "_view_count": null,
            "_view_module": "@jupyter-widgets/controls",
            "_view_module_version": "1.5.0",
            "_view_name": "HTMLView",
            "description": "",
            "description_tooltip": null,
            "layout": "IPY_MODEL_70ed0136f81a4ce985ffb4ee7845eedc",
            "placeholder": "​",
            "style": "IPY_MODEL_e3105824920d4eb489a04674d8c50f53",
            "value": " 654M/654M [00:02&lt;00:00, 279MB/s]"
          }
        },
        "fda6dd0633974c719079f8f5908f227f": {
          "model_module": "@jupyter-widgets/base",
          "model_name": "LayoutModel",
          "model_module_version": "1.2.0",
          "state": {
            "_model_module": "@jupyter-widgets/base",
            "_model_module_version": "1.2.0",
            "_model_name": "LayoutModel",
            "_view_count": null,
            "_view_module": "@jupyter-widgets/base",
            "_view_module_version": "1.2.0",
            "_view_name": "LayoutView",
            "align_content": null,
            "align_items": null,
            "align_self": null,
            "border": null,
            "bottom": null,
            "display": null,
            "flex": null,
            "flex_flow": null,
            "grid_area": null,
            "grid_auto_columns": null,
            "grid_auto_flow": null,
            "grid_auto_rows": null,
            "grid_column": null,
            "grid_gap": null,
            "grid_row": null,
            "grid_template_areas": null,
            "grid_template_columns": null,
            "grid_template_rows": null,
            "height": null,
            "justify_content": null,
            "justify_items": null,
            "left": null,
            "margin": null,
            "max_height": null,
            "max_width": null,
            "min_height": null,
            "min_width": null,
            "object_fit": null,
            "object_position": null,
            "order": null,
            "overflow": null,
            "overflow_x": null,
            "overflow_y": null,
            "padding": null,
            "right": null,
            "top": null,
            "visibility": null,
            "width": null
          }
        },
        "6a8056c52b7f45a2b4c2fa8dea23b70a": {
          "model_module": "@jupyter-widgets/base",
          "model_name": "LayoutModel",
          "model_module_version": "1.2.0",
          "state": {
            "_model_module": "@jupyter-widgets/base",
            "_model_module_version": "1.2.0",
            "_model_name": "LayoutModel",
            "_view_count": null,
            "_view_module": "@jupyter-widgets/base",
            "_view_module_version": "1.2.0",
            "_view_name": "LayoutView",
            "align_content": null,
            "align_items": null,
            "align_self": null,
            "border": null,
            "bottom": null,
            "display": null,
            "flex": null,
            "flex_flow": null,
            "grid_area": null,
            "grid_auto_columns": null,
            "grid_auto_flow": null,
            "grid_auto_rows": null,
            "grid_column": null,
            "grid_gap": null,
            "grid_row": null,
            "grid_template_areas": null,
            "grid_template_columns": null,
            "grid_template_rows": null,
            "height": null,
            "justify_content": null,
            "justify_items": null,
            "left": null,
            "margin": null,
            "max_height": null,
            "max_width": null,
            "min_height": null,
            "min_width": null,
            "object_fit": null,
            "object_position": null,
            "order": null,
            "overflow": null,
            "overflow_x": null,
            "overflow_y": null,
            "padding": null,
            "right": null,
            "top": null,
            "visibility": null,
            "width": null
          }
        },
        "0eb3da305a4944108653841b242b4838": {
          "model_module": "@jupyter-widgets/controls",
          "model_name": "DescriptionStyleModel",
          "model_module_version": "1.5.0",
          "state": {
            "_model_module": "@jupyter-widgets/controls",
            "_model_module_version": "1.5.0",
            "_model_name": "DescriptionStyleModel",
            "_view_count": null,
            "_view_module": "@jupyter-widgets/base",
            "_view_module_version": "1.2.0",
            "_view_name": "StyleView",
            "description_width": ""
          }
        },
        "b1e6a28979344e8db5554a5aafca01c2": {
          "model_module": "@jupyter-widgets/base",
          "model_name": "LayoutModel",
          "model_module_version": "1.2.0",
          "state": {
            "_model_module": "@jupyter-widgets/base",
            "_model_module_version": "1.2.0",
            "_model_name": "LayoutModel",
            "_view_count": null,
            "_view_module": "@jupyter-widgets/base",
            "_view_module_version": "1.2.0",
            "_view_name": "LayoutView",
            "align_content": null,
            "align_items": null,
            "align_self": null,
            "border": null,
            "bottom": null,
            "display": null,
            "flex": null,
            "flex_flow": null,
            "grid_area": null,
            "grid_auto_columns": null,
            "grid_auto_flow": null,
            "grid_auto_rows": null,
            "grid_column": null,
            "grid_gap": null,
            "grid_row": null,
            "grid_template_areas": null,
            "grid_template_columns": null,
            "grid_template_rows": null,
            "height": null,
            "justify_content": null,
            "justify_items": null,
            "left": null,
            "margin": null,
            "max_height": null,
            "max_width": null,
            "min_height": null,
            "min_width": null,
            "object_fit": null,
            "object_position": null,
            "order": null,
            "overflow": null,
            "overflow_x": null,
            "overflow_y": null,
            "padding": null,
            "right": null,
            "top": null,
            "visibility": null,
            "width": null
          }
        },
        "ca51740b95594650955a91ac87ad73ed": {
          "model_module": "@jupyter-widgets/controls",
          "model_name": "ProgressStyleModel",
          "model_module_version": "1.5.0",
          "state": {
            "_model_module": "@jupyter-widgets/controls",
            "_model_module_version": "1.5.0",
            "_model_name": "ProgressStyleModel",
            "_view_count": null,
            "_view_module": "@jupyter-widgets/base",
            "_view_module_version": "1.2.0",
            "_view_name": "StyleView",
            "bar_color": null,
            "description_width": ""
          }
        },
        "70ed0136f81a4ce985ffb4ee7845eedc": {
          "model_module": "@jupyter-widgets/base",
          "model_name": "LayoutModel",
          "model_module_version": "1.2.0",
          "state": {
            "_model_module": "@jupyter-widgets/base",
            "_model_module_version": "1.2.0",
            "_model_name": "LayoutModel",
            "_view_count": null,
            "_view_module": "@jupyter-widgets/base",
            "_view_module_version": "1.2.0",
            "_view_name": "LayoutView",
            "align_content": null,
            "align_items": null,
            "align_self": null,
            "border": null,
            "bottom": null,
            "display": null,
            "flex": null,
            "flex_flow": null,
            "grid_area": null,
            "grid_auto_columns": null,
            "grid_auto_flow": null,
            "grid_auto_rows": null,
            "grid_column": null,
            "grid_gap": null,
            "grid_row": null,
            "grid_template_areas": null,
            "grid_template_columns": null,
            "grid_template_rows": null,
            "height": null,
            "justify_content": null,
            "justify_items": null,
            "left": null,
            "margin": null,
            "max_height": null,
            "max_width": null,
            "min_height": null,
            "min_width": null,
            "object_fit": null,
            "object_position": null,
            "order": null,
            "overflow": null,
            "overflow_x": null,
            "overflow_y": null,
            "padding": null,
            "right": null,
            "top": null,
            "visibility": null,
            "width": null
          }
        },
        "e3105824920d4eb489a04674d8c50f53": {
          "model_module": "@jupyter-widgets/controls",
          "model_name": "DescriptionStyleModel",
          "model_module_version": "1.5.0",
          "state": {
            "_model_module": "@jupyter-widgets/controls",
            "_model_module_version": "1.5.0",
            "_model_name": "DescriptionStyleModel",
            "_view_count": null,
            "_view_module": "@jupyter-widgets/base",
            "_view_module_version": "1.2.0",
            "_view_name": "StyleView",
            "description_width": ""
          }
        }
      }
    }
  },
  "nbformat": 4,
  "nbformat_minor": 0
}